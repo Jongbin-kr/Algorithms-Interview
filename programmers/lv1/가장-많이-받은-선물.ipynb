{
 "cells": [
  {
   "cell_type": "markdown",
   "metadata": {},
   "source": [
    "단순 구현인 것 같다."
   ]
  },
  {
   "cell_type": "code",
   "execution_count": null,
   "metadata": {},
   "outputs": [],
   "source": [
    "from collections import defaultdict\n",
    "\n",
    "def solution(friends, gifts):\n",
    "#     gift_result = defaultdict(list)\n",
    "#     for gift in gifts:\n",
    "#         sender, receiver = gift.split()\n",
    "#         if not gift_index[sender]: gift_index[sender] = [0, 0]\n",
    "#         if not gift_index[receiver]: gift_index[receiver] = [0, 0]\n",
    "        \n",
    "#         gift_index[sender][0] +=1\n",
    "#         gift_index[receiver][1] += 1\n",
    "\n",
    "    gift_result = [[0] * len(friends) for _ in range(len(friends))]\n",
    "    gift_sum = [[0,0,0] for _ in range(len(friends))]\n",
    "    for gift in gifts:\n",
    "        i_sender, i_receiver = map(friends.index, gift.split())\n",
    "        gift_result[i_sender][i_receiver] += 1\n",
    "        \n",
    "        gift_sum[i_sender][0] += 1\n",
    "        gift_sum[i_receiver][1] += 1\n",
    "    \n",
    "    for line in gift_sum:\n",
    "        line[2] = line[0] - line[1]\n",
    "    \n",
    "    print(gift_result)\n",
    "    print(gift_sum)\n",
    "    \n",
    "    \n",
    "    answer = [0] * len(friends)\n",
    "    for i_sender in range(len(friends)):\n",
    "        for i_receiver in range(len(friends)):\n",
    "            if i_sender == i_receiver:\n",
    "                continue\n",
    "                \n",
    "            # 둘이 선물을 주고받은 이력이 있고, 준 사람이 더 많이 준 경우\n",
    "            if gift_result[i_sender][i_receiver] > gift_result[i_receiver][i_sender]:              \n",
    "                    answer[i_sender] += 1\n",
    "                    print(i_sender, '->', i_receiver, 'case 1', answer)\n",
    "                    continue\n",
    "            \n",
    "            # 준 사람의 선물지수가 더 큰 경우\n",
    "            if gift_result[i_sender][i_receiver] == gift_result[i_receiver][i_sender]:\n",
    "                if gift_sum[i_sender][2] > gift_sum[i_receiver][2]: \n",
    "                    answer[i_sender] += 1\n",
    "                    print(i_sender,f'({gift_sum[i_sender][2]})', '->', i_receiver, f'({gift_sum[i_receiver][2]})', 'case 2', answer)\n",
    "                else:\n",
    "                    continue\n",
    "            \n",
    "    print(answer)\n",
    "                \n",
    "    \n",
    "    return max(answer)"
   ]
  },
  {
   "cell_type": "markdown",
   "metadata": {},
   "source": [
    "참고해봄직한 코드\n",
    "\n",
    "- "
   ]
  },
  {
   "cell_type": "code",
   "execution_count": null,
   "metadata": {},
   "outputs": [],
   "source": [
    "def solution(friends, gifts):\n",
    "    f = {v: i for i, v in enumerate(friends)}\n",
    "    l = len(friends)\n",
    "    p = [0] * l\n",
    "    answer = [0] * l\n",
    "    gr = [[0] * l for i in range(l)]\n",
    "    for i in gifts:\n",
    "        a, b = i.split()\n",
    "        gr[f[a]][f[b]] += 1\n",
    "    for i in range(l):\n",
    "        p[i] = sum(gr[i]) - sum([k[i] for k in gr])\n",
    "\n",
    "    for i in range(l):\n",
    "        for j in range(l):\n",
    "            if gr[i][j] > gr[j][i]:\n",
    "                answer[i] += 1\n",
    "            elif gr[i][j] == gr[j][i]:\n",
    "                if p[i] > p[j]:\n",
    "                    answer[i] += 1\n",
    "    return max(answer)"
   ]
  }
 ],
 "metadata": {
  "kernelspec": {
   "display_name": "Python 3",
   "language": "python",
   "name": "python3"
  },
  "language_info": {
   "codemirror_mode": {
    "name": "ipython",
    "version": 3
   },
   "file_extension": ".py",
   "mimetype": "text/x-python",
   "name": "python",
   "nbconvert_exporter": "python",
   "pygments_lexer": "ipython3",
   "version": "3.10.11"
  }
 },
 "nbformat": 4,
 "nbformat_minor": 2
}
