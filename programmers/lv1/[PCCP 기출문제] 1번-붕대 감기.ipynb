{
 "cells": [
  {
   "cell_type": "code",
   "execution_count": null,
   "metadata": {},
   "outputs": [],
   "source": [
    "\"\"\"\n",
    "5 1 5\n",
    "30\n",
    "\n",
    "ts = 0\n",
    "for 2 10\n",
    "ps = 2  -> min(30, 30+(1*1) + 0) = 30 -> 30 - 10 = 20\n",
    "ts=2\n",
    "\n",
    "for 9 15, ts=2\n",
    "ps = 7 -> min(30, 20+(1*6)+(5*1))  = 30 -> 30-15 = 15\n",
    "ts=9\n",
    "\n",
    "for 10 5, ts=9\n",
    "ps = 10-9 = 1 -> min(30, 15+(1*0)+0) = 15 -> 15-5 = 10\n",
    "ts=10\n",
    "\n",
    "for 11, 5   ts=10\n",
    "ps = 11-10 = 1 -> min(30, 11+(1*1)) = 12 - 5 = 7\n",
    "\n",
    "\"\"\"\n",
    "\n",
    "def solution(bandage, health, attacks):\n",
    "    t, x, y = bandage\n",
    "    max_health = now_health = health\n",
    "    timestep = 0\n",
    "    for t_attack, damage in attacks:\n",
    "        passed_time = t_attack - timestep - 1\n",
    "        # 체력 힐, 단 최대 체력 이하로\n",
    "        now_health = min(max_health, now_health + (x * passed_time) + (y * (passed_time // t)))    \n",
    "\n",
    "        \n",
    "        timestep = t_attack     # 시간과 피해량 업데이트\n",
    "        now_health -= damage    # 몬스터 공격량 적용\n",
    "        \n",
    "        if now_health <= 0:     # 죽음 처리\n",
    "            return -1\n",
    "    \n",
    "\n",
    "    answer = now_health\n",
    "    return answer"
   ]
  }
 ],
 "metadata": {
  "language_info": {
   "name": "python"
  }
 },
 "nbformat": 4,
 "nbformat_minor": 2
}
