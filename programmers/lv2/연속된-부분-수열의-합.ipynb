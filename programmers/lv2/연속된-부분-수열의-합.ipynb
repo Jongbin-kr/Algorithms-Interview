{
 "cells": [
  {
   "cell_type": "markdown",
   "metadata": {},
   "source": [
    "1 2 2 2 4 5 \n",
    "1. 뒤에서부터 부분수열 시작\n",
    "2. k보다 해당 부분수열의 값이 작으면 앞에걸 더하고, 크면 뺀다\n",
    "3. 부분수열이 구해진 이후에는, 최대한 앞의 인덱스를 얻고자 맨 끝 값과 다음 값이 같은지 비교\n",
    "3-1. 만약 같으면 한 인덱스 앞으로 이동 후 다시 검사\n",
    "시간 초과가 발생하는 이유는, 매번 sum을 하는 데 시간이 걸려서."
   ]
  },
  {
   "cell_type": "code",
   "execution_count": null,
   "metadata": {},
   "outputs": [],
   "source": [
    "def solution(sequence, k):\n",
    "    start = end = len(sequence)-1   ## 4,4\n",
    "    while True:\n",
    "        sub = (sequence[start:end+1])      # 4:5 ->[5]\n",
    "        if sum(sub) == k:\n",
    "            # print(start, end, sub, f'{sum(sub)} == {k}')\n",
    "            ## 최소 인덱스로 옮기기\n",
    "            while sequence[start-1] == sequence[end] and start >= 1:\n",
    "                start -= 1\n",
    "                end -= 1\n",
    "                # print(start, end, sub, f're {sum(sub)} == {k}')\n",
    "                \n",
    "            # print(start, end, sub, f'final {sum(sub)} == {k}')\n",
    "            return [start, end]\n",
    "        \n",
    "        elif sum(sub) < k:\n",
    "            start -= 1\n",
    "            # print(start, end, sub, f'{sum(sub)} < {k}')\n",
    "        elif sum(sub) > k:\n",
    "            end -= 1\n",
    "            # print(start, end, sub, f'{sum(sub)} > {k}')\n",
    "\n"
   ]
  },
  {
   "cell_type": "code",
   "execution_count": null,
   "metadata": {},
   "outputs": [],
   "source": [
    "def solution(sequence, k):\n",
    "    result = 0      ## [1,2,3,4,5] 7\n",
    "    for i in range(len(sequence))[::-1]:  ## 4,3,2,1,0\n",
    "        result += sequence[i]   # i=2   result=7\n",
    "        if result < k:\n",
    "            continue\n",
    "            \n",
    "        elif result > k:\n",
    "            result -= sequence.pop()\n",
    "            \n",
    "        else:\n",
    "            while (sequence[i-1] == sequence[-1]) and (i > 0):\n",
    "                i -= 1\n",
    "                sequence.pop()\n",
    "            return [i, len(sequence)-1]\n"
   ]
  }
 ],
 "metadata": {
  "language_info": {
   "name": "python"
  }
 },
 "nbformat": 4,
 "nbformat_minor": 2
}
