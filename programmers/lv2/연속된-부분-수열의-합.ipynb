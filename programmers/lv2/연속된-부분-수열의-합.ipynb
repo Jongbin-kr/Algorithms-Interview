{
 "cells": [
  {
   "cell_type": "markdown",
   "metadata": {},
   "source": [
    "1 2 2 2 4 5 \n",
    "1. 뒤에서부터 부분수열 시작\n",
    "2. k보다 해당 부분수열의 값이 작으면 앞에걸 더하고, 크면 뺀다\n",
    "3. 부분수열이 구해진 이후에는, 최대한 앞의 인덱스를 얻고자 맨 끝 값과 다음 값이 같은지 비교\n",
    "\n",
    "3-1. 만약 같으면 한 인덱스 앞으로 이동 후 다시 검사\n",
    "\n",
    "\n",
    "시간 초과가 발생하는 이유는, 매번 sum을 하는 데 시간이 걸려서."
   ]
  },
  {
   "cell_type": "code",
   "execution_count": null,
   "metadata": {},
   "outputs": [],
   "source": [
    "def solution(sequence, k):\n",
    "    start = end = len(sequence)-1   ## 4,4\n",
    "    while True:\n",
    "        sub = (sequence[start:end+1])      # 4:5 ->[5]\n",
    "        if sum(sub) == k:\n",
    "            # print(start, end, sub, f'{sum(sub)} == {k}')\n",
    "            ## 최소 인덱스로 옮기기\n",
    "            while sequence[start-1] == sequence[end] and start >= 1:\n",
    "                start -= 1\n",
    "                end -= 1\n",
    "                # print(start, end, sub, f're {sum(sub)} == {k}')\n",
    "                \n",
    "            # print(start, end, sub, f'final {sum(sub)} == {k}')\n",
    "            return [start, end]\n",
    "        \n",
    "        elif sum(sub) < k:\n",
    "            start -= 1\n",
    "            # print(start, end, sub, f'{sum(sub)} < {k}')\n",
    "        elif sum(sub) > k:\n",
    "            end -= 1\n",
    "            # print(start, end, sub, f'{sum(sub)} > {k}')\n",
    "\n"
   ]
  },
  {
   "cell_type": "code",
   "execution_count": null,
   "metadata": {},
   "outputs": [],
   "source": [
    "def solution(sequence, k):\n",
    "    result = 0      ## [1,2,3,4,5] 7\n",
    "    for i in range(len(sequence))[::-1]:  ## 4,3,2,1,0\n",
    "        result += sequence[i]   # i=2   result=7\n",
    "        if result < k:\n",
    "            continue\n",
    "            \n",
    "        elif result > k:\n",
    "            result -= sequence.pop()\n",
    "            \n",
    "        else:\n",
    "            while (sequence[i-1] == sequence[-1]) and (i > 0):\n",
    "                i -= 1\n",
    "                sequence.pop()\n",
    "            return [i, len(sequence)-1]\n"
   ]
  },
  {
   "cell_type": "markdown",
   "metadata": {},
   "source": [
    "# 1129 다시풀기 (BOJ 11660 풀다가 옴)"
   ]
  },
  {
   "cell_type": "markdown",
   "metadata": {},
   "source": [
    "이중반복문 풀이. 근데 만약 모든 원소의 값이 같은 경우, sort 연산도 $O(n \\log n)$이므로, 최대 $O(n^3 \\log n)$의 연산이라 타임아웃"
   ]
  },
  {
   "cell_type": "code",
   "execution_count": 5,
   "metadata": {},
   "outputs": [
    {
     "data": {
      "text/plain": [
       "[2, 3]"
      ]
     },
     "execution_count": 5,
     "metadata": {},
     "output_type": "execute_result"
    }
   ],
   "source": [
    "def solution(sequence, k):\n",
    "    \n",
    "    answer = []\n",
    "    for start in range(len(sequence)):\n",
    "        accumulated_sum = sequence[start]\n",
    "        for end in range(start+1, len(sequence)):\n",
    "            accumulated_sum += sequence[end]\n",
    "            if accumulated_sum == k:\n",
    "                answer.append((start, end, end-start))\n",
    "    \n",
    "    answer.sort(key=lambda x: (x[2], x[0]))\n",
    "    return [answer[0][0], answer[0][1]]\n",
    "\n",
    "sequence = list(map(int, input().split()))\n",
    "k = int(input())\n",
    "\n",
    "solution(sequence=sequence, k=k)"
   ]
  },
  {
   "cell_type": "markdown",
   "metadata": {},
   "source": [
    "k와 값이 같은 가장 짧은 수열을 찾는다. 길이가 같은 경우, 가장 앞에 나오는 수열을 찾는다.\n",
    "\n",
    "이때, 시퀀스의 마지막에 있는 수부터 시작해 그 앞의 순서를 누적해 더해가는 식으로 k가 되는 시퀀스가 있는지 확인한다.\n",
    "- 뒤부터 확인하는 이유는 비내림차순으로 정렬되어 있기 때문이다. 만약 합이 k인 시퀀스가 두 개 있다면, 뒤에 위치한 시퀀스가 항상 더 짧을 수 밖에 없다.\n",
    "\n",
    "만약 정답이 되는 시퀀스를 찾았다면, 가장 앞에 나오는 수열을 찾아야한다. 따라서 해당 시퀀스의 마지막 숫자와 해당 시퀀스의 바로 앞 숫자가 같은지 체크하면서, 가능한한 앞으로 이동한다.\n",
    "\n",
    "---\n",
    "\n",
    "여전히 시간초과!!!\n",
    "왜? `accumulated_sum > k`라서 else문에 갈 때 마다, len(sequence)를 해야해서?"
   ]
  },
  {
   "cell_type": "code",
   "execution_count": null,
   "metadata": {},
   "outputs": [
    {
     "data": {
      "text/plain": [
       "[0, 2]"
      ]
     },
     "execution_count": 3,
     "metadata": {},
     "output_type": "execute_result"
    }
   ],
   "source": [
    "def solution(sequence, k):\n",
    "    while sequence:\n",
    "        accumulated_sum = 0\n",
    "        for i in range(len(sequence))[::-1]:\n",
    "                        \n",
    "            accumulated_sum += sequence[i]\n",
    "                \n",
    "            if accumulated_sum < k:\n",
    "                continue\n",
    "            \n",
    "            elif accumulated_sum > k:\n",
    "                sequence.pop()\n",
    "                break\n",
    "            \n",
    "            # 누적합이 k와 같아, 답이 될 후보를 찾은 경우\n",
    "            else:\n",
    "                last_idx = len(sequence)-1\n",
    "                while (sequence[i-1] == sequence[last_idx]) and i >= 1:\n",
    "                    i -= 1\n",
    "                    last_idx -= 1\n",
    "                return [i, last_idx]\n"
   ]
  },
  {
   "cell_type": "markdown",
   "metadata": {},
   "source": [
    "1. len(sequence)를 따로 정의해보자 -> 그래도 타임오버\n",
    "\n",
    "---\n",
    "\n",
    "누적합 > k인 경우, 그냥 0으로 초기화해버리는 게 문제구나. 그럼 0 + 맨 마지막 숫자를 더하는 연산을 한번 더 해야한다."
   ]
  },
  {
   "cell_type": "code",
   "execution_count": 10,
   "metadata": {},
   "outputs": [
    {
     "name": "stdout",
     "output_type": "stream",
     "text": [
      "4\n",
      "3\n",
      "3\n",
      "2\n"
     ]
    },
    {
     "data": {
      "text/plain": [
       "[2, 3]"
      ]
     },
     "execution_count": 10,
     "metadata": {},
     "output_type": "execute_result"
    }
   ],
   "source": [
    "def solution(sequence, k):\n",
    "    len_sequence = len(sequence)\n",
    "    while True:\n",
    "        accumulated_sum = 0\n",
    "        for i in range(len_sequence)[::-1]:\n",
    "            print(i)\n",
    "                        \n",
    "            accumulated_sum += sequence[i]\n",
    "                \n",
    "            if accumulated_sum < k:\n",
    "                continue\n",
    "            \n",
    "            elif accumulated_sum > k:\n",
    "                sequence.pop()\n",
    "                len_sequence -= 1\n",
    "                break\n",
    "            \n",
    "            # 누적합이 k와 같아, 답이 될 후보를 찾은 경우\n",
    "            else:\n",
    "                last_idx = len(sequence)-1\n",
    "                while (sequence[i-1] == sequence[last_idx]) and i >= 1:\n",
    "                    i -= 1\n",
    "                    last_idx -= 1\n",
    "                return [i, last_idx]\n",
    "\n",
    "solution([1,2,3,4,5], 7)"
   ]
  },
  {
   "cell_type": "markdown",
   "metadata": {},
   "source": [
    "othodox 풀이.\n",
    "\n",
    "누적합에 게속 더해나가는 것 뿐만 아니라, 뺼 수도 있다!"
   ]
  },
  {
   "cell_type": "code",
   "execution_count": 5,
   "metadata": {},
   "outputs": [
    {
     "name": "stdout",
     "output_type": "stream",
     "text": [
      "4\n",
      "3\n",
      "2\n"
     ]
    },
    {
     "data": {
      "text/plain": [
       "[2, 3]"
      ]
     },
     "execution_count": 5,
     "metadata": {},
     "output_type": "execute_result"
    }
   ],
   "source": [
    "def solution(sequence, k):\n",
    "    accumulated_sum = 0\n",
    "    for i in range(len(sequence))[::-1]:\n",
    "        print(i)\n",
    "        accumulated_sum += sequence[i]\n",
    "            \n",
    "        if accumulated_sum < k:\n",
    "            continue\n",
    "        \n",
    "        elif accumulated_sum > k:\n",
    "            accumulated_sum -= sequence.pop()\n",
    "\n",
    "        # 누적합이 k와 같아, 답이 될 후보를 찾은 경우\n",
    "        else:\n",
    "            last_idx = len(sequence)-1\n",
    "            while (sequence[i-1] == sequence[last_idx]) and i >= 1:\n",
    "                i -= 1\n",
    "                last_idx -= 1\n",
    "            return [i, last_idx]\n",
    "        \n",
    "        \n",
    "solution([1,2,3,4,5], 7)"
   ]
  }
 ],
 "metadata": {
  "kernelspec": {
   "display_name": "Python 3",
   "language": "python",
   "name": "python3"
  },
  "language_info": {
   "codemirror_mode": {
    "name": "ipython",
    "version": 3
   },
   "file_extension": ".py",
   "mimetype": "text/x-python",
   "name": "python",
   "nbconvert_exporter": "python",
   "pygments_lexer": "ipython3",
   "version": "3.10.11"
  }
 },
 "nbformat": 4,
 "nbformat_minor": 2
}
