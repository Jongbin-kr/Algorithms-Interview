{
 "cells": [
  {
   "cell_type": "markdown",
   "metadata": {},
   "source": [
    "정확성은 되는데, 효율성은 다 틀리네...\n",
    "\n",
    "- 문제점: 모든 i,j값을 탐색하고, 석유를 만날 때마다 bfs"
   ]
  },
  {
   "cell_type": "code",
   "execution_count": null,
   "metadata": {},
   "outputs": [],
   "source": [
    "from collections import deque\n",
    "from typing import *\n",
    "from copy import deepcopy\n",
    "\n",
    "def solution(land):\n",
    "    \n",
    "    n = len(land); m = len(land[0]) # 세로길이, 가로\n",
    "    def bfs(i: int, j: int):\n",
    "        to_visit = deque()\n",
    "        temp = []\n",
    "        to_visit.append((i,j))\n",
    "        while to_visit:\n",
    "            y, x = to_visit.popleft()\n",
    "            # 상하좌우에 대해서, 유효한 범위 내에 있고, 석유(1)가 있고\n",
    "            if (y,x) not in temp:\n",
    "                temp.append((y, x))\n",
    "                visited[y][x] = 0   # 방문한 석유는 땅으로 바꾼다.\n",
    "                for dy, dx in [(+1, 0), (-1, 0), (0, +1), (0, -1)]:\n",
    "                    if (0<= y+dy < n) and (0 <= x+dx < m) and \\\n",
    "                    (visited[y+dy][x+dx] == 1):\n",
    "                        to_visit.append((y+dy, x+dx))\n",
    "                    \n",
    "        return len(temp), visited\n",
    "    \n",
    "    \n",
    "    answer = 0\n",
    "    for j in range(m):\n",
    "        temp = 0\n",
    "        visited = deepcopy(land)\n",
    "        for i in range(n):\n",
    "            if visited[i][j] == 1:  # 석유가 있는 땅을 만나면, bfs 돌린다\n",
    "                output, visited = bfs(i, j)   # bfs 돌려서 나온 석유양만큼 \n",
    "                print(i, j, output)\n",
    "                temp += output\n",
    "        \n",
    "        answer = max(answer, temp)\n",
    "        \n",
    "    return answer\n"
   ]
  },
  {
   "cell_type": "markdown",
   "metadata": {},
   "source": [
    "다음 풀이.\n",
    "모든 i,j값을 다 탐색하지 말고, 석유를 한번 뽑은 땅은 무시한다. 이때 x범위에 따른 석유값을 리스트로 관리한다.\n",
    "\n"
   ]
  },
  {
   "cell_type": "code",
   "execution_count": null,
   "metadata": {},
   "outputs": [],
   "source": [
    "from collections import deque\n",
    "from typing import *\n",
    "from copy import deepcopy\n",
    "\n",
    "def solution(land):\n",
    "    n = len(land); m = len(land[0]) # 세로길이, 가로\n",
    "    \n",
    "    \n",
    "    def bfs(i: int, j: int):\n",
    "        to_visit = deque()\n",
    "        to_visit.append((i,j))\n",
    "        now_output = []\n",
    "        xs = set()\n",
    "        \n",
    "        while to_visit:\n",
    "            y, x = to_visit.popleft()\n",
    "            # 상하좌우에 대해서, 유효한 범위 내에 있고, 석유(1)가 있고\n",
    "            if (y,x) not in visited:\n",
    "                visited.append((y,x))   # 방문한 석유는 땅으로 바꾼다.\n",
    "                xs.add(x)       # 이번에 뽑은 석유들의 횡방향(x값들만) 따로 관리\n",
    "                now_output.append((y,x))\n",
    "                for dy, dx in [(+1, 0), (-1, 0), (0, +1), (0, -1)]:\n",
    "                    if (0<= y+dy < n) and (0 <= x+dx < m) and land[y+dy][x+dx] == 1:\n",
    "                        to_visit.append((y+dy, x+dx))\n",
    "                    \n",
    "        return len(now_output), xs\n",
    "    \n",
    "    answer = [0] * m\n",
    "    visited = []    ## 석유를 이미 한번 뽑은 블럭들을 저장\n",
    "    temp = 0\n",
    "    for j in range(m):\n",
    "        for i in range(n):\n",
    "            if land[i][j] == 1 and ((i,j) not in visited):  \n",
    "                # 석유가 있는 땅을 만나면, bfs 돌린다\n",
    "                output, xs = bfs(i, j)   # bfs 돌려서 나온 석유양만큼\n",
    "                print(i,j,output)\n",
    "                for x in xs:\n",
    "                    answer[x] += output\n",
    "                print(answer)\n",
    "        \n",
    "    return max(answer)"
   ]
  },
  {
   "cell_type": "markdown",
   "metadata": {},
   "source": [
    "미리 채굴해놓기?"
   ]
  },
  {
   "cell_type": "code",
   "execution_count": null,
   "metadata": {},
   "outputs": [],
   "source": [
    "from collections import deque\n",
    "\n",
    "def bfs(i, j):\n",
    "    to_visit = deque()\n",
    "    visited = []\n",
    "    \n",
    "    to_visit.append((i, j))\n",
    "    for i in range(m)"
   ]
  }
 ],
 "metadata": {
  "language_info": {
   "name": "python"
  }
 },
 "nbformat": 4,
 "nbformat_minor": 2
}
