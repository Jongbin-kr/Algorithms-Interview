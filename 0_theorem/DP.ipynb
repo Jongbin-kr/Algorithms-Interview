{
 "cells": [
  {
   "cell_type": "markdown",
   "metadata": {},
   "source": [
    "DP로 문제를 풀기 위한 두 가지 조건\n",
    "1. 큰 문제를 작은 문제로 나눌 수 있는가?\n",
    "2. 작은 문제의 최적해가 큰 문제의 최적해와 일치하는가?"
   ]
  },
  {
   "cell_type": "markdown",
   "metadata": {},
   "source": [
    "DP 테이블을 업데이트해나갈 때, 반드시 이전 DP의 값들로만 해야하는 건 아니다. (참고: 백준 2579)"
   ]
  }
 ],
 "metadata": {
  "language_info": {
   "name": "python"
  }
 },
 "nbformat": 4,
 "nbformat_minor": 2
}
