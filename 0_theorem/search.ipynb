{
 "cells": [
  {
   "cell_type": "markdown",
   "metadata": {},
   "source": [
    "# 선형 탐색\n",
    "- 시간복잡도: $O(N)$\n",
    "    - 최선의 경우, $O(1)$ (첫번째 값)\n",
    "- 공간복잡도: $O(1)$\n",
    "\n",
    "# 이진 탐색\n",
    "**정렬된 경우에만 사용할 수 있다!**\n",
    "- 시간복잡도: $O(\\log n)$\n",
    "    - 최선의 경우, $O(1)$ (첫번째 값)\n",
    "- 공간복잡도: $O(1)$ (단, 재귀의 경우 스택 메모리 때문에 $O(\\log n)$)"
   ]
  },
  {
   "cell_type": "markdown",
   "metadata": {},
   "source": [
    "재귀로 구현"
   ]
  },
  {
   "cell_type": "code",
   "execution_count": null,
   "metadata": {},
   "outputs": [],
   "source": [
    "def binary_search(array, target, start, end):\n",
    "    if start > end:\n",
    "        return None\n",
    "\n",
    "    mid = (start + end) // 2\n",
    "    if array[mid] == target:\n",
    "        return mid\n",
    "    elif array[mid] > target:\n",
    "        return binary_search(array, target, start, end=mid-1)\n",
    "    else:\n",
    "        return binary_search(array, target, start=mid+1, end)"
   ]
  },
  {
   "cell_type": "markdown",
   "metadata": {},
   "source": [
    "반복문으로 구현"
   ]
  },
  {
   "cell_type": "code",
   "execution_count": null,
   "metadata": {},
   "outputs": [],
   "source": [
    "def binary_search(array, target, start, end):\n",
    "    while start <= end:\n",
    "        mid = (start + end) // 2\n",
    "        \n",
    "        if array[mid] == target:\n",
    "            return mid\n",
    "        elif array[mid] > target:\n",
    "            end = mid - 1\n",
    "        else:\n",
    "            start = mid + 1\n",
    "    \n",
    "    return None\n",
    "\n"
   ]
  },
  {
   "cell_type": "markdown",
   "metadata": {},
   "source": [
    "이진탐색 응용: 특정 숫자의 개수 세기 ([출처](BABO 4기 7주차 이진탐색 발제자료))"
   ]
  },
  {
   "cell_type": "code",
   "execution_count": 1,
   "metadata": {},
   "outputs": [
    {
     "data": {
      "text/plain": [
       "10"
      ]
     },
     "execution_count": 1,
     "metadata": {},
     "output_type": "execute_result"
    }
   ],
   "source": [
    "def lowwer_bound(target, arr):\n",
    "    left_idx = 0\n",
    "    right_idx = len(arr) - 1\n",
    "    min_idx = len(arr)\n",
    "    \n",
    "    while left_idx <= right_idx:\n",
    "        mid_idx = (left_idx + right_idx) // 2\n",
    "        \n",
    "        if arr[mid_idx] >= target:\n",
    "            right_idx = mid_idx - 1\n",
    "            min_idx = min(mid_idx, min_idx)\n",
    "        \n",
    "        else:\n",
    "            left_idx = mid_idx + 1\n",
    "    \n",
    "    return min_idx\n",
    "\n",
    "target = 7\n",
    "arr = sorted([1, 1, 2, 2, 2, 3, 4, 5, 5, 6, 7, 7, 7, 7, 8, 9, 10, 10])\n",
    "\n",
    "lowwer_bound(target, arr)"
   ]
  }
 ],
 "metadata": {
  "kernelspec": {
   "display_name": "Python 3",
   "language": "python",
   "name": "python3"
  },
  "language_info": {
   "codemirror_mode": {
    "name": "ipython",
    "version": 3
   },
   "file_extension": ".py",
   "mimetype": "text/x-python",
   "name": "python",
   "nbconvert_exporter": "python",
   "pygments_lexer": "ipython3",
   "version": "3.10.11"
  }
 },
 "nbformat": 4,
 "nbformat_minor": 2
}
