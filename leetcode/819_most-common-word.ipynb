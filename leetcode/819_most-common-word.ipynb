{
 "cells": [
  {
   "cell_type": "code",
   "execution_count": null,
   "metadata": {},
   "outputs": [],
   "source": [
    "class Solution:\n",
    "    def mostCommonWord(self, paragraph: str, banned: List[str]) -> str:\n",
    "        ## cleanse words with punctuations and banned words\n",
    "        import re\n",
    "        cleansed_paragraph = re.findall('[a-zA-Z]+', paragraph.lower())\n",
    "\n",
    "        words = [word for word in cleansed_paragraph\n",
    "                                if word not in banned]\n",
    "\n",
    "        from collections import Counter\n",
    "        word_freq = Counter(words)\n",
    "\n",
    "        return word_freq.most_common(1)[0][0]"
   ]
  }
 ],
 "metadata": {
  "language_info": {
   "name": "python"
  },
  "orig_nbformat": 4
 },
 "nbformat": 4,
 "nbformat_minor": 2
}
