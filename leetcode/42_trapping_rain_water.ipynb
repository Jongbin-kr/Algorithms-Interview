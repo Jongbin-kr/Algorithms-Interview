{
 "cells": [
  {
   "cell_type": "markdown",
   "metadata": {},
   "source": [
    "`max()`함수\n",
    "- `max(iterable)` 형태로 사용시 iterable 내에서 가장 큰 놈\n",
    "- `max(iterable, iterable,...)` 형태로 사용시 iterable끼리 대소비교. 이때 iterable간의 대소비교는 맨 앞의 원소부터 하나씩 대소를 비교한다."
   ]
  },
  {
   "cell_type": "code",
   "execution_count": null,
   "metadata": {},
   "outputs": [],
   "source": [
    "class Solution(object):\n",
    "    def trap(self, height):\n",
    "        \"\"\"\n",
    "        :type height: List[int]\n",
    "        :rtype: int\n",
    "        \"\"\"\n",
    "        \n",
    "        if len(height) <=2:\n",
    "            return 0 \n",
    "\n",
    "        left_index, right_index = 0, len(height)-1\n",
    "        left_max, right_max = height[left_index], height[right_index]\n",
    "\n",
    "        max_index = height.index(max(height))\n",
    "\n",
    "        volume = 0\n",
    "        while left_index <= max_index:\n",
    "            left_max = max(left_max, height[left_index])\n",
    "            volume += left_max - height[left_index]\n",
    "            left_index += 1\n",
    "\n",
    "        while right_index >= max_index:\n",
    "            right_max = max(right_max, height[right_index])\n",
    "            volume += right_max - height[right_index]\n",
    "            right_index -= 1\n",
    "\n",
    "        return volume"
   ]
  }
 ],
 "metadata": {
  "language_info": {
   "name": "python"
  }
 },
 "nbformat": 4,
 "nbformat_minor": 2
}
