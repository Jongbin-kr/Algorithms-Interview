{
  "cells": [
    {
      "cell_type": "code",
      "execution_count": null,
      "metadata": {},
      "outputs": [],
      "source": [
        "class Solution:\n",
        "    def reorderLogFiles(self, logs: List[str]) -> List[str]:\n",
        "        letter_logs =[]\n",
        "        digit_logs = []\n",
        "\n",
        "        ## categorize logs into digit or letter\n",
        "        for log in logs:\n",
        "            identifier, content = log.split(' ', 1)\n",
        "            ## if identifier == digit, just append to digit_logs list\n",
        "            if content.replace(' ','').isdigit():\n",
        "                digit_logs.append(identifier + ' ' + content)\n",
        "            \n",
        "            else:\n",
        "                letter_logs.append((identifier, content))\n",
        "        \n",
        "        letter_logs.sort(key = lambda x:(x[1], x[0]))\n",
        "\n",
        "        ## convert back (iden, content) tuple into string\n",
        "        letter_logs = [' '.join([i, c]) for i, c in letter_logs]\n",
        "\n",
        "        return letter_logs + digit_logs\n",
        "        "
      ]
    }
  ],
  "metadata": {
    "anaconda-cloud": {},
    "kernelspec": {
      "display_name": "Python 3",
      "language": "python",
      "name": "python3"
    },
    "language_info": {
      "codemirror_mode": {
        "name": "ipython",
        "version": 3
      },
      "file_extension": ".py",
      "mimetype": "text/x-python",
      "name": "python",
      "nbconvert_exporter": "python",
      "pygments_lexer": "ipython3",
      "version": "3.6.1"
    }
  },
  "nbformat": 4,
  "nbformat_minor": 4
}
