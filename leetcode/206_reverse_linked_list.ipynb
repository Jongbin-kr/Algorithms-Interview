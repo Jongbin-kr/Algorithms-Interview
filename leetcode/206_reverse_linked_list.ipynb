{
 "cells": [
  {
   "cell_type": "code",
   "execution_count": 5,
   "metadata": {},
   "outputs": [],
   "source": [
    "from typing import *\n",
    "from utils import show_node"
   ]
  },
  {
   "cell_type": "code",
   "execution_count": null,
   "metadata": {},
   "outputs": [],
   "source": [
    "class ListNode:\n",
    "    def __init__(self, val=0, next=None):\n",
    "        self.val = val\n",
    "        self.next = next"
   ]
  },
  {
   "cell_type": "code",
   "execution_count": null,
   "metadata": {},
   "outputs": [],
   "source": [
    "class Solution:\n",
    "    def reverseList(self, head: Optional[ListNode]) -> Optional[ListNode]:\n",
    "        reversed_list = None\n",
    "        while head:\n",
    "            if reversed_list is None:\n",
    "                next = head.next if head.next else None\n",
    "                reversed_list, reversed_list.next = head, reversed_list     ## 여기서 참조하는 과정 주의하자!! reversed_list = head가 되면서 동일참조가 되어버린다.\n",
    "                head = next     ## 동일참조가 되었던 부분 다시 되돌리기\n",
    "            else:\n",
    "                next = head.next if head.next else None\n",
    "                reversed_list, reversed_list.next = head, reversed_list\n",
    "                head = next\n",
    "            \n",
    "        return reversed_list"
   ]
  }
 ],
 "metadata": {
  "kernelspec": {
   "display_name": "Python 3",
   "language": "python",
   "name": "python3"
  },
  "language_info": {
   "codemirror_mode": {
    "name": "ipython",
    "version": 3
   },
   "file_extension": ".py",
   "mimetype": "text/x-python",
   "name": "python",
   "nbconvert_exporter": "python",
   "pygments_lexer": "ipython3",
   "version": "3.10.11"
  }
 },
 "nbformat": 4,
 "nbformat_minor": 2
}
