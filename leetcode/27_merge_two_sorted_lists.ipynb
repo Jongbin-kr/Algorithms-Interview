{
 "cells": [
  {
   "cell_type": "code",
   "execution_count": 11,
   "metadata": {},
   "outputs": [],
   "source": [
    "class ListNode:\n",
    "    def __init__(self, val=0, next=None):\n",
    "        self.val = val\n",
    "        self.next = next"
   ]
  },
  {
   "cell_type": "code",
   "execution_count": 68,
   "metadata": {},
   "outputs": [],
   "source": [
    "def show_list(result):\n",
    "    if not result:\n",
    "        print('X')\n",
    "    while result:\n",
    "        print(result.val)\n",
    "        result = result.next\n",
    "\n",
    "i = 0\n",
    "def mergeTwoLists(l1: ListNode, l2: ListNode) -> ListNode:\n",
    "    global i \n",
    "    i += 1\n",
    "    if (not l1) or (l2 and l1.val > l2.val):\n",
    "        print(f'{i} swap!')\n",
    "        l1, l2 = l2, l1\n",
    "        print(f'{i} swapped l1')\n",
    "        show_list(l1)\n",
    "        print(f'{i} swapped l2')\n",
    "        show_list(l2)\n",
    "        print('==========\\n\\n')\n",
    "        \n",
    "    if l1:\n",
    "        print(f'{i} recursive! ')\n",
    "        print(f'{i} befroe l1')\n",
    "        show_list(l1)\n",
    "        print(f'{i} before l2')\n",
    "        show_list(l2)\n",
    "        print('-----')\n",
    "        \n",
    "        l1.next = mergeTwoLists(l1.next, l2)\n",
    "    \n",
    "    print(f'{i} before return')\n",
    "    show_list(l1)\n",
    "    return l1\n",
    "\n",
    "\n"
   ]
  },
  {
   "cell_type": "code",
   "execution_count": 69,
   "metadata": {},
   "outputs": [
    {
     "name": "stdout",
     "output_type": "stream",
     "text": [
      "1 recursive! \n",
      "1 befroe l1\n",
      "1\n",
      "1 before l2\n",
      "1\n",
      "-----\n",
      "2 swap!\n",
      "2 swapped l1\n",
      "1\n",
      "2 swapped l2\n",
      "X\n",
      "==========\n",
      "\n",
      "\n",
      "2 recursive! \n",
      "2 befroe l1\n",
      "1\n",
      "2 before l2\n",
      "X\n",
      "-----\n",
      "3 swap!\n",
      "3 swapped l1\n",
      "X\n",
      "3 swapped l2\n",
      "X\n",
      "==========\n",
      "\n",
      "\n",
      "3 before return\n",
      "X\n",
      "3 before return\n",
      "1\n",
      "3 before return\n",
      "1\n",
      "1\n"
     ]
    }
   ],
   "source": [
    "l1_2 = ListNode(4)\n",
    "l1_1 = ListNode(2)\n",
    "l1_0 = ListNode(1)\n",
    "\n",
    "l2_2 = ListNode(4)\n",
    "l2_1 = ListNode(3)\n",
    "l2_0 = ListNode(1,)\n",
    "\n",
    "result = mergeTwoLists(l1_0, l2_0)\n",
    "\n"
   ]
  }
 ],
 "metadata": {
  "kernelspec": {
   "display_name": "Python 3",
   "language": "python",
   "name": "python3"
  },
  "language_info": {
   "codemirror_mode": {
    "name": "ipython",
    "version": 3
   },
   "file_extension": ".py",
   "mimetype": "text/x-python",
   "name": "python",
   "nbconvert_exporter": "python",
   "pygments_lexer": "ipython3",
   "version": "3.10.11"
  }
 },
 "nbformat": 4,
 "nbformat_minor": 2
}
