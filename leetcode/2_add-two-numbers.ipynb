{
 "cells": [
  {
   "cell_type": "code",
   "execution_count": null,
   "metadata": {},
   "outputs": [],
   "source": [
    "class Solution:\n",
    "    def addTwoNumbers(self, l1: Optional[ListNode], l2: Optional[ListNode]) -> Optional[ListNode]:\n",
    "        \n",
    "        def add(l1, l2, plus_one=False):\n",
    "            \n",
    "            flag = False\n",
    "            # interpret None as 0\n",
    "            l1_val = l1.val if l1 else 0\n",
    "            l2_val = l2.val if l2 else 0\n",
    "            sum_val = l1_val + l2_val\n",
    "\n",
    "\n",
    "            if plus_one:\n",
    "                sum_val += 1\n",
    "\n",
    "            if sum_val >= 10:\n",
    "                sum_val -= 10\n",
    "                flag = True\n",
    "            \n",
    "            if sum_val == 0 and flag == False:\n",
    "                return None\n",
    "            \n",
    "            sl = ListNode(sum_val)\n",
    "            sl.next = add(l1.next if l1 else None,\n",
    "                          l2.next if l2 else None, \n",
    "                          plus_one=flag)\n",
    "\n",
    "            return sl\n",
    "\n",
    "        \n",
    "        return add(l1, l2)"
   ]
  }
 ],
 "metadata": {
  "language_info": {
   "name": "python"
  }
 },
 "nbformat": 4,
 "nbformat_minor": 2
}
