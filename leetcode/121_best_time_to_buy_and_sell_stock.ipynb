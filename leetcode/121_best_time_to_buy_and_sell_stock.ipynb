{
 "cells": [
  {
   "cell_type": "markdown",
   "metadata": {},
   "source": [
    "내 손으로 풀었다!"
   ]
  },
  {
   "cell_type": "code",
   "execution_count": null,
   "metadata": {},
   "outputs": [],
   "source": [
    "class Solution(object):\n",
    "    def maxProfit(self, prices):\n",
    "        \"\"\"\n",
    "        :type prices: List[int]\n",
    "        :rtype: int\n",
    "        \"\"\"\n",
    "\n",
    "        profit = 0\n",
    "        min_price = prices[0]\n",
    "\n",
    "        for i in range(len(prices)):\n",
    "            min_price = min(min_price, prices[i])\n",
    "            profit = max(profit, prices[i] - min_price)\n",
    "        \n",
    "\n",
    "        return profit\n"
   ]
  }
 ],
 "metadata": {
  "language_info": {
   "name": "python"
  }
 },
 "nbformat": 4,
 "nbformat_minor": 2
}
