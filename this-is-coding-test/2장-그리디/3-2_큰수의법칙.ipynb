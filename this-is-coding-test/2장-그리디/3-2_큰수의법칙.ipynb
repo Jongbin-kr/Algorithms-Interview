{
 "cells": [
  {
   "cell_type": "code",
   "execution_count": 7,
   "metadata": {},
   "outputs": [],
   "source": [
    "def large_sum(array, m, k):\n",
    "    array.sort()\n",
    "    a, b = array[-1], array[-2]\n",
    "    \n",
    "    result = 0\n",
    "    for n in range(1, m+1):\n",
    "        if n != 1 and (n % k) == 1:\n",
    "            result += b\n",
    "        else:\n",
    "            result += a\n",
    "    \n",
    "    return result"
   ]
  },
  {
   "cell_type": "code",
   "execution_count": 9,
   "metadata": {},
   "outputs": [
    {
     "data": {
      "text/plain": [
       "46"
      ]
     },
     "execution_count": 9,
     "metadata": {},
     "output_type": "execute_result"
    }
   ],
   "source": [
    "_, m, k = map(int, input().split())\n",
    "array = list(map(int, input().split()))\n",
    "\n",
    "large_sum(array, m, k)"
   ]
  }
 ],
 "metadata": {
  "kernelspec": {
   "display_name": "Python 3",
   "language": "python",
   "name": "python3"
  },
  "language_info": {
   "codemirror_mode": {
    "name": "ipython",
    "version": 3
   },
   "file_extension": ".py",
   "mimetype": "text/x-python",
   "name": "python",
   "nbconvert_exporter": "python",
   "pygments_lexer": "ipython3",
   "version": "3.10.11"
  }
 },
 "nbformat": 4,
 "nbformat_minor": 2
}
