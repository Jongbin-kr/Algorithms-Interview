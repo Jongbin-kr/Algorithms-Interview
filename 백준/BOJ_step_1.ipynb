{
 "cells": [
  {
   "cell_type": "code",
   "execution_count": null,
   "metadata": {},
   "outputs": [],
   "source": [
    "## BOJ 2588\n",
    "a = int(input())\n",
    "b3, b2, b1 = map(int, list(input()))\n",
    "\n",
    "r1 = b1 * a\n",
    "r2 = b2 * a\n",
    "r3 = b3 * a\n",
    "print(r1)\n",
    "print(r2)\n",
    "print(r3)\n",
    "print(r1 + r2* 10 + r3 * 100)"
   ]
  },
  {
   "cell_type": "code",
   "execution_count": null,
   "metadata": {},
   "outputs": [],
   "source": [
    "## BOJ 11382\n",
    "a, b, c = map(int(), input().split())\n",
    "\n",
    "print(a+b+c)"
   ]
  }
 ],
 "metadata": {
  "kernelspec": {
   "display_name": "Python 3",
   "language": "python",
   "name": "python3"
  },
  "language_info": {
   "codemirror_mode": {
    "name": "ipython",
    "version": 3
   },
   "file_extension": ".py",
   "mimetype": "text/x-python",
   "name": "python",
   "nbconvert_exporter": "python",
   "pygments_lexer": "ipython3",
   "version": "3.11.1"
  },
  "orig_nbformat": 4
 },
 "nbformat": 4,
 "nbformat_minor": 2
}
