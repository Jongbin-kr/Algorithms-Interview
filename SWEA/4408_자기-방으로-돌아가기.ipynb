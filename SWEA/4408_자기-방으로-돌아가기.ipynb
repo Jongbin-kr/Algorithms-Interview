{
 "cells": [
  {
   "cell_type": "code",
   "execution_count": null,
   "metadata": {},
   "outputs": [],
   "source": [
    "from collections import deque\n",
    " \n",
    "def convert_to_corridor(point):\n",
    "    if point % 2:\n",
    "        return (point + 1) // 2\n",
    "    else:\n",
    "        return point // 2\n",
    " \n",
    "T_testcases = int(input())\n",
    "for nth_testcase in range(1, T_testcases+1):\n",
    "    students = []\n",
    "    for _ in range(int(input())):\n",
    "        start, end = sorted(map(int, input().split()))\n",
    "        start = convert_to_corridor(start)\n",
    "        end = convert_to_corridor(end)\n",
    "        students.append((start, end, 1)) # 시작점, 끝점, 합쳐진 구간의 개수\n",
    "             \n",
    "    students.sort(key=lambda x: x[0])\n",
    "    students = deque(students)\n",
    "    max_latency = 1\n",
    "    while len(students) > 1:\n",
    "        start, end, latency = students.popleft()\n",
    "        n_start, n_end, n_latency = students.popleft()\n",
    "        if n_start <= end:\n",
    "            latency += 1\n",
    "            max_latency = max(max_latency, latency)\n",
    "            students.appendleft((start, max(end, n_end), latency))\n",
    "         \n",
    "        else:\n",
    "            students.appendleft((n_start, n_end, n_latency))\n",
    " \n",
    " \n",
    "    print(f\"#{nth_testcase} {max_latency}\")"
   ]
  },
  {
   "cell_type": "markdown",
   "metadata": {},
   "source": [
    "회의실 배정이랑 같은 문제인 줄 알았는데, 전혀 다른 문제구나?!\n",
    "\n",
    "https://sogogi486.tistory.com/44"
   ]
  },
  {
   "cell_type": "code",
   "execution_count": null,
   "metadata": {},
   "outputs": [
    {
     "name": "stdout",
     "output_type": "stream",
     "text": [
      "#1 1\n",
      "#2 2\n",
      "#3 3\n"
     ]
    }
   ],
   "source": [
    "T_testcases = int(input())\n",
    " \n",
    "for testcase in range(1, T_testcases+1):\n",
    "    corridors = [0] * 201\n",
    "     \n",
    "    for _ in range(int(input())):\n",
    "        start, end = sorted(map(int, input().split()))\n",
    "        # convert start, end to corridor\n",
    "        start = (start + 1) // 2\n",
    "        end = (end + 1) // 2\n",
    "         \n",
    "        for i in range(start, end+1):\n",
    "            corridors[i] += 1\n",
    "             \n",
    "    print(f\"#{testcase} {max(corridors)}\")"
   ]
  }
 ],
 "metadata": {
  "language_info": {
   "name": "python"
  }
 },
 "nbformat": 4,
 "nbformat_minor": 2
}
