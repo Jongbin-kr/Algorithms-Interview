{
 "cells": [
  {
   "cell_type": "code",
   "execution_count": null,
   "metadata": {},
   "outputs": [],
   "source": [
    "from heapq import heappush, heappop\n",
    "\n",
    "dists = [float('inf') * (n+1)]\n",
    "\n",
    "def dijkstra(start):\n",
    "    to_visit = []\n",
    "    heappush(to_visit, (0, start))\n",
    "    dists[start] = 0\n",
    "    \n",
    "    while to_visit:\n",
    "        current_dist, nearest_node = heappop(to_visit)\n",
    "        \n",
    "        if dists[nearest_node] < current_dist:\n",
    "            continue\n",
    "        \n",
    "        for to_node, dist in graph[nearest_node]:\n",
    "            detouring_dist = current_dist + dist\n",
    "            if detouring_dist < dists[to_node]:\n",
    "                dists[to_node] = detouring_dist\n",
    "                heappush(to_visit, (detouring_dist, to_node))"
   ]
  },
  {
   "cell_type": "code",
   "execution_count": null,
   "metadata": {},
   "outputs": [],
   "source": [
    "def dijkstra(start):\n",
    "    to_visit = []\n",
    "    heappush(to_visit, (0, start))\n",
    "    dists[start] = 0\n",
    "    \n",
    "    while to_visit:\n",
    "        current_dist, nearest_node = heappop(to_visit)\n",
    "        \n",
    "        if dists[nearest_node] < current_dist:\n",
    "            continue\n",
    "        \n",
    "        for dist, to_node in graph[nearest_node]:\n",
    "            detouring_dist = current_dist + dist\n",
    "            if detouring_dist < dists[nearest_node]:\n",
    "                dists[to_node] = current_dist + dist\n",
    "                \n",
    "                heappush(to_visit, (detouring_dist, to_node))"
   ]
  },
  {
   "cell_type": "code",
   "execution_count": 9,
   "metadata": {},
   "outputs": [
    {
     "name": "stdout",
     "output_type": "stream",
     "text": [
      "[(2, 0)]\n",
      "[(2, 0), (2, 100), (5, 8), (3, 7)]\n"
     ]
    },
    {
     "data": {
      "text/plain": [
       "(3, 7)"
      ]
     },
     "execution_count": 9,
     "metadata": {},
     "output_type": "execute_result"
    }
   ],
   "source": [
    "from heapq import heappop, heappush\n",
    "\n",
    "to_visit = []\n",
    "heappush(to_visit, (2, 0))\n",
    "print(to_visit)\n",
    "\n",
    "heappush(to_visit, (3,7))\n",
    "heappush(to_visit, (5,8))\n",
    "heappush(to_visit, (2,100))\n",
    "\n",
    "print(to_visit)\n",
    "heappop(to_visit)\n",
    "heappop(to_visit)\n",
    "heappop(to_visit)"
   ]
  },
  {
   "cell_type": "code",
   "execution_count": 8,
   "metadata": {},
   "outputs": [
    {
     "name": "stdout",
     "output_type": "stream",
     "text": [
      "[(0, 2)]\n",
      "[(0, 2), (2, 100), (8, 5), (7, 3)]\n"
     ]
    },
    {
     "data": {
      "text/plain": [
       "(7, 3)"
      ]
     },
     "execution_count": 8,
     "metadata": {},
     "output_type": "execute_result"
    }
   ],
   "source": [
    "from heapq import heappop, heappush\n",
    "\n",
    "to_visit = []\n",
    "heappush(to_visit, (0,2))\n",
    "print(to_visit)\n",
    "\n",
    "heappush(to_visit, (7,3))\n",
    "heappush(to_visit, (8,5))\n",
    "heappush(to_visit, (2,100))\n",
    "\n",
    "\n",
    "print(to_visit)\n",
    "heappop(to_visit)\n",
    "heappop(to_visit)\n",
    "heappop(to_visit)"
   ]
  },
  {
   "cell_type": "code",
   "execution_count": null,
   "metadata": {},
   "outputs": [],
   "source": [
    "def dijkstra(start):\n",
    "    to_visit = []\n",
    "    heappush((0, start))\n",
    "    dists[start] = 0\n",
    "    \n",
    "    while to_visit:\n",
    "        current_dist, current_node = heappop(to_visit)\n",
    "        \n",
    "        if dists[current_node] < current_dist:\n",
    "            continue\n",
    "        \n",
    "        for to_node, dist in graph[current_node]:\n",
    "            detouring_dist = dist + current_dist\n",
    "            \n",
    "            if detouring_dist < dists[to_node]:\n",
    "                dists[to_node] = detouring_dist\n",
    "                heappush(to_visit, (detouring_dist, to_node))"
   ]
  }
 ],
 "metadata": {
  "kernelspec": {
   "display_name": "Python 3",
   "language": "python",
   "name": "python3"
  },
  "language_info": {
   "codemirror_mode": {
    "name": "ipython",
    "version": 3
   },
   "file_extension": ".py",
   "mimetype": "text/x-python",
   "name": "python",
   "nbconvert_exporter": "python",
   "pygments_lexer": "ipython3",
   "version": "3.10.11"
  }
 },
 "nbformat": 4,
 "nbformat_minor": 2
}
