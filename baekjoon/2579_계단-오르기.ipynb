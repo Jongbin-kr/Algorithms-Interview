{
 "cells": [
  {
   "cell_type": "markdown",
   "metadata": {},
   "source": [
    "1. 계단은 한 번에 한 계딴, 또는 두 계단\n",
    "2. 연속된 세 계단은 안됨\n",
    "3. 마지막 계단은 반드시 밟아야 한다.\n",
    "    ==> 역순으로 위에서부터 내려오자?\n",
    "    \n",
    "총 점수의 최댓값"
   ]
  },
  {
   "cell_type": "code",
   "execution_count": 2,
   "metadata": {},
   "outputs": [
    {
     "name": "stdout",
     "output_type": "stream",
     "text": [
      "720\n"
     ]
    }
   ],
   "source": [
    "N_steps = int(input())\n",
    "\n",
    "# initialize scores\n",
    "scores = []\n",
    "for _ in range(N_steps):\n",
    "    scores.append(int(input()))\n",
    "scores.reverse()\n",
    "\n",
    "\n",
    "\n",
    "# run DP algo\n",
    "dp = [0] * N_steps\n",
    "combo = [0] * N_steps\n",
    "for i in range(N_steps):\n",
    "\t# initialize dp table\n",
    "\tif i == 0: dp[0] = scores[0]; combo[0] = 1\n",
    "\telif i == 1: dp[1] = scores[0] + scores[1]; combo[1] = 2\n",
    "\telif i == 2: dp[2] = scores[0] + scores[2]; combo[2] = 1\n",
    "\t\n",
    "\t# DP iteration\n",
    "\telse:\n",
    "\t\tif combo[i-1] == 2:\n",
    "\t\t\tdp[i] = dp[i-2] + scores[i]\n",
    "\t\t\tcombo[i] = 1\n",
    "\t\t\t\n",
    "\t\telse: \n",
    "\t\t\tone_step_value = dp[i-1] + scores[i]\n",
    "\t\t\ttwo_step_value = dp[i-2] + scores[i]\n",
    "\t\t\tif one_step_value > two_step_value:\n",
    "\t\t\t\tdp[i] = one_step_value\n",
    "\t\t\t\tcombo[i] = combo[i-1] + 1\n",
    "\t\t\t\n",
    "\t\t\telse:\n",
    "\t\t\t\tdp[i] = two_step_value\n",
    "\t\t\t\tcombo[i] = 1\n",
    "\t\t\t\n",
    "print(dp[-1])"
   ]
  },
  {
   "cell_type": "markdown",
   "metadata": {},
   "source": [
    "위 코드가 틀린 이유?\n",
    "최적 부분구조가 안된다?\n",
    "\n",
    "20 100 200 500 1000\n",
    "20 100     500 1000\n",
    "\n",
    "20 100 200 500\n",
    "20     200 500"
   ]
  },
  {
   "cell_type": "markdown",
   "metadata": {},
   "source": [
    "어차피 `print(dp[-1])`을 하므로, 반드시 맨 마지막 계단을 밟는다."
   ]
  },
  {
   "cell_type": "code",
   "execution_count": 21,
   "metadata": {},
   "outputs": [
    {
     "name": "stdout",
     "output_type": "stream",
     "text": [
      "12\n"
     ]
    }
   ],
   "source": [
    "N_steps = int(input())\n",
    "scores = [0] * (N_steps+1)\n",
    "for i in range(1, N_steps+1):\n",
    "\tscores[i] = int(input())\n",
    "\n",
    "# run DP algo\n",
    "dp = [0] * (N_steps + 1)\n",
    "for i in range(1, N_steps+1):\n",
    "\t# initialize dp table\n",
    "\tif i == 1: dp[1] = scores[1]\n",
    "\telif i == 2: dp[2] = scores[1] + scores[2]\n",
    "\t\n",
    "\t# DP iteration\n",
    "\telse:\n",
    "\t\tdp[i] = max(scores[i] + scores[i-1] + dp[i-3], \n",
    "\t\t\t        scores[i] + dp[i-2])\n",
    "\t\t\t\n",
    "print(dp[-1])"
   ]
  },
  {
   "cell_type": "markdown",
   "metadata": {},
   "source": [
    "교훈: \n",
    "dp[i]를 업데이트 할 때, 반드시 dp 테이블에 있는 값으로만 하지 않아도 된다. 원래의 배열값과 dp값을 적절히 잘 조합하자!"
   ]
  }
 ],
 "metadata": {
  "kernelspec": {
   "display_name": "base",
   "language": "python",
   "name": "python3"
  },
  "language_info": {
   "codemirror_mode": {
    "name": "ipython",
    "version": 3
   },
   "file_extension": ".py",
   "mimetype": "text/x-python",
   "name": "python",
   "nbconvert_exporter": "python",
   "pygments_lexer": "ipython3",
   "version": "3.12.8"
  }
 },
 "nbformat": 4,
 "nbformat_minor": 2
}
