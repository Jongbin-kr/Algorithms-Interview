{
 "cells": [
  {
   "cell_type": "markdown",
   "metadata": {},
   "source": [
    "place-holder를 활용한 풀이!"
   ]
  },
  {
   "cell_type": "code",
   "execution_count": 9,
   "metadata": {},
   "outputs": [
    {
     "name": "stdout",
     "output_type": "stream",
     "text": [
      "8\n"
     ]
    }
   ],
   "source": [
    "# import sys; input = lambda: sys.stdin.readline().rstrip()\n",
    "ns = [0] * 5    # place-holder makes codes a little bit faster\n",
    "for i in range(1, 4):\n",
    "    n = input()\n",
    "    try:\n",
    "        ns[i] = int(n)\n",
    "    except:\n",
    "        pass\n",
    "\n",
    "\n",
    "for i in range(1, 4):\n",
    "    if ns[i] != 0:\n",
    "        ns[i-1] = ns[i] - 1\n",
    "        ns[i+1] = ns[i] + 1\n",
    "\n",
    "\n",
    "result = ns[-1]\n",
    "if result % 3 == 0 and result % 5 == 0: ## 3과 5의 배수이면,\n",
    "    print('FizzBuzz')\n",
    "    \n",
    "elif result % 3 == 0:   ## 3의 배수이면\n",
    "    print('Fizz')\n",
    "    \n",
    "elif result % 5 == 0:   ## 5의 배수이면\n",
    "    print('Buzz')\n",
    "    \n",
    "else:   ## 둘 다 아니면!\n",
    "    print(result)"
   ]
  }
 ],
 "metadata": {
  "kernelspec": {
   "display_name": "Python 3",
   "language": "python",
   "name": "python3"
  },
  "language_info": {
   "codemirror_mode": {
    "name": "ipython",
    "version": 3
   },
   "file_extension": ".py",
   "mimetype": "text/x-python",
   "name": "python",
   "nbconvert_exporter": "python",
   "pygments_lexer": "ipython3",
   "version": "3.10.11"
  }
 },
 "nbformat": 4,
 "nbformat_minor": 2
}
