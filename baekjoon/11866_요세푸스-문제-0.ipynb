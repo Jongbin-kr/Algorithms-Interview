{
 "cells": [
  {
   "cell_type": "markdown",
   "metadata": {},
   "source": [
    "**원형의 배치는 deque로 구현하기 좋구나~**\n",
    "\n",
    "<br>\n",
    "\n",
    "1  1 2 3 4 5 6 7\n",
    "1  2 3 4 5 6 7 1  2\n",
    "2  3 4 5 6 7 1 2  3\n",
    "3  4 5 6 7 1 2    1\n",
    "1  5 6 7 1 2 4    2\n",
    "2  6 7 1 2 4 5    3\n",
    "3  7 1 2 4 5      1\n",
    "1  1 2 4 5 7      2\n",
    "2  2 4 5 7 1      3\n",
    "3  4 5 7 1        1\n",
    "2  5 7 1 4        3\n",
    "1  \n",
    "\n",
    "\n",
    "\n",
    "1 2 3 4 5 6 7 8\n",
    "1 2 3 5 6 7\n"
   ]
  },
  {
   "cell_type": "code",
   "execution_count": 7,
   "metadata": {},
   "outputs": [
    {
     "name": "stdout",
     "output_type": "stream",
     "text": [
      "<,3,6,2,7,5,1,4,>\n"
     ]
    }
   ],
   "source": [
    "from collections import deque\n",
    "\n",
    "N, K = map(int, input().split())\n",
    "\n",
    "q = deque(range(1, N+1))\n",
    "results = []\n",
    "\n",
    "cnt = 1\n",
    "while q:\n",
    "    if cnt == K:\n",
    "        results.append(q.popleft())\n",
    "        cnt = 1\n",
    "        continue\n",
    "    \n",
    "    q.append(q.popleft())\n",
    "    cnt += 1\n",
    "    \n",
    "print(str(results).replace('[', '<').replace(']', '>'))"
   ]
  },
  {
   "cell_type": "code",
   "execution_count": 9,
   "metadata": {},
   "outputs": [
    {
     "name": "stdout",
     "output_type": "stream",
     "text": [
      "<3, 6, 2, 7, 5, 1, 4>\n"
     ]
    }
   ],
   "source": [
    "from collections import deque\n",
    "\n",
    "N, K = map(int, input().split())\n",
    "\n",
    "q = deque(range(1, N+1))\n",
    "results = []\n",
    "\n",
    "cnt = 1\n",
    "while q:\n",
    "    for _ in range(K-1):\n",
    "        q.append(q.popleft())\n",
    "    else:\n",
    "        results.append(q.popleft())\n",
    "    \n",
    "print(str(results).replace('[', '<').replace(']', '>'))"
   ]
  }
 ],
 "metadata": {
  "kernelspec": {
   "display_name": "Python 3",
   "language": "python",
   "name": "python3"
  },
  "language_info": {
   "codemirror_mode": {
    "name": "ipython",
    "version": 3
   },
   "file_extension": ".py",
   "mimetype": "text/x-python",
   "name": "python",
   "nbconvert_exporter": "python",
   "pygments_lexer": "ipython3",
   "version": "3.10.11"
  }
 },
 "nbformat": 4,
 "nbformat_minor": 2
}
