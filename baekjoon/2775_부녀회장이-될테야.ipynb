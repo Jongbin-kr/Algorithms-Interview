{
 "cells": [
  {
   "cell_type": "markdown",
   "metadata": {},
   "source": [
    "2F 0 1 4 10 16\n",
    "1F 0 1 3 6  10 \n",
    "0F 0 1 2 3  4 5 6 7 8 9"
   ]
  },
  {
   "cell_type": "code",
   "execution_count": 21,
   "metadata": {},
   "outputs": [
    {
     "name": "stdout",
     "output_type": "stream",
     "text": [
      "[[0, 1, 2, 3], [0, 1, 3, 6], [0, 1, 4, 10]]\n",
      "6\n",
      "10\n"
     ]
    }
   ],
   "source": [
    "n_testcases = int(input())\n",
    "\n",
    "testcases = []  ## (k_floor, n_ho)\n",
    "max_floor = 0; max_ho = 0\n",
    "for _ in range(n_testcases):\n",
    "    k_floor = int(input()); n_ho = int(input())\n",
    "    max_floor = max(k_floor, max_floor); max_ho = max(n_ho, max_floor)\n",
    "    testcases.append((k_floor, n_ho))\n",
    "    \n",
    "memo = [[0] * (max_ho+1) for _ in range(max_floor+1)]\n",
    "for floor in range(max_floor+1):\n",
    "    for ho in range(max_ho+1):\n",
    "        if floor == 0:\n",
    "            memo[floor][ho] = ho\n",
    "            continue\n",
    "        memo[floor][ho] = sum([memo[floor-1][h] for h in range(ho+1)])\n",
    "\n",
    "for floor, ho in testcases:\n",
    "    print(memo[floor][ho])\n",
    "        "
   ]
  },
  {
   "cell_type": "markdown",
   "metadata": {},
   "source": [
    "reduce 함수를 쓸 수도 있네"
   ]
  },
  {
   "cell_type": "code",
   "execution_count": null,
   "metadata": {},
   "outputs": [],
   "source": [
    "# import sys; input = sys.stdin.readline\n",
    "from functools import reduce\n",
    "population = [list(range(15))]\n",
    "for floor in range(1, 15):\n",
    "    population.append([reduce(lambda x, y: x + y, population[floor - 1][:number + 1]) for number in range(15)])\n",
    "for _ in range(int(input())):\n",
    "    k = int(input())\n",
    "    n = int(input())\n",
    "    print(population[k][n])"
   ]
  }
 ],
 "metadata": {
  "kernelspec": {
   "display_name": "Python 3",
   "language": "python",
   "name": "python3"
  },
  "language_info": {
   "codemirror_mode": {
    "name": "ipython",
    "version": 3
   },
   "file_extension": ".py",
   "mimetype": "text/x-python",
   "name": "python",
   "nbconvert_exporter": "python",
   "pygments_lexer": "ipython3",
   "version": "3.10.11"
  }
 },
 "nbformat": 4,
 "nbformat_minor": 2
}
