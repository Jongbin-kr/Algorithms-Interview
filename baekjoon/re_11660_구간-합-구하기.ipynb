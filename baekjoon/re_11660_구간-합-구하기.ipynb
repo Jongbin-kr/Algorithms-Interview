{
 "cells": [
  {
   "cell_type": "markdown",
   "metadata": {},
   "source": [
    "brutally 구현하면? 역시 타임오버."
   ]
  },
  {
   "cell_type": "code",
   "execution_count": null,
   "metadata": {},
   "outputs": [
    {
     "name": "stdout",
     "output_type": "stream",
     "text": [
      "1 1 4\n",
      "2 1 4\n",
      "27\n",
      "2 3 4\n",
      "6\n",
      "0 0 4\n",
      "1 0 4\n",
      "2 0 4\n",
      "3 0 4\n",
      "64\n"
     ]
    }
   ],
   "source": [
    "import sys; input = lambda: sys.stdin.readline().strip()\n",
    "N, M = map(int, input().split()) # N is size, M is number of sum\n",
    "\n",
    "graph = []\n",
    "for _ in range(N):\n",
    "    graph.append(list(map(int, input().split())))\n",
    "    \n",
    "y1x1y2x2 = []\n",
    "for _ in range(M):\n",
    "    y1, x1, y2, x2 = map(int, input().split())\n",
    "    y1x1y2x2.append((y1-1, x1-1, y2-1, x2-1))   # -1 to match index\n",
    "\n",
    "\n",
    "\n",
    "def range_sum(y1, x1, y2, x2):\n",
    "    result = 0\n",
    "    for y in range(y1, y2+1):\n",
    "        result += sum(graph[y][x1:x2+1])\n",
    "    \n",
    "    return result\n",
    "\n",
    "for y1, x1, y2, x2 in y1x1y2x2:\n",
    "    print(range_sum(y1, x1, y2, x2))"
   ]
  },
  {
   "cell_type": "markdown",
   "metadata": {},
   "source": [
    "타임아웃. DP를 써야할 것 같은데? 혹은 정렬 후 부분합?\n",
    "- 부분합을 쓰면 만약 겹치지 않는 영역이 연속으로 나온다면 역시 타임아웃.\n",
    "- DP로 풀자.\n",
    "\n"
   ]
  },
  {
   "cell_type": "markdown",
   "metadata": {},
   "source": [
    "이렇게 DP로 풀면, \n",
    "- 이전 솔루션을 전혀 안써먹네.\n",
    "- 큰거 -> 작은거 순으로 합을 구해야하면...?"
   ]
  },
  {
   "cell_type": "code",
   "execution_count": 5,
   "metadata": {},
   "outputs": [
    {
     "name": "stdout",
     "output_type": "stream",
     "text": [
      "27\n",
      "6\n",
      "64\n"
     ]
    }
   ],
   "source": [
    "# import sys; input = lambda: sys.stdin.readline().strip()\n",
    "from collections import defaultdict\n",
    "# N, M = map(int, input().split()) # N is size, M is number of sum\n",
    "\n",
    "# graph = []\n",
    "# for _ in range(N):\n",
    "#     graph.append(list(map(int, input().split())))\n",
    "    \n",
    "# y1x1y2x2 = []\n",
    "# for _ in range(M):\n",
    "#     y1, x1, y2, x2 = map(int, input().split())\n",
    "#     y1x1y2x2.append((y1-1, x1-1, y2-1, x2-1))   # -1 to match index\n",
    "\n",
    "\n",
    "N, M = 4, 3\n",
    "graph = [[1, 2, 3, 4], [2, 3, 4, 5], [3, 4, 5, 6], [4, 5, 6, 7]]\n",
    "y1x1y2x2 = [(2-1,2-1,3-1,4-1), (3-1,4-1,3-1,4-1), (1-1,1-1,4-1,4-1)]\n",
    "\n",
    "dp = defaultdict(dict)\n",
    "\n",
    "def field_sum(y1, x1, y2, x2):\n",
    "    result = 0\n",
    "    for y in range(y1, y2+1):\n",
    "        if (x1, x2) in dp[y]:\n",
    "            row_sum = dp[y][(x1, x2)]\n",
    "        \n",
    "        else:\n",
    "            row_sum = sum(graph[y][x1:x2+1])\n",
    "            dp[y][(x1, x2)] = row_sum\n",
    "    \n",
    "        result +=  row_sum\n",
    "        \n",
    "    return result\n",
    "\n",
    "for y1, x1, y2, x2 in y1x1y2x2:\n",
    "    print(field_sum(y1, x1, y2, x2))"
   ]
  },
  {
   "cell_type": "markdown",
   "metadata": {},
   "source": [
    "정답참고하고, `프로그래머스 연속된 부분수열의 합` 문제에서 부분합 개념 다시 정리한 다음, 다시 풀어보기"
   ]
  },
  {
   "cell_type": "code",
   "execution_count": null,
   "metadata": {},
   "outputs": [
    {
     "name": "stdout",
     "output_type": "stream",
     "text": [
      "27\n",
      "6\n",
      "64\n"
     ]
    }
   ],
   "source": [
    "import sys; input = lambda: sys.stdin.readline().rstrip()\n",
    "\n",
    "N, M = map(int, input().split())    # NxN graph, M co-ordinates\n",
    "graph = [[0] * (N+1)]\n",
    "for _ in range(N):\n",
    "    graph.append([0] + list(map(int, input().split())))\n",
    "\n",
    "\n",
    "accum = [[0] * (N+1) for _ in range(N+1)]\n",
    "for y in range(1, N+1):\n",
    "    row_sum = 0\n",
    "    for x in range(1, N+1):\n",
    "        row_sum += graph[y][x]\n",
    "        accum[y][x] = accum[y-1][x] + row_sum\n",
    "\n",
    "\n",
    "for _ in range(M):\n",
    "    y1, x1, y2, x2 = map(int, input().split())\n",
    "    print(accum[y2][x2] - accum[y2][x1-1] - accum[y1-1][x2] + accum[y1-1][x1-1])"
   ]
  },
  {
   "cell_type": "code",
   "execution_count": 22,
   "metadata": {},
   "outputs": [
    {
     "data": {
      "text/plain": [
       "[[0, 0, 0, 0, 0],\n",
       " [0, 1, 3, 6, 10],\n",
       " [0, 3, 8, 15, 24],\n",
       " [0, 6, 15, 27, 42],\n",
       " [0, 10, 24, 42, 64]]"
      ]
     },
     "execution_count": 22,
     "metadata": {},
     "output_type": "execute_result"
    }
   ],
   "source": [
    "accum"
   ]
  }
 ],
 "metadata": {
  "kernelspec": {
   "display_name": "Python 3",
   "language": "python",
   "name": "python3"
  },
  "language_info": {
   "codemirror_mode": {
    "name": "ipython",
    "version": 3
   },
   "file_extension": ".py",
   "mimetype": "text/x-python",
   "name": "python",
   "nbconvert_exporter": "python",
   "pygments_lexer": "ipython3",
   "version": "3.10.11"
  }
 },
 "nbformat": 4,
 "nbformat_minor": 2
}
