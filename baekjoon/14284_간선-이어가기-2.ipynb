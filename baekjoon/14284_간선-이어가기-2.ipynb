{
 "cells": [
  {
   "cell_type": "markdown",
   "metadata": {},
   "source": [
    "데이크스트라의 시작과도 같은 문제로구나..."
   ]
  },
  {
   "cell_type": "code",
   "execution_count": 4,
   "metadata": {},
   "outputs": [
    {
     "name": "stdout",
     "output_type": "stream",
     "text": [
      "[[], [(3, 2), (2, 3), (4, 4)], [(3, 1), (2, 5)], [(2, 1), (1, 6)], [(4, 1), (3, 7)], [(2, 2), (6, 8)], [(1, 3), (2, 8)], [(3, 4), (7, 8)], [(6, 5), (2, 6), (7, 7)]]\n",
      "5\n"
     ]
    }
   ],
   "source": [
    "from heapq import heappop, heappush\n",
    "# import sys; input = lambda: sys.stdin.readline().rstrip()\n",
    "\n",
    "n_nodes, n_edges = map(int, input().split())\n",
    "\n",
    "graph = [[] for _ in range(n_nodes+1)]\n",
    "for _ in range(n_edges):\n",
    "    start, end, dist = map(int, input().split())\n",
    "    graph[start].append((dist, end))\n",
    "    graph[end].append((dist, start))\n",
    "\n",
    "target_start, target_end = map(int, input().split())\n",
    "\n",
    "\n",
    "min_dists = [float('inf')] * (n_nodes+1)\n",
    "def dijkstra(start: int):\n",
    "    hq = [(0, start)]\n",
    "    min_dists[start] = 0\n",
    "    \n",
    "    while hq:\n",
    "        current_dist, current_node = heappop(hq)\n",
    "        \n",
    "        for next_dist, next_node in graph[current_node]:\n",
    "            detouring_dist = current_dist + next_dist\n",
    "            if detouring_dist < min_dists[next_node]:\n",
    "                min_dists[next_node] = detouring_dist\n",
    "                heappush(hq, (detouring_dist, next_node))\n",
    "                \n",
    "                \n",
    "dijkstra(target_start)\n",
    "print(min_dists[target_end])"
   ]
  }
 ],
 "metadata": {
  "kernelspec": {
   "display_name": "Python 3",
   "language": "python",
   "name": "python3"
  },
  "language_info": {
   "codemirror_mode": {
    "name": "ipython",
    "version": 3
   },
   "file_extension": ".py",
   "mimetype": "text/x-python",
   "name": "python",
   "nbconvert_exporter": "python",
   "pygments_lexer": "ipython3",
   "version": "3.10.11"
  }
 },
 "nbformat": 4,
 "nbformat_minor": 2
}
