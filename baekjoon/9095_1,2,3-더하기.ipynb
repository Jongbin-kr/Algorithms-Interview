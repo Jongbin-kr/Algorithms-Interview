{
 "cells": [
  {
   "cell_type": "code",
   "execution_count": null,
   "metadata": {},
   "outputs": [],
   "source": [
    "# import sys; input = lambda: sys.stdin.readline().rstrip()\n",
    "n_testcases = int(input())\n",
    "testcases = [int(input())-1 for _ in range(n_testcases)]\n",
    "\n",
    "memo = [1,2,4] + [0] * 7     ## n은 11보다 작다고 했으므로\n",
    "\n",
    "for testcase in testcases:\n",
    "    if memo[testcase]:\n",
    "        print(memo[testcase])\n",
    "        continue\n",
    "    \n",
    "    else:\n",
    "        for i in range(3, testcase+1):\n",
    "            memo[i] = memo[i-1] + memo[i-2] + memo[i-3]\n",
    "        else:\n",
    "            print(memo[testcase])\n",
    "        \n",
    "    "
   ]
  }
 ],
 "metadata": {
  "language_info": {
   "name": "python"
  }
 },
 "nbformat": 4,
 "nbformat_minor": 2
}
