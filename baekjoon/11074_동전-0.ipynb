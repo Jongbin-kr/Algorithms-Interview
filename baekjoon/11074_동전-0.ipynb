{
 "cells": [
  {
   "cell_type": "markdown",
   "metadata": {},
   "source": [
    "$A_i$는 $A_{i-1}$의 배수라는 조건이 있으므로, 그리디로 풀어도 되겠다"
   ]
  },
  {
   "cell_type": "code",
   "execution_count": 7,
   "metadata": {},
   "outputs": [
    {
     "name": "stdout",
     "output_type": "stream",
     "text": [
      "50000 4790 0\n",
      "10000 4790 0\n",
      "5000 4790 0\n",
      "1000 790 4\n",
      "500 290 5\n",
      "100 90 7\n",
      "50 40 8\n",
      "10 0 12\n",
      "5 0 12\n",
      "12\n"
     ]
    }
   ],
   "source": [
    "N_coins, K_target = map(int, input().split())\n",
    "\n",
    "coins = [int(input()) for _ in range(N_coins)]\n",
    "\n",
    "cnt = 0\n",
    "for coin in coins[::-1]:    # 큰 동전부터\n",
    "    if K_target == 0:\n",
    "        break\n",
    "    \n",
    "    if coin > K_target:\n",
    "        continue\n",
    "    \n",
    "    else: \n",
    "       cnt += K_target // coin\n",
    "       K_target %= coin\n",
    "       \n",
    "print(cnt) "
   ]
  }
 ],
 "metadata": {
  "kernelspec": {
   "display_name": "Python 3",
   "language": "python",
   "name": "python3"
  },
  "language_info": {
   "codemirror_mode": {
    "name": "ipython",
    "version": 3
   },
   "file_extension": ".py",
   "mimetype": "text/x-python",
   "name": "python",
   "nbconvert_exporter": "python",
   "pygments_lexer": "ipython3",
   "version": "3.10.11"
  }
 },
 "nbformat": 4,
 "nbformat_minor": 2
}
