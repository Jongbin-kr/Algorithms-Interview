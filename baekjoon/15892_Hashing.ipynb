{
 "cells": [
  {
   "cell_type": "markdown",
   "metadata": {},
   "source": [
    "아래거는 부분정답"
   ]
  },
  {
   "cell_type": "code",
   "execution_count": null,
   "metadata": {},
   "outputs": [],
   "source": [
    "# import sys; input = lambda: sys.stdin.readline().rstrip()\n",
    "n_L = int(input())\n",
    "ords = input()\n",
    "\n",
    "r = 31; m = 1234567891\n",
    "h = 0\n",
    "for i, a in enumerate(ords):\n",
    "    h += ((ord(a)-96) * r**i) % m\n",
    "print(h)"
   ]
  },
  {
   "cell_type": "markdown",
   "metadata": {},
   "source": [
    "이거는 다 맞네.\n",
    "값 좀 줄이려고 미리 %를 했더니 오류..."
   ]
  },
  {
   "cell_type": "code",
   "execution_count": 7,
   "metadata": {},
   "outputs": [
    {
     "name": "stdout",
     "output_type": "stream",
     "text": [
      "30636473563\n"
     ]
    }
   ],
   "source": [
    "# import sys; input = lambda: sys.stdin.readline().rstrip()\n",
    "n_L = int(input())\n",
    "ords = input()\n",
    "\n",
    "r = 31; m = 1234567891\n",
    "h = 0\n",
    "for i, a in enumerate(ords):\n",
    "    h += ((ord(a)-96) * r**i)\n",
    "print(h % m)"
   ]
  }
 ],
 "metadata": {
  "kernelspec": {
   "display_name": "Python 3",
   "language": "python",
   "name": "python3"
  },
  "language_info": {
   "codemirror_mode": {
    "name": "ipython",
    "version": 3
   },
   "file_extension": ".py",
   "mimetype": "text/x-python",
   "name": "python",
   "nbconvert_exporter": "python",
   "pygments_lexer": "ipython3",
   "version": "3.10.11"
  }
 },
 "nbformat": 4,
 "nbformat_minor": 2
}
