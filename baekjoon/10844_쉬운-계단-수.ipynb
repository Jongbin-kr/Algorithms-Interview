{
 "cells": [
  {
   "cell_type": "markdown",
   "metadata": {},
   "source": [
    "너무 문제를 간단하게 생각했네!"
   ]
  },
  {
   "cell_type": "code",
   "execution_count": 18,
   "metadata": {},
   "outputs": [
    {
     "name": "stdout",
     "output_type": "stream",
     "text": [
      "32\n"
     ]
    }
   ],
   "source": [
    "N = int(input())\n",
    "\n",
    "d = [0] * (N+1)\n",
    "\n",
    "\n",
    "for i in range(1, N+1):\n",
    "    if i == 1:\n",
    "        d[i] = 9\n",
    "        continue\n",
    "    \n",
    "    if i == 2:\n",
    "        d[i] = 17\n",
    "        continue\n",
    "        \n",
    "    d[i] = (2 * d[i-1]) -2\n",
    "\n",
    "print(d[N] % 1_000_000_000)"
   ]
  },
  {
   "cell_type": "code",
   "execution_count": 18,
   "metadata": {},
   "outputs": [
    {
     "name": "stdout",
     "output_type": "stream",
     "text": [
      "222\n"
     ]
    }
   ],
   "source": [
    "N = int(input())\n",
    "\n",
    "d = [[0] * 10 for _ in range(N+1)]\n",
    "\n",
    "\n",
    "for i in range(1, 10):\n",
    "    d[1][i] = 1\n",
    "    \n",
    "for i in range(2, N+1):\n",
    "    for j in range(0, 10):\n",
    "        if j == 0:\n",
    "            d[i][j] = d[i-1][1]\n",
    "            \n",
    "        elif j == 9:\n",
    "            d[i][j] = d[i-1][8]\n",
    "            \n",
    "        else:\n",
    "            d[i][j] = d[i-1][j-1] + d[i-1][j+1]\n",
    "            \n",
    "print(sum(d[N]) % 1_000_000_000)"
   ]
  },
  {
   "cell_type": "code",
   "execution_count": 10,
   "metadata": {},
   "outputs": [
    {
     "data": {
      "text/plain": [
       "[[0, 0, 0, 0, 0, 0, 0, 0, 0, 0],\n",
       " [0, 1, 1, 1, 1, 1, 1, 1, 1, 1],\n",
       " [1, 1, 2, 2, 2, 2, 2, 2, 2, 1],\n",
       " [1, 3, 3, 4, 4, 4, 4, 4, 3, 2],\n",
       " [3, 4, 7, 7, 8, 8, 8, 7, 6, 3],\n",
       " [4, 10, 11, 15, 15, 16, 15, 14, 10, 6]]"
      ]
     },
     "execution_count": 10,
     "metadata": {},
     "output_type": "execute_result"
    }
   ],
   "source": [
    "d"
   ]
  }
 ],
 "metadata": {
  "kernelspec": {
   "display_name": "Python 3",
   "language": "python",
   "name": "python3"
  },
  "language_info": {
   "codemirror_mode": {
    "name": "ipython",
    "version": 3
   },
   "file_extension": ".py",
   "mimetype": "text/x-python",
   "name": "python",
   "nbconvert_exporter": "python",
   "pygments_lexer": "ipython3",
   "version": "3.10.11"
  }
 },
 "nbformat": 4,
 "nbformat_minor": 2
}
