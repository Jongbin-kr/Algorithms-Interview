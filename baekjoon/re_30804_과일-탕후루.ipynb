{
 "cells": [
  {
   "cell_type": "markdown",
   "metadata": {},
   "source": [
    "idea 1: 양쪽에서 하나씩 뽑아간다? deque?\n",
    "-> 많이 뽑을 수록 안조은거심\n",
    "-> 좌 한번 뽑고, unique check, 우 한번 뽑고 chk, \n",
    "\n",
    "~~idea 2: 반대로 가운데는 무조건 들어가니까 가운데를 기준으로 하나씩 좌우로 늘려갈 수도 있겠다?~~\n",
    "-> 가운데가 꼭 안들어갈 수도 있지. 5*100 123 5*100인 경우.\n",
    "\n",
    "idea 3: 시작점이 정해졌을 때, 최대 어디까지 갈 수 있는가를 찾는 문제다. \n",
    "-> 그냥 brutally풀면 안되겠지?\n",
    "-> DP인 것 같은데...몰겠다"
   ]
  },
  {
   "cell_type": "markdown",
   "metadata": {},
   "source": [
    "idea 1 구현.\n",
    "\n",
    "틀렸다? 왜? `5 1 1 2 5 1`처럼 중간에 끼어있으면 안되는구나!"
   ]
  },
  {
   "cell_type": "code",
   "execution_count": null,
   "metadata": {},
   "outputs": [
    {
     "name": "stdout",
     "output_type": "stream",
     "text": [
      "5\n"
     ]
    }
   ],
   "source": [
    "## idea 1 구현\n",
    "from collections import deque\n",
    "\n",
    "N_fruits = int(input())\n",
    "fruits = deque(map(int, input().split()))\n",
    "fruits_counter = fruits_counter\n",
    "\n",
    "if len(fruits_counter) <= 2:\n",
    "    print(N_fruits)\n",
    "    \n",
    "else: \n",
    "    while N_fruits > 2:\n",
    "\n",
    "        # 왼쪽꺼 먼저 뽑아본다.\n",
    "        leftmost = fruits.popleft()\n",
    "        fruits_counter.reduce_or_remove(leftmost)\n",
    "        N_fruits -= 1\n",
    "        if len(fruits_counter) <= 2:\n",
    "            print(N_fruits)\n",
    "            break\n",
    "        \n",
    "        else:\n",
    "            fruits_counter.add(leftmost)\n",
    "            fruits.appendleft(leftmost)\n",
    "            N_fruits +=  1\n",
    "        \n",
    "        \n",
    "        # 오른쪽꺼 뽑아본다.\n",
    "        rightmost = fruits.popleft()\n",
    "        fruits_counter.reduce_or_remove(rightmost)\n",
    "        N_fruits -= 1\n",
    "        if len(fruits_counter) <= 2:\n",
    "            print(N_fruits)\n",
    "            break\n",
    "        else:\n",
    "            fruits_counter.add(rightmost)\n",
    "            fruits.append(rightmost)\n",
    "            N_fruits +=  1        \n",
    "\n",
    "        # 둘 다 뽑아보고, 다음스텝\n",
    "        leftmost = fruits.popleft(); rightmost = fruits.pop()\n",
    "        fruits_counter.reduce_or_remove(leftmost); fruits_counter.reduce_or_remove(rightmost)\n",
    "        N_fruits -= 2\n",
    "        if len(fruits_counter) <= 2:\n",
    "            print(N_fruits)\n",
    "        else:\n",
    "            continue"
   ]
  },
  {
   "cell_type": "markdown",
   "metadata": {},
   "source": [
    "매번 unique fruits를 구해도 되나? \n",
    "- set construction이 $O(n)$이라 시간복잡도가 $O(n^2)$. $n < 200,000$이니가 될리가 없다. 4천만 (초당 2천만 * 2초) <<< 200,000 * 200,000"
   ]
  },
  {
   "cell_type": "code",
   "execution_count": null,
   "metadata": {},
   "outputs": [],
   "source": [
    "## idea 1 구현\n",
    "from collections import deque\n",
    "import sys; input = lambda: sys.stdin.readline().rstrip()\n",
    "\n",
    "N_fruits = int(input())\n",
    "fruits = deque(map(int, input().split()))\n",
    "\n",
    "if len(fruits_counter) <= 2:\n",
    "    print(N_fruits)\n",
    "    \n",
    "else: \n",
    "    while N_fruits > 2:\n",
    "\n",
    "        # 왼쪽꺼 먼저 뽑아본다.\n",
    "        leftmost = fruits.popleft()\n",
    "        fruits_counter.reduce_or_remove(leftmost)\n",
    "        N_fruits -= 1\n",
    "        if len(fruits_counter) <= 2:\n",
    "            print(N_fruits)\n",
    "            break\n",
    "        \n",
    "        else:\n",
    "            fruits_counter.add(leftmost)\n",
    "            fruits.appendleft(leftmost)\n",
    "            N_fruits +=  1\n",
    "        \n",
    "        \n",
    "        # 오른쪽꺼 뽑아본다.\n",
    "        rightmost = fruits.popleft()\n",
    "        fruits_counter.reduce_or_remove(rightmost)\n",
    "        N_fruits -= 1\n",
    "        if len(fruits_counter) <= 2:\n",
    "            print(N_fruits)\n",
    "            break\n",
    "        else:\n",
    "            fruits_counter.add(rightmost)\n",
    "            fruits.append(rightmost)\n",
    "            N_fruits +=  1        \n",
    "\n",
    "        # 둘 다 뽑아보고, 다음스텝\n",
    "        leftmost = fruits.popleft(); rightmost = fruits.pop()\n",
    "        fruits_counter.reduce_or_remove(leftmost); fruits_counter.reduce_or_remove(rightmost)\n",
    "        N_fruits -= 2\n",
    "        if len(fruits_counter) <= 2:\n",
    "            print(N_fruits)\n",
    "        else:\n",
    "            continue"
   ]
  },
  {
   "cell_type": "markdown",
   "metadata": {},
   "source": [
    "특별한 아이디어가 있는 게 아니라, 단순 구현문제라고 한다.\n",
    "\n",
    "1번 아이디어에서 집합이 아닌 counter로 unique_fruits의 개수를 구하자!"
   ]
  },
  {
   "cell_type": "code",
   "execution_count": 6,
   "metadata": {},
   "outputs": [
    {
     "name": "stdout",
     "output_type": "stream",
     "text": [
      "left deque([1, 2, 5, 1]) 4 PositiveCounter({1: 2, 2: 1, 5: 1})\n",
      "right deque([1, 1, 2, 5]) 4 PositiveCounter({1: 2, 2: 1, 5: 1})\n",
      "both deque([1, 2, 5]) 3 PositiveCounter({1: 1, 2: 1, 5: 1})\n",
      "left deque([2, 5]) 2 PositiveCounter({2: 1, 5: 1})\n",
      "2\n"
     ]
    }
   ],
   "source": [
    "## idea 1 구현\n",
    "from collections import deque, Counter\n",
    "\n",
    "class PositiveCounter(Counter):\n",
    "    def reduce_or_remove(self, value):\n",
    "        # 값이 1인경우에는 해당 값을 제거\n",
    "        if self[value] == 1: self.pop(value)\n",
    "        \n",
    "        # 값이 0이 아닌 경우, 해당 값 -1    \n",
    "        else: self[value] -= 1\n",
    "    \n",
    "    def increase_or_add(self, value):\n",
    "        # 해당 값이 없는 경우에는 해당값 추가\n",
    "        if not self[value]: self[value] = 1\n",
    "        \n",
    "        # 값이 0이 아닌 경우에는 해당값 +1\n",
    "        else: self[value] += 1\n",
    "        \n",
    "\n",
    "N_fruits = int(input())\n",
    "fruits = deque(map(int, input().split()))\n",
    "fruits_counter = PositiveCounter(fruits)\n",
    "\n",
    "if len(fruits_counter) <= 2:\n",
    "    print(N_fruits)\n",
    "    \n",
    "else: \n",
    "    while N_fruits > 2:\n",
    "\n",
    "        # 왼쪽꺼 먼저 뽑아본다.\n",
    "        leftmost = fruits.popleft()\n",
    "        fruits_counter.reduce_or_remove(leftmost)\n",
    "        N_fruits -= 1\n",
    "        print(\"left\", fruits, N_fruits, fruits_counter)\n",
    "        if len(fruits_counter) <= 2:\n",
    "            print(N_fruits)\n",
    "            break\n",
    "        \n",
    "        else:\n",
    "            fruits_counter.increase_or_add(leftmost)\n",
    "            fruits.appendleft(leftmost)\n",
    "            N_fruits +=  1\n",
    "        \n",
    "        \n",
    "        # 오른쪽꺼 뽑아본다.\n",
    "        rightmost = fruits.pop()\n",
    "        fruits_counter.reduce_or_remove(rightmost)\n",
    "        N_fruits -= 1\n",
    "        print(\"right\", fruits, N_fruits, fruits_counter)        \n",
    "        if len(fruits_counter) <= 2:\n",
    "            print(N_fruits)\n",
    "            break\n",
    "        else:\n",
    "            fruits_counter.increase_or_add(rightmost)\n",
    "            fruits.append(rightmost)\n",
    "            N_fruits +=  1\n",
    "\n",
    "        # 둘 다 뽑아보고, 다음스텝\n",
    "        leftmost = fruits.popleft(); rightmost = fruits.pop()\n",
    "        fruits_counter.reduce_or_remove(leftmost); fruits_counter.reduce_or_remove(rightmost)\n",
    "        N_fruits -= 2\n",
    "        print(\"both\", fruits, N_fruits, fruits_counter)\n",
    "        if len(fruits_counter) <= 2:\n",
    "            print(N_fruits)\n",
    "        else:\n",
    "            continue"
   ]
  },
  {
   "cell_type": "markdown",
   "metadata": {},
   "source": [
    "좌우에서 빼는 방식은 `1 1 2 5 1`과 같은 경우에 최대값을 못찾는다.\n",
    "\n",
    "그냥 앞에서부터 움직이자\n",
    "\n",
    "--> 타임오버..."
   ]
  },
  {
   "cell_type": "code",
   "execution_count": 17,
   "metadata": {},
   "outputs": [
    {
     "name": "stdout",
     "output_type": "stream",
     "text": [
      "2\n"
     ]
    }
   ],
   "source": [
    "import sys; input = lambda: sys.stdin.readline().rstrip()\n",
    "N_fruits = int(input())\n",
    "fruits = list(map(int, input().split()))\n",
    "\n",
    "result = 0\n",
    "for i in range(N_fruits):\n",
    "    unique_fruits = set()\n",
    "    len_tanghuru = 0\n",
    "    for fruit in fruits[i:]:\n",
    "        if fruit in unique_fruits:\n",
    "            len_tanghuru += 1\n",
    "            continue\n",
    "        \n",
    "        elif fruit not in unique_fruits and len(unique_fruits) < 2:\n",
    "            unique_fruits.add(fruit)\n",
    "            len_tanghuru += 1\n",
    "            continue\n",
    "        \n",
    "        else:\n",
    "            break\n",
    "    \n",
    "    result = max(result, len_tanghuru)\n",
    "    \n",
    "print(result)\n",
    "    "
   ]
  },
  {
   "cell_type": "markdown",
   "metadata": {},
   "source": [
    "정답보고 다시 풀자.\n",
    "\n",
    "> 투 포인터가 반드시 좌/우에서 와야하는 건 아니다! \n",
    " \n",
    "오른쪽에서부터 첫번째 포인터가 움직이며 과일을 넣고, 다른 포인터가 또 오른쪽에서 부터 움직여서 과일을 뺄 수도 있다."
   ]
  },
  {
   "cell_type": "code",
   "execution_count": 8,
   "metadata": {},
   "outputs": [
    {
     "data": {
      "text/plain": [
       "defaultdict(<function __main__.<lambda>()>, {1: 1})"
      ]
     },
     "execution_count": 8,
     "metadata": {},
     "output_type": "execute_result"
    }
   ],
   "source": [
    "from collections import defaultdict\n",
    "\n",
    "dd = defaultdict(lambda: 0)\n",
    "\n",
    "dd[1] += 1\n",
    "\n",
    "dd"
   ]
  },
  {
   "cell_type": "code",
   "execution_count": 19,
   "metadata": {},
   "outputs": [
    {
     "name": "stdout",
     "output_type": "stream",
     "text": [
      "Counter({'c': 2, 'a': 1, 'b': 0, 'd': 0})\n",
      "Counter({'c': 2, 'a': 1})\n"
     ]
    }
   ],
   "source": [
    "from collections import Counter\n",
    "\n",
    "original_dict = {'a': 1, 'b': 0, 'c': 2, 'd': 0}\n",
    "counter = Counter(original_dict)\n",
    "print(counter)\n",
    "counter += Counter()  # 이 연산으로 0 값이 제거됩니다\n",
    "print(counter)"
   ]
  },
  {
   "cell_type": "code",
   "execution_count": null,
   "metadata": {},
   "outputs": [
    {
     "name": "stdout",
     "output_type": "stream",
     "text": [
      "3\n"
     ]
    }
   ],
   "source": [
    "from collections import defaultdict\n",
    "\n",
    "N_fruits = int(input())\n",
    "fruits = list(map(int, input().split()))\n",
    "\n",
    "result = 0\n",
    "\n",
    "unique_cnt = 0\n",
    "tanghuru_fruits = defaultdict(lambda: 0)\n",
    "len_tanghuru = 0\n",
    "left = 0\n",
    "for right in range(N_fruits):\n",
    "    # push fruit\n",
    "    if fruits[right] in tanghuru_fruits:\n",
    "        tanghuru_fruits[fruits[right]] += 1\n",
    "        len_tanghuru += 1\n",
    "        \n",
    "    else:\n",
    "        tanghuru_fruits[fruits[right]] += 1\n",
    "        unique_cnt += 1\n",
    "        len_tanghuru += 1\n",
    "    \n",
    "    # popleft fruit\n",
    "    while unique_cnt > 2:\n",
    "        tanghuru_fruits[fruits[left]] -= 1\n",
    "        if not tanghuru_fruits[fruits[left]]:\n",
    "            del tanghuru_fruits[fruits[left]]\n",
    "            unique_cnt -= 1\n",
    "        left += 1\n",
    "        len_tanghuru -= 1\n",
    "    \n",
    "    result = max(result, len_tanghuru)\n",
    "\n",
    "print(result) "
   ]
  },
  {
   "cell_type": "markdown",
   "metadata": {},
   "source": [
    "More pythonic code using Counter"
   ]
  },
  {
   "cell_type": "code",
   "execution_count": 6,
   "metadata": {},
   "outputs": [
    {
     "name": "stdout",
     "output_type": "stream",
     "text": [
      "5\n"
     ]
    }
   ],
   "source": [
    "from collections import Counter\n",
    "\n",
    "N_fruits = int(input())\n",
    "fruits = list(map(int, input().split()))\n",
    "\n",
    "result = 0\n",
    "\n",
    "tanghuru_fruits = Counter()\n",
    "len_tanghuru = 0\n",
    "left = 0\n",
    "for right in range(N_fruits):\n",
    "    # push fruit\n",
    "    tanghuru_fruits[fruits[right]] += 1\n",
    "    len_tanghuru += 1\n",
    "\n",
    "    # popleft fruit\n",
    "    while len(tanghuru_fruits) > 2:\n",
    "        tanghuru_fruits[fruits[left]] -= 1\n",
    "        tanghuru_fruits += Counter()\n",
    "        left += 1\n",
    "        len_tanghuru -= 1\n",
    "    \n",
    "    result = max(result, tanghuru_fruits.total())     ## 이렇게 total 함수를 쓸 수도 있지만, total함수가 O(n)만큼 시간복잡도가 걸린다.\n",
    "    # result = max(result, len_tanghuru)\n",
    "\n",
    "print(result) "
   ]
  }
 ],
 "metadata": {
  "kernelspec": {
   "display_name": "Python 3",
   "language": "python",
   "name": "python3"
  },
  "language_info": {
   "codemirror_mode": {
    "name": "ipython",
    "version": 3
   },
   "file_extension": ".py",
   "mimetype": "text/x-python",
   "name": "python",
   "nbconvert_exporter": "python",
   "pygments_lexer": "ipython3",
   "version": "3.10.11"
  }
 },
 "nbformat": 4,
 "nbformat_minor": 2
}
