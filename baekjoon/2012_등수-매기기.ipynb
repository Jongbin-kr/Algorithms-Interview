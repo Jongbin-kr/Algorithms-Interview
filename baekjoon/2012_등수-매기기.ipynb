{
 "cells": [
  {
   "cell_type": "code",
   "execution_count": 1,
   "metadata": {},
   "outputs": [
    {
     "name": "stdout",
     "output_type": "stream",
     "text": [
      "3\n"
     ]
    }
   ],
   "source": [
    "## 백준에서는 아래 코드를 사용해야 시간초과가 안생긴다\n",
    "# import sys\n",
    "# input = sys.std.readline\n",
    "\n",
    "N = int(input())\n",
    "expecteds = sorted([int(input()) for _ in range(N)])\n",
    "\n",
    "n = 1\n",
    "result= 0\n",
    "for expected in expecteds:\n",
    "    result += abs(n - expected)\n",
    "    n += 1\n",
    "    \n",
    "print(result)"
   ]
  },
  {
   "cell_type": "markdown",
   "metadata": {},
   "source": [
    "계수정렬을 써먹어야하나?\n",
    "그러기엔 인풋의 맥스값이 뭔지 모른다...."
   ]
  }
 ],
 "metadata": {
  "kernelspec": {
   "display_name": "Python 3",
   "language": "python",
   "name": "python3"
  },
  "language_info": {
   "codemirror_mode": {
    "name": "ipython",
    "version": 3
   },
   "file_extension": ".py",
   "mimetype": "text/x-python",
   "name": "python",
   "nbconvert_exporter": "python",
   "pygments_lexer": "ipython3",
   "version": "3.10.11"
  }
 },
 "nbformat": 4,
 "nbformat_minor": 2
}
