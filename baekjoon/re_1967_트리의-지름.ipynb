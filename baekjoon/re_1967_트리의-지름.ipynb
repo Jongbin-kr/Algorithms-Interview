{
 "cells": [
  {
   "cell_type": "markdown",
   "metadata": {},
   "source": [
    "무조건 리프 노드 두 개를 고르는 게 유리하겠지.\n",
    "\n",
    "근데 리프노드를 어떻게 고르느냐가 문제다.\n",
    "\n",
    "1. 다익스트라를 돌려서 그냥 가장 먼 노드 두 개를 고른다? 그럼 겹치는 경로가 엄청 긴 경우에는 오류.\n",
    "\n",
    "2. 모든 리프 노드에 depth별 거리를 기록해두고, depth별로 비교? 너무 time complex....\n",
    "\n"
   ]
  },
  {
   "cell_type": "code",
   "execution_count": null,
   "metadata": {},
   "outputs": [
    {
     "name": "stdout",
     "output_type": "stream",
     "text": [
      "45\n"
     ]
    }
   ],
   "source": [
    "from heapq import heappop, heappush\n",
    "from collections import defaultdict\n",
    "\n",
    "N_nodes = int(input())\n",
    "graph = defaultdict(list)\n",
    "for _ in range(N_nodes-1):\n",
    "    parent_node, child_node, dist = map(int, input().split())\n",
    "    graph[parent_node].append((dist, child_node))\n",
    "    graph[child_node].append((dist, parent_node))\n",
    "\n",
    "\n",
    "\n",
    "def dijkstra(start):\n",
    "    to_visit = []\n",
    "    \n",
    "    heappush(to_visit, (0, start))\n",
    "    min_dists[start] = 0\n",
    "    \n",
    "    while to_visit:\n",
    "        current_dist, current_node = heappop(to_visit)\n",
    "        \n",
    "        if min_dists[current_node] < current_dist:\n",
    "            continue\n",
    "        \n",
    "        for dist, child_node in graph[current_node]:\n",
    "            detouring_dist = dist + current_dist\n",
    "            \n",
    "            if detouring_dist < min_dists[child_node]:\n",
    "                min_dists[child_node] = detouring_dist\n",
    "                heappush(to_visit, (detouring_dist, child_node))\n",
    "         \n",
    "                \n",
    "min_dists = [float('inf')] * (N_nodes+1)\n",
    "dijkstra(1)\n",
    "\n",
    "farthest_dist = max(min_dists[1:])\n",
    "farthest_node = min_dists.index(farthest_dist)\n",
    "\n",
    "min_dists = [float('inf')] * (N_nodes+1)\n",
    "dijkstra(farthest_node)\n",
    "\n",
    "print(max(min_dists[1:]))"
   ]
  },
  {
   "cell_type": "code",
   "execution_count": 8,
   "metadata": {},
   "outputs": [
    {
     "data": {
      "text/plain": [
       "[inf, 0, 3, 2, 8, 13, 11, 9, 15, 28, 17, 17, 21]"
      ]
     },
     "execution_count": 8,
     "metadata": {},
     "output_type": "execute_result"
    }
   ],
   "source": [
    "min_dists"
   ]
  },
  {
   "cell_type": "code",
   "execution_count": 13,
   "metadata": {},
   "outputs": [
    {
     "data": {
      "text/plain": [
       "{0: 0}"
      ]
     },
     "execution_count": 13,
     "metadata": {},
     "output_type": "execute_result"
    }
   ],
   "source": [
    "min_dists"
   ]
  }
 ],
 "metadata": {
  "kernelspec": {
   "display_name": "Python 3",
   "language": "python",
   "name": "python3"
  },
  "language_info": {
   "codemirror_mode": {
    "name": "ipython",
    "version": 3
   },
   "file_extension": ".py",
   "mimetype": "text/x-python",
   "name": "python",
   "nbconvert_exporter": "python",
   "pygments_lexer": "ipython3",
   "version": "3.10.11"
  }
 },
 "nbformat": 4,
 "nbformat_minor": 2
}
