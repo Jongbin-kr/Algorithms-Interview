{
 "cells": [
  {
   "cell_type": "markdown",
   "metadata": {},
   "source": [
    "이전 집에 무슨 색을 칠하느냐에 따라서, 다음 집에 칠해지는 색이 달라진다.\n",
    "즉, 그리디로 해결하면 최적해를 구하지 못할 가능성이 있다.\n",
    "\n",
    "\n",
    "26 40 83\n",
    "89 86 83\n",
    "96 "
   ]
  },
  {
   "cell_type": "code",
   "execution_count": 11,
   "metadata": {},
   "outputs": [
    {
     "name": "stdout",
     "output_type": "stream",
     "text": [
      "253\n"
     ]
    }
   ],
   "source": [
    "# import sys; input = lambda: sys.stdin.readline().rstrip()\n",
    "n_houses = int(input())\n",
    "rgbs = [tuple(map(int, input().split())) for _ in range(n_houses)]\n",
    "\n",
    "memos = [[float('inf')] * 3 for _ in range(n_houses)]\n",
    "for i in range(n_houses):\n",
    "    if i == 0:\n",
    "        r, g, b = rgbs[0]\n",
    "        memos[0][0] = r\n",
    "        memos[0][1] = g\n",
    "        memos[0][2] = b\n",
    "        continue\n",
    "    \n",
    "    memos[i][0] = min(memos[i-1][1] + rgbs[i][0], memos[i-1][2] + rgbs[i][0])    \n",
    "    memos[i][1] = min(memos[i-1][0] + rgbs[i][1], memos[i-1][2] + rgbs[i][1])    \n",
    "    memos[i][2] = min(memos[i-1][0] + rgbs[i][2], memos[i-1][1] + rgbs[i][2])    \n",
    "\n",
    "print(min(memos[-1]))"
   ]
  }
 ],
 "metadata": {
  "kernelspec": {
   "display_name": "Python 3",
   "language": "python",
   "name": "python3"
  },
  "language_info": {
   "codemirror_mode": {
    "name": "ipython",
    "version": 3
   },
   "file_extension": ".py",
   "mimetype": "text/x-python",
   "name": "python",
   "nbconvert_exporter": "python",
   "pygments_lexer": "ipython3",
   "version": "3.10.11"
  }
 },
 "nbformat": 4,
 "nbformat_minor": 2
}
