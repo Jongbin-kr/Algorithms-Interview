{
 "cells": [
  {
   "cell_type": "markdown",
   "metadata": {},
   "source": [
    "~~1. B에 가능한 모든 L, R 연산을 적용해서 모든 후보군을 만든다.\n",
    "2. A에 DP를 써서 B의 후보군들과 일치하게 만든다.~~\n",
    "\n",
    "안된다. L, R 연산을 먼저 적용하고, D, S를 하는 게 더 빠를 수도 있잖아.\n",
    "\n",
    "\n",
    "L, R, D, S를 다 넣어서 DP할 수가 있나?\n",
    "현재의 solution이 global하게 볼 때도 optimal인지에 대한 기준이 불분명하다.\n"
   ]
  },
  {
   "cell_type": "markdown",
   "metadata": {},
   "source": [
    "태그를 보니 그래프 관련 문제네....?\n",
    "\n",
    "정말로 그냥 brutally 다 해볼까?\n"
   ]
  },
  {
   "cell_type": "code",
   "execution_count": null,
   "metadata": {},
   "outputs": [],
   "source": [
    "from collections import deque\n",
    "\n",
    "for _ in range(T_testcases:= int(input())):\n",
    "    ## input\n",
    "    A, B = map(int, input().split())\n",
    "    \n",
    "    ## generate B_cands by using L, R operations\n",
    "    graph = dict()\n",
    "    graph[\"\"] = A\n",
    "    while _ in range(2):\n",
    "        \n",
    "        for k, v in graph.copy().items():\n",
    "            for operation in [\"D\", \"S\", \"L\", \"R\"]:\n",
    "                temp_k = k; temp_v = v\n",
    "                if operation == \"D\":\n",
    "                    temp_k += \"D\"\n",
    "                    temp_v = 2*temp_v if temp_v <= 9999 else 2*temp_v % 10_000\n",
    "                    if temp_v == B: print(temp_k)\n",
    "                    else: graph[temp_k] = temp_v; print(graph)\n",
    "                \n",
    "                elif operation == \"S\":\n",
    "                    temp_k += \"S\"\n",
    "                    temp_v = temp_v - 1 if temp_v != 0 else 9999\n",
    "                    if temp_v == B: print(temp_k)\n",
    "                    else: graph[temp_k] = temp_v; print(graph)\n",
    "                \n",
    "                elif operation == \"L\":\n",
    "                    temp_k += \"L\"\n",
    "                    dq = deque(list(str(temp_v)))\n",
    "                    dq.append(dq.popleft())\n",
    "                    temp_v = int(\"\".join(dq))\n",
    "                    if temp_v == B: print(temp_k)\n",
    "                    else: graph[temp_k] = temp_v; print(graph)\n",
    "                    \n",
    "                else:   # operation \"R\"\n",
    "                    temp_k += \"R\"\n",
    "                    dq = deque(list(str(temp_v)))\n",
    "                    dq.appendleft(dq.pop())\n",
    "                    temp_v = int(\"\".join(dq))\n",
    "                    if temp_v == B: print(temp_k)\n",
    "                    else: graph[temp_k] = temp_v; print(graph)                \n",
    "        # break\n",
    "\n"
   ]
  }
 ],
 "metadata": {
  "kernelspec": {
   "display_name": "Python 3",
   "language": "python",
   "name": "python3"
  },
  "language_info": {
   "codemirror_mode": {
    "name": "ipython",
    "version": 3
   },
   "file_extension": ".py",
   "mimetype": "text/x-python",
   "name": "python",
   "nbconvert_exporter": "python",
   "pygments_lexer": "ipython3",
   "version": "3.10.11"
  }
 },
 "nbformat": 4,
 "nbformat_minor": 2
}
