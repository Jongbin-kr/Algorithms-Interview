{
 "cells": [
  {
   "cell_type": "markdown",
   "metadata": {},
   "source": [
    "2*n 크기의 DP 테이블을 만들어서, 4 = 4 + max(1, 2, 3)를 하면 되겠군\n",
    "\n",
    "[0,0] [   ] [0,2]\n",
    "[1,0] [1,1] [   ]\n",
    "\n",
    "[0,0] [0,1] [   ]\n",
    "[1,0] [   ] [1,2]\n",
    "\n"
   ]
  },
  {
   "cell_type": "code",
   "execution_count": null,
   "metadata": {},
   "outputs": [
    {
     "name": "stdout",
     "output_type": "stream",
     "text": [
      "100\n"
     ]
    }
   ],
   "source": [
    "import sys; input = lambda: sys.stdin.readline()\n",
    "\n",
    "T_testcases = int(input())\n",
    "\n",
    "for _ in range(T_testcases):\n",
    "    N_length = int(input())\n",
    "    \n",
    "    first_row = list(map(int, input().split()))\n",
    "    second_row = list(map(int, input().split()))\n",
    "    \n",
    "    dp = [[0] * N_length for _ in range(2)]\n",
    "    \n",
    "    \n",
    "    for i in range(N_length):\n",
    "        # 초기 조건\n",
    "        if i == 0:\n",
    "            dp[0][0] = first_row[0]\n",
    "            dp[1][0] = second_row[0]\n",
    "        \n",
    "        elif i == 1:\n",
    "            dp[0][1] = dp[1][0] + first_row[1]\n",
    "            dp[1][1] = dp[0][0] + second_row[1]\n",
    "            \n",
    "        else:\n",
    "            dp[0][i] = first_row[i] + max([dp[1][i-1], dp[1][i-2], dp[0][i-2]])\n",
    "            dp[1][i] = second_row[i] + max([dp[0][i-1], dp[0][i-2], dp[1][i-2]])\n",
    "    \n",
    "    print(max(map(max, dp)))"
   ]
  }
 ],
 "metadata": {
  "kernelspec": {
   "display_name": "Python 3",
   "language": "python",
   "name": "python3"
  },
  "language_info": {
   "codemirror_mode": {
    "name": "ipython",
    "version": 3
   },
   "file_extension": ".py",
   "mimetype": "text/x-python",
   "name": "python",
   "nbconvert_exporter": "python",
   "pygments_lexer": "ipython3",
   "version": "3.10.11"
  }
 },
 "nbformat": 4,
 "nbformat_minor": 2
}
