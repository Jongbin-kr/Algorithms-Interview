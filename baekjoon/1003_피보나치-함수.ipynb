{
 "cells": [
  {
   "cell_type": "markdown",
   "metadata": {},
   "source": [
    "기본적인 피보나치. 근데 타임아웃"
   ]
  },
  {
   "cell_type": "code",
   "execution_count": 4,
   "metadata": {},
   "outputs": [
    {
     "name": "stdout",
     "output_type": "stream",
     "text": [
      "1 0\n",
      "0 1\n",
      "1 2\n"
     ]
    }
   ],
   "source": [
    "def fibonacci(n):\n",
    "    global cnt_0\n",
    "    global cnt_1\n",
    "    if n == 0:\n",
    "        cnt_0 += 1\n",
    "        return 0\n",
    "    \n",
    "    elif n == 1:\n",
    "        cnt_1 += 1\n",
    "        return 1\n",
    "    \n",
    "    else:\n",
    "        return fibonacci(n-1) + fibonacci(n-2)\n",
    "\n",
    "for _ in range(int(input())):\n",
    "    cnt_0 = 0; cnt_1 = 0       \n",
    "    fibonacci(int(input()))\n",
    "    print(cnt_0, cnt_1)"
   ]
  },
  {
   "cell_type": "markdown",
   "metadata": {},
   "source": [
    "dp로 해보자\n",
    "\n",
    "0 1 2 3 4 5 6\n",
    "0 1 1 2 3 5 8\n",
    "1 0 1 1      memo_0\n",
    "0 1 1 2      memo_1"
   ]
  },
  {
   "cell_type": "code",
   "execution_count": 3,
   "metadata": {},
   "outputs": [
    {
     "name": "stdout",
     "output_type": "stream",
     "text": [
      "5 8\n",
      "10946 17711\n"
     ]
    }
   ],
   "source": [
    "memo_0 = [1, 0] + [float('inf')] * 39\n",
    "memo_1 = [0, 1] + [float('inf')] * 39\n",
    "\n",
    "T = int(input())\n",
    "ns = [int(input()) for _ in range(T)]\n",
    "\n",
    "for i in range(2, max(ns)+1):\n",
    "    memo_0[i] = memo_0[i-1] + memo_0[i-2]\n",
    "    memo_1[i] = memo_1[i-1] + memo_1[i-2]\n",
    "    \n",
    "for n in ns:\n",
    "    print(memo_0[n], memo_1[n])"
   ]
  }
 ],
 "metadata": {
  "kernelspec": {
   "display_name": "Python 3",
   "language": "python",
   "name": "python3"
  },
  "language_info": {
   "codemirror_mode": {
    "name": "ipython",
    "version": 3
   },
   "file_extension": ".py",
   "mimetype": "text/x-python",
   "name": "python",
   "nbconvert_exporter": "python",
   "pygments_lexer": "ipython3",
   "version": "3.10.11"
  }
 },
 "nbformat": 4,
 "nbformat_minor": 2
}
