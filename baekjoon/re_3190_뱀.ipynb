{
 "cells": [
  {
   "cell_type": "code",
   "execution_count": 12,
   "metadata": {},
   "outputs": [
    {
     "name": "stdout",
     "output_type": "stream",
     "text": [
      "['F', 'F', 'D', 'F', 'F', 'F', 'F', 'F', 'F', 'F', 'F', 'F', 'F', 'F', 'F', 'L', 'F', 'F', 'D']\n"
     ]
    }
   ],
   "source": [
    "from collections import deque\n",
    "\n",
    "\n",
    "n_world_size = int(input())\n",
    "world = [[0] * n_world_size for _ in range(n_world_size)]\n",
    "\n",
    "k_apples = int(input())\n",
    "for _ in range(k_apples):\n",
    "    y, x = map(int, input().split())\n",
    "    y -= 1; x -= 1\n",
    "    world[y][x] = 2\n",
    "    \n",
    "l_cmds = int(input())\n",
    "cmds = deque()\n",
    "\n",
    "prev_time = 1\n",
    "directions = [(0, +1), (+1, 0), (0, -1), (-1, 0)]    # L, U, R, D\n",
    "direction_idx = 0\n",
    "for _ in range(l_cmds):\n",
    "    t, cmd = input().split(); t = int(t)\n",
    "    \n",
    "    cmds.extend([directions[direction_idx]] * t)\n",
    "    \n",
    "    if cmd == \"L\":\n",
    "        direction_idx = direction_idx + 1 if direction_idx < 3 else 0\n",
    "    else:\n",
    "        direction_idx = direction_idx - 1 if direction_idx >= 1 else 4\n",
    "    \n",
    "    prev_time = t\n",
    "    \n",
    "print(cmds)    \n",
    "\n",
    "\n",
    "class Snake():\n",
    "    def __init__(self,y=0, x=0):\n",
    "        self.y = y\n",
    "        self.x = x\n",
    "        \n",
    "    \n",
    "    def follow_cmds(self, cmds, t):\n",
    "        for cmd in cmds[t:]:\n",
    "            dy, dx = cmd[t]\n",
    "        \n",
    "            self.y += dy\n",
    "            self.x += dx\n",
    "\n",
    "\n",
    "\n",
    "head = Snake(0, 0)\n",
    "for t in range(len(cmds)):\n",
    "    head.move(cmds, t)\n",
    "    \n",
    "    \n",
    "        \n",
    "        \n",
    "            \n",
    "            \n",
    "        "
   ]
  }
 ],
 "metadata": {
  "kernelspec": {
   "display_name": "Python 3",
   "language": "python",
   "name": "python3"
  },
  "language_info": {
   "codemirror_mode": {
    "name": "ipython",
    "version": 3
   },
   "file_extension": ".py",
   "mimetype": "text/x-python",
   "name": "python",
   "nbconvert_exporter": "python",
   "pygments_lexer": "ipython3",
   "version": "3.10.11"
  }
 },
 "nbformat": 4,
 "nbformat_minor": 2
}
