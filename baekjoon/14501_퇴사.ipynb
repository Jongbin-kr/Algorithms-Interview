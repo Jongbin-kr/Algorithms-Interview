{
 "cells": [
  {
   "cell_type": "markdown",
   "metadata": {},
   "source": [
    "문제가 복잡하게 느껴지는 이유\n",
    "- 일을 할당받는 시작점은 1일차인데, 정작 보상을 계산해야하는 시점은 3일차임\n",
    "- 그러니까, 시작하는 날이 아니라, 끝나는 날을 기준으로 생각하도록 다시 정렬하자."
   ]
  },
  {
   "cell_type": "code",
   "execution_count": 14,
   "metadata": {},
   "outputs": [
    {
     "name": "stdout",
     "output_type": "stream",
     "text": [
      "(0, 0, 0)\n",
      "(1, 3, 10)\n",
      "(3, 3, 10)\n",
      "(4, 4, 20)\n",
      "(2, 6, 20)\n",
      "(5, 6, 15)\n",
      "(7, 8, 200)\n",
      "(6, 9, 40)\n",
      "[0, 0, 0, 10, 30, 30, 45, 45]\n",
      "45\n"
     ]
    }
   ],
   "source": [
    "n_days = int(input())\n",
    "timetable = [(0,0,0)]   # 인덱스값이랑 날짜를 맞추기 위함 + 0일차일때의 처리\n",
    "for start_day in range(1, n_days+1):\n",
    "    duration, money = map(int, input().split())\n",
    "    end_day = start_day + duration - 1\n",
    "    timetable.append((start_day, end_day, money))\n",
    "timetable.sort(key=lambda x: x[1])\n",
    "\n",
    "memo = [0] * (n_days+1)\n",
    "for time in timetable[1:]:\n",
    "    start_day, end_day, money = time\n",
    "    if end_day > n_days:    # 퇴사한 이후에 상담이 종료되는 경우\n",
    "        continue\n",
    "    \n",
    "    max_profit = max(memo[end_day], memo[start_day-1] + money)\n",
    "    memo[end_day:] = [max_profit] * (n_days - end_day + 1)\n",
    "\n",
    "print(memo[-1])"
   ]
  },
  {
   "cell_type": "code",
   "execution_count": 5,
   "metadata": {},
   "outputs": [
    {
     "data": {
      "text/plain": [
       "[0, 0, 0, 10, 30, 30, 45, 45]"
      ]
     },
     "execution_count": 5,
     "metadata": {},
     "output_type": "execute_result"
    }
   ],
   "source": [
    "memo"
   ]
  }
 ],
 "metadata": {
  "kernelspec": {
   "display_name": "Python 3",
   "language": "python",
   "name": "python3"
  },
  "language_info": {
   "codemirror_mode": {
    "name": "ipython",
    "version": 3
   },
   "file_extension": ".py",
   "mimetype": "text/x-python",
   "name": "python",
   "nbconvert_exporter": "python",
   "pygments_lexer": "ipython3",
   "version": "3.10.11"
  }
 },
 "nbformat": 4,
 "nbformat_minor": 2
}
