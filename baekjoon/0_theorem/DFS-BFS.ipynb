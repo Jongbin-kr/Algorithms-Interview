{
 "cells": [
  {
   "cell_type": "markdown",
   "metadata": {},
   "source": [
    "## 재귀"
   ]
  },
  {
   "cell_type": "code",
   "execution_count": 2,
   "metadata": {},
   "outputs": [
    {
     "name": "stdout",
     "output_type": "stream",
     "text": [
      "1번째 재귀함수에서 2번째 재귀함수를 호출한다.\n",
      "2번째 재귀함수에서 3번째 재귀함수를 호출한다.\n",
      "3번째 재귀함수에서 4번째 재귀함수를 호출한다.\n",
      "4번째 재귀함수에서 5번째 재귀함수를 호출한다.\n",
      "4번째 재귀 함수를 종료한다.\n",
      "3번째 재귀 함수를 종료한다.\n",
      "2번째 재귀 함수를 종료한다.\n",
      "1번째 재귀 함수를 종료한다.\n"
     ]
    }
   ],
   "source": [
    "def recursive_function(i):\n",
    "    if i == 5:\n",
    "        return None\n",
    "    \n",
    "    print(f\"{i}번째 재귀함수에서 {i+1}번째 재귀함수를 호출한다.\")\n",
    "    recursive_function(i+1)\n",
    "    print(f\"{i}번째 재귀 함수를 종료한다.\")\n",
    "    \n",
    "recursive_function(1)"
   ]
  },
  {
   "cell_type": "markdown",
   "metadata": {},
   "source": [
    "## DFS\n",
    "- 스택 혹은 재귀\n",
    "- 시간 복잡도: $O(N)$"
   ]
  },
  {
   "cell_type": "code",
   "execution_count": 13,
   "metadata": {},
   "outputs": [
    {
     "name": "stdout",
     "output_type": "stream",
     "text": [
      "1\n",
      "2\n",
      "7\n",
      "6\n",
      "8\n",
      "3\n",
      "4\n",
      "5\n"
     ]
    }
   ],
   "source": [
    "def dfs(graph, v, visited):\n",
    "    visited[v] = True\n",
    "    print(v)\n",
    "    # print(stack)\n",
    "    \n",
    "    for i in graph[v]:\n",
    "        if not visited[i]:\n",
    "            dfs(graph, i, visited)\n",
    "            \n",
    "\n",
    "graph = [\n",
    "    [],\n",
    "    [2, 3, 8],\n",
    "    [1, 7],\n",
    "    [1, 4, 5],\n",
    "    [3, 5],\n",
    "    [3, 4],\n",
    "    [7],\n",
    "    [2, 6, 8],\n",
    "    [1, 7]\n",
    "]\n",
    "\n",
    "visited = [False] * 9\n",
    "\n",
    "dfs(graph, 1, visited)"
   ]
  },
  {
   "cell_type": "code",
   "execution_count": 1,
   "metadata": {},
   "outputs": [
    {
     "name": "stdout",
     "output_type": "stream",
     "text": [
      "A []\n",
      "B ['A']\n",
      "D ['A', 'B']\n",
      "E ['A', 'B', 'D']\n",
      "F ['A', 'B', 'D', 'E']\n",
      "C ['A', 'B', 'D', 'E', 'F']\n",
      "G ['A', 'B', 'D', 'E', 'F', 'C']\n",
      "H ['A', 'B', 'D', 'E', 'F', 'C', 'G']\n",
      "I ['A', 'B', 'D', 'E', 'F', 'C', 'G', 'H']\n",
      "J ['A', 'B', 'D', 'E', 'F', 'C', 'G', 'H', 'I']\n"
     ]
    },
    {
     "data": {
      "text/plain": [
       "['A', 'B', 'D', 'E', 'F', 'C', 'G', 'H', 'I', 'J']"
      ]
     },
     "execution_count": 1,
     "metadata": {},
     "output_type": "execute_result"
    }
   ],
   "source": [
    "## 출처: https://data-marketing-bk.tistory.com/entry/DFS-%EC%99%84%EB%B2%BD-%EA%B5%AC%ED%98%84%ED%95%98%EA%B8%B0-%ED%8C%8C%EC%9D%B4%EC%8D%AC\n",
    "def dfs_recursive(graph, start, visited = []):\n",
    "    print(start, visited)\n",
    "    visited.append(start)\n",
    " \n",
    "    for node in graph[start]:\n",
    "        if node not in visited:\n",
    "            dfs_recursive(graph, node, visited)\n",
    "    return visited\n",
    "\n",
    "\n",
    "graph = dict()\n",
    " \n",
    "graph['A'] = ['B', 'C']\n",
    "graph['B'] = ['A', 'D']\n",
    "graph['C'] = ['A', 'G', 'H', 'I']\n",
    "graph['D'] = ['B', 'E', 'F']\n",
    "graph['E'] = ['D']\n",
    "graph['F'] = ['D']\n",
    "graph['G'] = ['C']\n",
    "graph['H'] = ['C']\n",
    "graph['I'] = ['C', 'J']\n",
    "graph['J'] = ['I']\n",
    "\n",
    "dfs_recursive(graph, 'A')"
   ]
  },
  {
   "cell_type": "code",
   "execution_count": 2,
   "metadata": {},
   "outputs": [
    {
     "data": {
      "text/plain": [
       "['A', 'C', 'I', 'J', 'H', 'G', 'B', 'D', 'F', 'E']"
      ]
     },
     "execution_count": 2,
     "metadata": {},
     "output_type": "execute_result"
    }
   ],
   "source": [
    "def dfs(graph, start_node):\n",
    " \n",
    "    need_visited, visited = list(), list()\n",
    " \n",
    "    need_visited.append(start_node)\n",
    "    \n",
    "    while need_visited:\n",
    " \n",
    "        node = need_visited.pop()\n",
    "        \n",
    "        if node not in visited:\n",
    "            visited.append(node)\n",
    "            need_visited.extend(graph[node])\n",
    "            \n",
    "    return visited\n",
    "\n",
    "dfs(graph, 'A')"
   ]
  },
  {
   "cell_type": "markdown",
   "metadata": {},
   "source": [
    "## BFS"
   ]
  },
  {
   "cell_type": "code",
   "execution_count": 1,
   "metadata": {},
   "outputs": [
    {
     "name": "stdout",
     "output_type": "stream",
     "text": [
      "1\n",
      "2\n",
      "3\n",
      "8\n",
      "7\n",
      "4\n",
      "5\n",
      "6\n"
     ]
    }
   ],
   "source": [
    "from collections import deque\n",
    "\n",
    "def bfs(graph, start, visited):\n",
    "    queue = deque([start])\n",
    "    visited[start] = True\n",
    "    \n",
    "    while queue:\n",
    "        v = queue.popleft()\n",
    "        print(v)\n",
    "        \n",
    "        for i in graph[v]:\n",
    "            if not visited[i]:\n",
    "                queue.append(i)\n",
    "                visited[i] = True\n",
    "                \n",
    "                \n",
    "graph = [\n",
    "    [],\n",
    "    [2, 3, 8],\n",
    "    [1, 7],\n",
    "    [1, 4, 5],\n",
    "    [3, 5],\n",
    "    [3, 4],\n",
    "    [7],\n",
    "    [2, 6, 8],\n",
    "    [1, 7]\n",
    "]\n",
    "\n",
    "visited = [False] * 9\n",
    "bfs(graph, 1, visited)"
   ]
  },
  {
   "cell_type": "code",
   "execution_count": 7,
   "metadata": {},
   "outputs": [
    {
     "data": {
      "text/plain": [
       "['A', 'B', 'C', 'D', 'G', 'H', 'I', 'E', 'F', 'J']"
      ]
     },
     "execution_count": 7,
     "metadata": {},
     "output_type": "execute_result"
    }
   ],
   "source": [
    "## 출처: https://data-marketing-bk.tistory.com/entry/DFS-%EC%99%84%EB%B2%BD-%EA%B5%AC%ED%98%84%ED%95%98%EA%B8%B0-%ED%8C%8C%EC%9D%B4%EC%8D%AC\n",
    "from collections import deque\n",
    "def bfs(graph, start_node):\n",
    "    need_visited, visited = deque(), []\n",
    "    need_visited.append(start_node)\n",
    "    \n",
    "    \n",
    "    while need_visited:\n",
    "        node = need_visited.popleft()\n",
    "        \n",
    "        if node not in visited:\n",
    "            visited.append(node)\n",
    "            need_visited.extend(graph[node])\n",
    "            \n",
    "    return visited\n",
    "\n",
    "\n",
    "graph = dict()\n",
    " \n",
    "graph['A'] = ['B', 'C']\n",
    "graph['B'] = ['A', 'D']\n",
    "graph['C'] = ['A', 'G', 'H', 'I']\n",
    "graph['D'] = ['B', 'E', 'F']\n",
    "graph['E'] = ['D']\n",
    "graph['F'] = ['D']\n",
    "graph['G'] = ['C']\n",
    "graph['H'] = ['C']\n",
    "graph['I'] = ['C', 'J']\n",
    "graph['J'] = ['I']\n",
    "\n",
    "bfs(graph, 'A')"
   ]
  },
  {
   "cell_type": "markdown",
   "metadata": {},
   "source": [
    "## DFS vs BFS\n",
    "- 구현상의 차이점은, `need_visited` 목록을 관리하는 데 있어서 스택을 사용하느냐 혹은 큐를 사용하느냐하는 차이밖에 없다!"
   ]
  },
  {
   "cell_type": "code",
   "execution_count": null,
   "metadata": {},
   "outputs": [],
   "source": [
    "def dfs(graph, start_node):\n",
    "    need_visited, visited = list(), list()\n",
    "    need_visited.append(start_node)\n",
    "    \n",
    "    while need_visited:\n",
    "        node = need_visited.pop()\n",
    "        \n",
    "        if node not in visited:\n",
    "            visited.append(node)\n",
    "            need_visited.extend(graph[node])\n",
    "            \n",
    "    return visited"
   ]
  },
  {
   "cell_type": "code",
   "execution_count": null,
   "metadata": {},
   "outputs": [],
   "source": [
    "from collections import deque\n",
    "def bfs(graph, start_node):\n",
    "    need_visited, visited = deque(), []\n",
    "    need_visited.append(start_node)\n",
    "    \n",
    "    \n",
    "    while need_visited:\n",
    "        node = need_visited.popleft()\n",
    "        \n",
    "        if node not in visited:\n",
    "            visited.append(node)\n",
    "            need_visited.extend(graph[node])\n",
    "            \n",
    "    return visited"
   ]
  }
 ],
 "metadata": {
  "kernelspec": {
   "display_name": "Python 3",
   "language": "python",
   "name": "python3"
  },
  "language_info": {
   "codemirror_mode": {
    "name": "ipython",
    "version": 3
   },
   "file_extension": ".py",
   "mimetype": "text/x-python",
   "name": "python",
   "nbconvert_exporter": "python",
   "pygments_lexer": "ipython3",
   "version": "3.10.11"
  }
 },
 "nbformat": 4,
 "nbformat_minor": 2
}
