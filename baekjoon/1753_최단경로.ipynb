{
 "cells": [
  {
   "cell_type": "markdown",
   "metadata": {},
   "source": [
    "그냥 흔한 다익스크라 문제 아닌가?\n",
    "\n",
    "~~근데 왜 타임오버?~~ 그냥 input이 느려서 발생한 문제였다..."
   ]
  },
  {
   "cell_type": "code",
   "execution_count": 10,
   "metadata": {},
   "outputs": [
    {
     "name": "stdout",
     "output_type": "stream",
     "text": [
      "0\n",
      "2\n",
      "3\n",
      "7\n",
      "INF\n"
     ]
    }
   ],
   "source": [
    "import sys; input = lambda: sys.stdin.readline().rstrip()\n",
    "from heapq import heappop, heappush\n",
    "from collections import defaultdict\n",
    "\n",
    "\n",
    "V_nodes, E_edges = map(int, input().split())\n",
    "K_start = int(input())\n",
    "K_start -= 1\n",
    "\n",
    "graph = defaultdict(list)\n",
    "for _ in range(E_edges):\n",
    "    start, end, cost = map(int, input().split())\n",
    "    start -= 1; end -= 1    # adjust index to start with 0\n",
    "    graph[start].append((cost, end))\n",
    "    \n",
    "\n",
    "def dijkstra(start):\n",
    "    min_dists = [float('inf')] * V_nodes\n",
    "    min_dists[start] = 0\n",
    "    \n",
    "    to_visit = []\n",
    "    heappush(to_visit, (0, start))\n",
    "    \n",
    "    while to_visit:\n",
    "        current_dist, current_node = heappop(to_visit)\n",
    "        \n",
    "        if min_dists[current_node] < current_dist:\n",
    "            continue\n",
    "        \n",
    "        for next_dist, next_node in graph[current_node]:\n",
    "            detouring_dist = current_dist + next_dist\n",
    "            if detouring_dist < min_dists[next_node]:\n",
    "                min_dists[next_node] = detouring_dist\n",
    "                to_visit.append((detouring_dist, next_node))\n",
    "    \n",
    "    return min_dists\n",
    "                \n",
    "\n",
    "min_dists = dijkstra(K_start)\n",
    "print(*[min_dist if isinstance(min_dist, int) else 'INF' for min_dist in  min_dists ], sep='\\n')           "
   ]
  }
 ],
 "metadata": {
  "kernelspec": {
   "display_name": "Python 3",
   "language": "python",
   "name": "python3"
  },
  "language_info": {
   "codemirror_mode": {
    "name": "ipython",
    "version": 3
   },
   "file_extension": ".py",
   "mimetype": "text/x-python",
   "name": "python",
   "nbconvert_exporter": "python",
   "pygments_lexer": "ipython3",
   "version": "3.10.11"
  }
 },
 "nbformat": 4,
 "nbformat_minor": 2
}
