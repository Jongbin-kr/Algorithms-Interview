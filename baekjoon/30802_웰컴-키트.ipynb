{
 "cells": [
  {
   "cell_type": "markdown",
   "metadata": {},
   "source": [
    "티셔츠는 남아도 된다. T장 묶음으로만 주문\n",
    "펜은 정확히 참가자 수많큼. P자루 혹은 한자루씩 주문\n",
    "\n",
    "그냥 간단한 수학 문제인듯"
   ]
  },
  {
   "cell_type": "code",
   "execution_count": 3,
   "metadata": {},
   "outputs": [
    {
     "name": "stdout",
     "output_type": "stream",
     "text": [
      "7\n",
      "3 2\n"
     ]
    }
   ],
   "source": [
    "from typing import *\n",
    "\n",
    "N = int(input())\n",
    "n_sizes = map(int, input().split())\n",
    "t_bundle, p_bundle = map(int, input().split())\n",
    "\n",
    "## t_bunlde의 개수\n",
    "def t_count(n_sizes: List[int], t_bundle: int) -> int:\n",
    "    cnt = 0\n",
    "    for n_size in n_sizes:\n",
    "        q, r = divmod(n_size, t_bundle)\n",
    "        if r == 0:\n",
    "            cnt += q\n",
    "        else:\n",
    "            cnt += (q+1)\n",
    "    \n",
    "    return cnt\n",
    "print(t_count(n_sizes, t_bundle))\n",
    "\n",
    "## p_bundle의 개수와 낱개 연필 개수\n",
    "print(*divmod(N, p_bundle))"
   ]
  },
  {
   "cell_type": "markdown",
   "metadata": {},
   "source": [
    "참고할만한 코드\n",
    "\n",
    "- `(x+t-1)//t` 이거 무슨 의미지?\n",
    "    - **분수 올림 계산을 하는 코드!**"
   ]
  },
  {
   "cell_type": "code",
   "execution_count": null,
   "metadata": {},
   "outputs": [],
   "source": [
    "n = int(input())\n",
    "a = map(int, input().split())\n",
    "t, p = map(int, input().split())\n",
    "print(sum((x+t-1)//t for x in a))\n",
    "print(*divmod(n, p))"
   ]
  }
 ],
 "metadata": {
  "kernelspec": {
   "display_name": "Python 3",
   "language": "python",
   "name": "python3"
  },
  "language_info": {
   "codemirror_mode": {
    "name": "ipython",
    "version": 3
   },
   "file_extension": ".py",
   "mimetype": "text/x-python",
   "name": "python",
   "nbconvert_exporter": "python",
   "pygments_lexer": "ipython3",
   "version": "3.10.11"
  }
 },
 "nbformat": 4,
 "nbformat_minor": 2
}
