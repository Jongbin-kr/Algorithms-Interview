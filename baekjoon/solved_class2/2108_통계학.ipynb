{
 "cells": [
  {
   "cell_type": "markdown",
   "metadata": {},
   "source": [
    "1 3 8 2 -2\n",
    "-2 1 2 3 8"
   ]
  },
  {
   "cell_type": "code",
   "execution_count": 23,
   "metadata": {},
   "outputs": [
    {
     "name": "stdout",
     "output_type": "stream",
     "text": [
      "0\n",
      "0\n",
      "0\n",
      "1\n"
     ]
    }
   ],
   "source": [
    "from collections import Counter\n",
    "# import sys; input = sys.stdin.readline\n",
    "N = int(input())\n",
    "nums = sorted([int(input()) for _ in range(N)])\n",
    "\n",
    "print(round(sum(nums) / len(nums)))     ## 산술평균\n",
    "print(nums[int(len(nums) / 2)])        ## 중앙값\n",
    "\n",
    "## 최빈값\n",
    "freq = Counter(nums)\n",
    "if len(freq) == 1:\n",
    "    print(nums[0])  ## 원소가 하나밖에 없는 경우, 그냥 바로 해당 원소 출력\n",
    "elif freq.most_common(2)[0][1] == freq.most_common(2)[1][1]:    \n",
    "    ## 최빈값이 두 개 이상인 경우, 두번째로 작은 최빈값을 뽑는다. (오름차순으로 정렬했으므로, 그냥 두 번째 최빈값을 뽑으면 된다)\n",
    "    print(freq.most_common(2)[1][0])\n",
    "else:\n",
    "    print(freq.most_common(1)[0][0])\n",
    "\n",
    "## 범위   \n",
    "print(nums[-1] - nums[0])               "
   ]
  },
  {
   "cell_type": "code",
   "execution_count": 22,
   "metadata": {},
   "outputs": [
    {
     "data": {
      "text/plain": [
       "[(0, 2)]"
      ]
     },
     "execution_count": 22,
     "metadata": {},
     "output_type": "execute_result"
    }
   ],
   "source": [
    "freq = Counter([0, 0, -1, -1])\n",
    "freq.most_common(2)"
   ]
  }
 ],
 "metadata": {
  "kernelspec": {
   "display_name": "Python 3",
   "language": "python",
   "name": "python3"
  },
  "language_info": {
   "codemirror_mode": {
    "name": "ipython",
    "version": 3
   },
   "file_extension": ".py",
   "mimetype": "text/x-python",
   "name": "python",
   "nbconvert_exporter": "python",
   "pygments_lexer": "ipython3",
   "version": "3.10.11"
  }
 },
 "nbformat": 4,
 "nbformat_minor": 2
}
