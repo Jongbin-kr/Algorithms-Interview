{
 "cells": [
  {
   "cell_type": "markdown",
   "metadata": {},
   "source": [
    "Iteralbe[Iterable[int, int]] 형태의 객체에 대해서 sort, sorted를 쓸 때, 둘 다 오름차순으로 정렬하는거면 굳이 key arg을 안줘도 되는구나?"
   ]
  },
  {
   "cell_type": "code",
   "execution_count": 4,
   "metadata": {},
   "outputs": [
    {
     "name": "stdout",
     "output_type": "stream",
     "text": [
      "1 -1\n",
      "1 1\n",
      "2 2\n",
      "3 3\n",
      "3 4\n"
     ]
    }
   ],
   "source": [
    "import sys; input = sys.stdin.readline\n",
    "\n",
    "N = int(input())\n",
    "xys = [tuple(map(int, input().split())) for _ in range(N)]\n",
    "\n",
    "xys.sort(key=lambda x: (x[0], x[1]))\n",
    "\n",
    "for xy in xys:\n",
    "    print(*xy)"
   ]
  },
  {
   "cell_type": "code",
   "execution_count": null,
   "metadata": {},
   "outputs": [],
   "source": [
    "import sys; input = sys.stdin.readline\n",
    "for x, y in sorted([tuple(map(int, input().split())) for _ in range(int(input()))] ): \n",
    "    print(x, y)"
   ]
  },
  {
   "cell_type": "code",
   "execution_count": 5,
   "metadata": {},
   "outputs": [
    {
     "data": {
      "text/plain": [
       "[(1, -3), (1, -2), (1, 1), (2, 1)]"
      ]
     },
     "execution_count": 5,
     "metadata": {},
     "output_type": "execute_result"
    }
   ],
   "source": [
    "sorted([(1,1), (2,1), (1,-2), (1,-3)])"
   ]
  }
 ],
 "metadata": {
  "kernelspec": {
   "display_name": "Python 3",
   "language": "python",
   "name": "python3"
  },
  "language_info": {
   "codemirror_mode": {
    "name": "ipython",
    "version": 3
   },
   "file_extension": ".py",
   "mimetype": "text/x-python",
   "name": "python",
   "nbconvert_exporter": "python",
   "pygments_lexer": "ipython3",
   "version": "3.10.11"
  }
 },
 "nbformat": 4,
 "nbformat_minor": 2
}
