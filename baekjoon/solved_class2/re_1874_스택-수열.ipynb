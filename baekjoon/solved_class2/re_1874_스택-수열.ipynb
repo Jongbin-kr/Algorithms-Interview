{
 "cells": [
  {
   "cell_type": "code",
   "execution_count": 48,
   "metadata": {},
   "outputs": [],
   "source": [
    "N = 8\n",
    "targets = list(map(int, \"\"\"\n",
    "4\n",
    "3\n",
    "6\n",
    "8\n",
    "7\n",
    "5\n",
    "2\n",
    "1\"\"\".split()))\n"
   ]
  },
  {
   "cell_type": "markdown",
   "metadata": {},
   "source": [
    "첫번째로 제출한 코드.\n",
    "\n",
    "근데 스택으로 못만드는 경우는 `NO`를 출력해야하는데, 어떻게 하지?"
   ]
  },
  {
   "cell_type": "code",
   "execution_count": 49,
   "metadata": {},
   "outputs": [
    {
     "name": "stdout",
     "output_type": "stream",
     "text": [
      "[1, 2, 5, 7, 8, 6, 3, 4]\n",
      "+\n",
      "+\n",
      "+\n",
      "+\n",
      "-\n",
      "-\n",
      "+\n",
      "+\n",
      "-\n",
      "+\n",
      "+\n",
      "-\n",
      "-\n",
      "-\n",
      "-\n",
      "-\n"
     ]
    }
   ],
   "source": [
    "N = int(input())\n",
    "\n",
    "targets = []\n",
    "for _ in range(N):\n",
    "    targets.append(int(input()))\n",
    "targets.reverse()\n",
    "\n",
    "highest = 0\n",
    "while targets:\n",
    "    target = targets.pop()\n",
    "    if highest <= target:\n",
    "        for _ in range(target - highest):\n",
    "            print('+')  # push\n",
    "        print('-')  # pop\n",
    "        highest = target\n",
    "    else:\n",
    "        print('-')"
   ]
  },
  {
   "cell_type": "code",
   "execution_count": 71,
   "metadata": {},
   "outputs": [
    {
     "name": "stdout",
     "output_type": "stream",
     "text": [
      "NO\n"
     ]
    }
   ],
   "source": [
    "# N = int(input())\n",
    "\n",
    "# targets = []\n",
    "# for _ in range(N):\n",
    "#     targets.append(int(input()))\n",
    "# targets.reverse()\n",
    "\n",
    "N = 5\n",
    "targets = list(map(int, \"\"\"\n",
    "1\n",
    "2\n",
    "5\n",
    "3\n",
    "4\"\"\".split()))\n",
    "targets.reverse()\n",
    "\n",
    "\n",
    "answers = []\n",
    "highest = 0\n",
    "while targets:\n",
    "    if highest == N:\n",
    "        if targets != sorted(targets):\n",
    "            answers.append('NO')\n",
    "            break\n",
    "        else:\n",
    "            for _ in range(len(targets)): \n",
    "                answers.append('-')\n",
    "            break\n",
    "        \n",
    "    target = targets.pop()\n",
    "    if highest <= target:\n",
    "        for _ in range(target - highest):\n",
    "            answers.append('+')\n",
    "        answers.append('-')\n",
    "        highest = target\n",
    "    else:\n",
    "        answers.append('-')\n",
    "        \n",
    "if answers[-1] == 'NO':\n",
    "    print('NO')\n",
    "else: \n",
    "    for answer in answers:\n",
    "        print(answer)"
   ]
  }
 ],
 "metadata": {
  "kernelspec": {
   "display_name": "Python 3",
   "language": "python",
   "name": "python3"
  },
  "language_info": {
   "codemirror_mode": {
    "name": "ipython",
    "version": 3
   },
   "file_extension": ".py",
   "mimetype": "text/x-python",
   "name": "python",
   "nbconvert_exporter": "python",
   "pygments_lexer": "ipython3",
   "version": "3.10.11"
  }
 },
 "nbformat": 4,
 "nbformat_minor": 2
}
