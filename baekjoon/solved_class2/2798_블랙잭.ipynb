{
 "cells": [
  {
   "cell_type": "markdown",
   "metadata": {},
   "source": [
    "그리디로 하면 안되겠지?\n",
    "\n",
    "dp로 하는 게 맞는데, \n",
    "\n",
    "18 5 6 7 \n",
    "21 6 7 8: 작은 수부터 하나씩 뺴보면서 큰 수가 나오도록\n",
    "\n",
    "\n",
    "36 93 136 181 185 214 216 245 295 315\n",
    "265    36 93 136\n",
    "410    93 136 181 (317) + 185   \n",
    "~~502    136 181 185~~\n",
    "459       93 181 185 366+93=459\n",
    "        93 181 185 + 214 = 366+214 = 580\n",
    "        93 185 + 214 = 278+214 = 492\n",
    "492     93 185 214 + 216 = 399+216\n",
    "        93 + 185 = 278+216 = 494\n",
    "\n",
    "494 = 93 185 216 + 245 = \n",
    "      93 + 216 + 245 = 309+245 = \n",
    "      93 +185 + 245 = 278+245 = \n",
    "\n",
    "\n",
    "\n",
    "[36, 93, 138, 181, 185, 214, 216, 245, 295, 315]\n",
    "36 93 138 =267\n",
    "93+138+181=412\n",
    "93+181+185=459\n",
    "93+185+214=492\n",
    "\n"
   ]
  },
  {
   "cell_type": "code",
   "execution_count": 19,
   "metadata": {},
   "outputs": [
    {
     "data": {
      "text/plain": [
       "523"
      ]
     },
     "execution_count": 19,
     "metadata": {},
     "output_type": "execute_result"
    }
   ],
   "source": [
    "93+185+245"
   ]
  },
  {
   "cell_type": "code",
   "execution_count": null,
   "metadata": {},
   "outputs": [],
   "source": [
    "N, M = map(int, input().split())\n",
    "cards = sorted(map(int, input().split()))\n",
    "\n"
   ]
  }
 ],
 "metadata": {
  "kernelspec": {
   "display_name": "Python 3",
   "language": "python",
   "name": "python3"
  },
  "language_info": {
   "codemirror_mode": {
    "name": "ipython",
    "version": 3
   },
   "file_extension": ".py",
   "mimetype": "text/x-python",
   "name": "python",
   "nbconvert_exporter": "python",
   "pygments_lexer": "ipython3",
   "version": "3.10.11"
  }
 },
 "nbformat": 4,
 "nbformat_minor": 2
}
