{
 "cells": [
  {
   "cell_type": "markdown",
   "metadata": {},
   "source": [
    "스택의 연산이로다"
   ]
  },
  {
   "cell_type": "code",
   "execution_count": 3,
   "metadata": {},
   "outputs": [
    {
     "name": "stdout",
     "output_type": "stream",
     "text": [
      "NO\n",
      "NO\n",
      "NO\n"
     ]
    }
   ],
   "source": [
    "N = int(input())\n",
    "for _ in range(N):\n",
    "    pss = list(input())\n",
    "    stack = []\n",
    "    for ps in pss:\n",
    "        if ps == '(':\n",
    "            stack.append('(')\n",
    "        else:\n",
    "            try:\n",
    "                stack.pop()\n",
    "            except:\n",
    "                print('NO')     ## )이 (보다 많은 경우\n",
    "                break\n",
    "    else:   ## 끝까지 연산을 끝냈는데,\n",
    "        if stack:   ## 만약 (이 남아있는 경우\n",
    "            print('NO')\n",
    "        else:       ## 스택에 아무것도 남아있지 않은 경우\n",
    "            print('YES')        "
   ]
  }
 ],
 "metadata": {
  "kernelspec": {
   "display_name": "Python 3",
   "language": "python",
   "name": "python3"
  },
  "language_info": {
   "codemirror_mode": {
    "name": "ipython",
    "version": 3
   },
   "file_extension": ".py",
   "mimetype": "text/x-python",
   "name": "python",
   "nbconvert_exporter": "python",
   "pygments_lexer": "ipython3",
   "version": "3.10.11"
  }
 },
 "nbformat": 4,
 "nbformat_minor": 2
}
