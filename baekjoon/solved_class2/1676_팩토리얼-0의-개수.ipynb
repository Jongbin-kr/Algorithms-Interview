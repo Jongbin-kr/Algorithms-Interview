{
 "cells": [
  {
   "cell_type": "code",
   "execution_count": 4,
   "metadata": {},
   "outputs": [
    {
     "name": "stdout",
     "output_type": "stream",
     "text": [
      "0\n"
     ]
    }
   ],
   "source": [
    "from math import factorial\n",
    "\n",
    "N = int(input())\n",
    "N = str(factorial(N))\n",
    "\n",
    "cnt = 0\n",
    "for char in N[::-1]:\n",
    "    if char == '0':\n",
    "        cnt += 1\n",
    "    else:\n",
    "        break\n",
    "print(cnt)"
   ]
  },
  {
   "cell_type": "markdown",
   "metadata": {},
   "source": [
    "이런 미친 코드가 있다니...! [출처](https://www.acmicpc.net/source/30787540)\n",
    "\n",
    "GPT의 설명\n",
    "```\n",
    "팩토리얼과 끝에 있는 0의 관계\n",
    "팩토리얼을 계산할 때 끝에 0이 붙으려면 10이 필요합니다. 10은 2와 5의 곱으로 구성되며, 팩토리얼 값을 계산할 때 2의 개수는 항상 5의 개수보다 많습니다. 따라서, 끝에 있는 0의 개수는 5가 몇 번 곱해지는지에 달려 있습니다.\n",
    "\n",
    "예를 들어:\n",
    "\n",
    "5! = 1 × 2 × 3 × 4 × 5 = 120 (끝에 0이 1개)\n",
    "10! = 1 × 2 × 3 × 4 × 5 × 6 × 7 × 8 × 9 × 10 = 3628800 (끝에 0이 2개)\n",
    "왜 N // 5 + N // 25 + N // 125 인가?\n",
    "N!에서 5가 몇 번 등장하는지를 세면 됩니다. 예를 들어, 25는 5가 두 번 포함되어 있으므로 한 번 더 카운트해야 합니다.\n",
    "\n",
    "N // 5: N까지의 숫자 중 5의 배수의 개수를 셉니다.\n",
    "N // 25: N까지의 숫자 중 25의 배수의 개수를 셉니다. 25는 5가 두 번 포함되어 있으므로 5의 배수에서 한 번 더 카운트됩니다.\n",
    "N // 125: N까지의 숫자 중 125의 배수의 개수를 셉니다. 125는 5가 세 번 포함되어 있으므로 추가로 카운트됩니다.\n",
    "예를 들어, N = 100인 경우:\n",
    "\n",
    "5의 배수는 20개 (5, 10, 15, ..., 100)\n",
    "25의 배수는 4개 (25, 50, 75, 100)\n",
    "125의 배수는 0개 (100보다 작은 125의 배수가 없음)\n",
    "따라서, 5의 배수에서 20개, 25의 배수에서 추가로 4개, 125의 배수에서 추가로 0개가 있으므로 총 24개의 5가 있습니다. 이는 곧 팩토리얼 값의 끝에 있는 0의 개수와 같습니다.\n",
    "```"
   ]
  },
  {
   "cell_type": "code",
   "execution_count": null,
   "metadata": {},
   "outputs": [],
   "source": [
    "N = int(input())\n",
    "print(N // 5 + N // 25 + N // 125)"
   ]
  }
 ],
 "metadata": {
  "kernelspec": {
   "display_name": "Python 3",
   "language": "python",
   "name": "python3"
  },
  "language_info": {
   "codemirror_mode": {
    "name": "ipython",
    "version": 3
   },
   "file_extension": ".py",
   "mimetype": "text/x-python",
   "name": "python",
   "nbconvert_exporter": "python",
   "pygments_lexer": "ipython3",
   "version": "3.10.11"
  }
 },
 "nbformat": 4,
 "nbformat_minor": 2
}
