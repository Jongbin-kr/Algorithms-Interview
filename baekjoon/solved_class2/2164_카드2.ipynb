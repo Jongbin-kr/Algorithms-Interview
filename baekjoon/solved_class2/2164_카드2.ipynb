{
 "cells": [
  {
   "cell_type": "markdown",
   "metadata": {},
   "source": [
    "deque 사용해서 그냥 그대로 구현?"
   ]
  },
  {
   "cell_type": "code",
   "execution_count": 3,
   "metadata": {},
   "outputs": [
    {
     "name": "stdout",
     "output_type": "stream",
     "text": [
      "4\n"
     ]
    }
   ],
   "source": [
    "from collections import deque\n",
    "q = deque(range(1, int(input())+1))\n",
    "\n",
    "while len(q) != 1:\n",
    "    q.popleft()     ## 1. 제일 위에 있는 카드 버리고,\n",
    "    card = q.popleft()         ## 2. 다음 위에 있는 카드를 맨 밑으로 옮긴다\n",
    "    q.append(card)\n",
    "else:\n",
    "    print(q.pop())"
   ]
  }
 ],
 "metadata": {
  "kernelspec": {
   "display_name": "Python 3",
   "language": "python",
   "name": "python3"
  },
  "language_info": {
   "codemirror_mode": {
    "name": "ipython",
    "version": 3
   },
   "file_extension": ".py",
   "mimetype": "text/x-python",
   "name": "python",
   "nbconvert_exporter": "python",
   "pygments_lexer": "ipython3",
   "version": "3.10.11"
  }
 },
 "nbformat": 4,
 "nbformat_minor": 2
}
