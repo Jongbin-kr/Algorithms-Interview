{
 "cells": [
  {
   "cell_type": "markdown",
   "metadata": {},
   "source": [
    "처음으로 푼 코드.\n",
    "근데 1부터 쭉 순회하기 떄문에, 시간초과"
   ]
  },
  {
   "cell_type": "code",
   "execution_count": 23,
   "metadata": {},
   "outputs": [
    {
     "name": "stdout",
     "output_type": "stream",
     "text": [
      "3\n",
      "5\n",
      "7\n",
      "11\n",
      "13\n"
     ]
    }
   ],
   "source": [
    "M, N = map(int, input().split())\n",
    "nums = list(range(M, N+1))\n",
    "\n",
    "if 1 in nums:\n",
    "    nums.remove(1)\n",
    "\n",
    "for num in range(2, N+1):    \n",
    "    \n",
    "    j = 2\n",
    "    while num * j <= N:\n",
    "        if num * j in nums:\n",
    "            nums.remove(num * j)\n",
    "        \n",
    "        j += 1\n",
    "    \n",
    "print(*nums, sep='\\n')"
   ]
  },
  {
   "cell_type": "markdown",
   "metadata": {},
   "source": [
    "에라토스테네스의 체라는 걸 알아야 풀 수 있구나...\n",
    "- 1~12까지의 소수를 구한다고 해보자. \n",
    "    1. 먼저, 2의 배수를 다 제거한다.\n",
    "    2. $12 < 4^2$이므로, 4보다 작은 수, 즉 3의 배수들을 제거한다.\n",
    "\n",
    "<br>\n",
    "\n",
    "**아니 for-else문도 있네?!?! 미친....**"
   ]
  },
  {
   "cell_type": "code",
   "execution_count": 30,
   "metadata": {},
   "outputs": [
    {
     "name": "stdout",
     "output_type": "stream",
     "text": [
      "3\n",
      "5\n",
      "7\n",
      "11\n",
      "13\n"
     ]
    }
   ],
   "source": [
    "from math import sqrt\n",
    "\n",
    "M, N = map(int, input().split())\n",
    "\n",
    "for num in range(M, N+1):\n",
    "    if num == 1:    ## 1인 경우, 무조건 out\n",
    "        continue\n",
    "    \n",
    "    ## 2 이상의 수 n에 대해서는, 2~sqrt(n)의 denom 나눠떨어지면 아웃\n",
    "    for denom in range(2, int(sqrt(num)) + 1):\n",
    "        if num % denom == 0:    ## num이 나눠떨어지는 경우, 소수가 아니므로\n",
    "            break\n",
    "        \n",
    "    else:\n",
    "        print(num)\n"
   ]
  }
 ],
 "metadata": {
  "kernelspec": {
   "display_name": "Python 3",
   "language": "python",
   "name": "python3"
  },
  "language_info": {
   "codemirror_mode": {
    "name": "ipython",
    "version": 3
   },
   "file_extension": ".py",
   "mimetype": "text/x-python",
   "name": "python",
   "nbconvert_exporter": "python",
   "pygments_lexer": "ipython3",
   "version": "3.10.11"
  }
 },
 "nbformat": 4,
 "nbformat_minor": 2
}
