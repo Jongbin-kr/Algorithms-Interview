{
 "cells": [
  {
   "cell_type": "markdown",
   "metadata": {},
   "source": [
    "1. 큰 수 b가 작은 수s로 나눠떨어지는 경우의 처리\n",
    "2. 그렇지 않은 경우에는?\n",
    "    - 최대공약수는 s의 약수이므로, \n",
    "        1. 먼저 s의 약수를 구한 뒤,\n",
    "        2. 큰 수부터 하나씩 b로 나눠본다.\n",
    "    - 최소공배수는 어차피 b의 배수이므로, `b*n % s == 0`이 될때까지 n++ (n <= s)\n",
    "\n",
    "\n",
    "<br>\n",
    "10 11\n",
    "[1,2,5,10]\n",
    "\n"
   ]
  },
  {
   "cell_type": "code",
   "execution_count": 6,
   "metadata": {},
   "outputs": [
    {
     "name": "stdout",
     "output_type": "stream",
     "text": [
      "3\n",
      "18\n"
     ]
    }
   ],
   "source": [
    "s, b = sorted(map(int, input().split()))    ## 정렬을 통해서 작은수/큰수로 하고\n",
    "\n",
    "## 큰 수가 작은 수로 나눠떨어지는 경우\n",
    "if b % s == 0:  \n",
    "    print(s)    ## 작은 수가 곧 최대공약수\n",
    "    print(b)    ## 큰 수가 곧 최소공배수\n",
    "\n",
    "## 나눠 떨어지지 않는 경우\n",
    "else:\n",
    "    ## 약수 구하기\n",
    "    divs = [1]\n",
    "    for n in range(2, s+1):\n",
    "        if s % n == 0:\n",
    "            divs.append(n)\n",
    "\n",
    "    ## 나눠떨어지지 않는 경우의 최대공약수 계산\n",
    "    for div in divs[::-1]:\n",
    "        if b % div == 0:\n",
    "            print(div)\n",
    "            break\n",
    "\n",
    "\n",
    "    ## 나눠떨어지는 경우의 최소공배수 계산\n",
    "    for n in range(1, s+1):\n",
    "        if b * n % s == 0:\n",
    "            print(b * n)\n",
    "            break"
   ]
  },
  {
   "cell_type": "code",
   "execution_count": 7,
   "metadata": {},
   "outputs": [
    {
     "name": "stdout",
     "output_type": "stream",
     "text": [
      "4\n",
      "24\n"
     ]
    }
   ],
   "source": [
    "s, b = sorted(map(int, input().split()))    ## 정렬을 통해서 작은수/큰수로 하고\n",
    "\n",
    "## 큰 수가 작은 수로 나눠떨어지는 경우\n",
    "if b % s == 0:  \n",
    "    print(s)    ## 작은 수가 곧 최대공약수\n",
    "    print(b)    ## 큰 수가 곧 최소공배수\n",
    "\n",
    "## 나눠 떨어지지 않는 경우\n",
    "else:\n",
    "    ## 약수 구하기\n",
    "    divs = [1]\n",
    "    for n in range(2, s+1):\n",
    "        if s % n == 0:\n",
    "            divs.append(n)\n",
    "\n",
    "    ## 나눠떨어지지 않는 경우의 최대공약수 계산\n",
    "    for div in divs[::-1]:\n",
    "        if b % div == 0:\n",
    "            print(gcd := div)\n",
    "            break\n",
    "\n",
    "    ## 나눠떨어지는 경우의 최소공배수 계산을 빠르게? 근데 실질적으로는 더 느리네.\n",
    "    print(s * b // gcd)"
   ]
  },
  {
   "cell_type": "markdown",
   "metadata": {},
   "source": [
    "다른 코드\n",
    "\n",
    "- lcm = a * b // gcd"
   ]
  },
  {
   "cell_type": "code",
   "execution_count": null,
   "metadata": {},
   "outputs": [],
   "source": [
    "a, b = map(int, input().split())\n",
    "for divisor in range(min(a, b), 0, -1):\n",
    "    if not (a % divisor or b % divisor):\n",
    "        gcd = divisor\n",
    "        break\n",
    "print(gcd)\n",
    "print(a * b // gcd)"
   ]
  }
 ],
 "metadata": {
  "kernelspec": {
   "display_name": "Python 3",
   "language": "python",
   "name": "python3"
  },
  "language_info": {
   "codemirror_mode": {
    "name": "ipython",
    "version": 3
   },
   "file_extension": ".py",
   "mimetype": "text/x-python",
   "name": "python",
   "nbconvert_exporter": "python",
   "pygments_lexer": "ipython3",
   "version": "3.10.11"
  }
 },
 "nbformat": 4,
 "nbformat_minor": 2
}
