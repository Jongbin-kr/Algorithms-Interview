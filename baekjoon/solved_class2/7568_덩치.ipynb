{
 "cells": [
  {
   "cell_type": "markdown",
   "metadata": {},
   "source": [
    "적절한 접근법이 생각안난다....흠....\n",
    "몸무게 순으로 정렬한 뒤,\n",
    "다음으로 무거운 친구보다 키도 크다면 숫자 확정\n",
    "5 4 3 2 1\n",
    "5 2 3 4 1\n",
    "C   D   B   A   E\n",
    "88  60  58  55  46\n",
    "186 175 183 185 155\n",
    "\n",
    "ㄴㄴㄴ\n",
    "키로 순위 한번 매기고, 몸무게로 순위 한 번 매기자.\n",
    "그리고 두 순위가 일치하는 경우에는 그 순위 확정,\n",
    "아니면 이전 순위 +1"
   ]
  },
  {
   "cell_type": "code",
   "execution_count": 12,
   "metadata": {},
   "outputs": [
    {
     "name": "stdout",
     "output_type": "stream",
     "text": [
      "[[0, 55, 185], [1, 58, 183], [2, 88, 186], [3, 60, 175], [4, 46, 155]]\n",
      "[[2, 88, 186, 0, 0, 1], [3, 60, 175, 1, 3, 2], [1, 58, 183, 2, 2, 3], [0, 55, 185, 3, 1, 3], [4, 46, 155, 4, 4, 4]]\n",
      "[[0, 55, 185, 3, 1, 3], [1, 58, 183, 2, 2, 3], [2, 88, 186, 0, 0, 1], [3, 60, 175, 1, 3, 2], [4, 46, 155, 4, 4, 4]]\n"
     ]
    }
   ],
   "source": [
    "n = int(input())\n",
    "ds = [[i] + list(map(int, input().split())) for i in range(n)]\n",
    "print(ds)\n",
    "\n",
    "ds.sort(key=lambda x: -x[1])    # 몸무게로 우선 정렬해두고,\n",
    "weight_rank = 0\n",
    "for d in ds:\n",
    "    d.append(weight_rank)\n",
    "    weight_rank += 1\n",
    "\n",
    "height_rank = 0\n",
    "for d in sorted(ds, key=lambda x: -x[2]): # 키로 내림차순 정렬\n",
    "    d.append(height_rank)  # 키 순위값 추가하고\n",
    "    height_rank += 1\n",
    "    \n",
    "rank = 1\n",
    "temp = 0\n",
    "for i in range(len(ds)):\n",
    "    idx, weight, height, weight_rank, height_rank = ds[i]\n",
    "    \n",
    "    if weight_rank == height_rank:\n",
    "        ds[i].append(rank + temp)\n",
    "        rank += 1\n",
    "        temp = 0\n",
    "        \n",
    "    else:\n",
    "        ds[i].append(rank)\n",
    "        temp += 1\n",
    "print(ds)\n",
    "\n",
    "\n",
    "ds.sort(key=lambda x: x[0])\n",
    "print(ds)\n",
    "        "
   ]
  },
  {
   "cell_type": "markdown",
   "metadata": {},
   "source": [
    "걍...구현...."
   ]
  },
  {
   "cell_type": "code",
   "execution_count": 8,
   "metadata": {},
   "outputs": [
    {
     "name": "stdout",
     "output_type": "stream",
     "text": [
      "1\n",
      "1\n",
      "0\n",
      "1\n",
      "4\n"
     ]
    }
   ],
   "source": [
    "n = int(input())\n",
    "ds = [tuple(map(int, input().split())) for i in range(n)]\n",
    "\n",
    "for weight, height in ds:\n",
    "    print(len(list(filter(lambda d: d[0] > weight and d[1] > height, ds))) + 1, end=' ')"
   ]
  }
 ],
 "metadata": {
  "kernelspec": {
   "display_name": "Python 3",
   "language": "python",
   "name": "python3"
  },
  "language_info": {
   "codemirror_mode": {
    "name": "ipython",
    "version": 3
   },
   "file_extension": ".py",
   "mimetype": "text/x-python",
   "name": "python",
   "nbconvert_exporter": "python",
   "pygments_lexer": "ipython3",
   "version": "3.10.11"
  }
 },
 "nbformat": 4,
 "nbformat_minor": 2
}
