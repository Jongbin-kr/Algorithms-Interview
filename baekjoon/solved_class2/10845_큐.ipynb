{
 "cells": [
  {
   "cell_type": "code",
   "execution_count": 4,
   "metadata": {},
   "outputs": [
    {
     "name": "stdout",
     "output_type": "stream",
     "text": [
      "1\n",
      "2\n",
      "2\n",
      "1\n",
      "2\n",
      "-1\n",
      "0\n",
      "-1\n",
      "3\n"
     ]
    }
   ],
   "source": [
    "# import sys; input = sys.stdin.readline\n",
    "from collections import deque\n",
    "N = int(input())\n",
    "\n",
    "que = deque()\n",
    "for _ in range(N):\n",
    "    cmd = input().split()\n",
    "\n",
    "    if cmd[0] == 'push':\n",
    "        que.append(cmd[1])\n",
    "    \n",
    "    elif cmd[0] == 'pop':\n",
    "        if len(que) >= 1:\n",
    "            print(que.popleft())\n",
    "        else:\n",
    "            print(-1)\n",
    "    \n",
    "    elif cmd[0] == 'size':\n",
    "        print(len(que))\n",
    "        \n",
    "    elif cmd[0] == 'empty':\n",
    "        if len(que) == 0:\n",
    "            print(1)\n",
    "        else:\n",
    "            print(0)\n",
    "    \n",
    "    elif cmd[0] == 'front':\n",
    "        if len(que) >= 1:\n",
    "            print(que[0])\n",
    "        else:\n",
    "            print(-1)\n",
    "            \n",
    "    elif cmd[0] == 'back':\n",
    "        if len(que) >= 1:\n",
    "            print(que[-1])\n",
    "        else:\n",
    "            print(-1)"
   ]
  }
 ],
 "metadata": {
  "kernelspec": {
   "display_name": "Python 3",
   "language": "python",
   "name": "python3"
  },
  "language_info": {
   "codemirror_mode": {
    "name": "ipython",
    "version": 3
   },
   "file_extension": ".py",
   "mimetype": "text/x-python",
   "name": "python",
   "nbconvert_exporter": "python",
   "pygments_lexer": "ipython3",
   "version": "3.10.11"
  }
 },
 "nbformat": 4,
 "nbformat_minor": 2
}
