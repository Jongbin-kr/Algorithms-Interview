{
 "cells": [
  {
   "cell_type": "markdown",
   "metadata": {},
   "source": [
    "아래 친구는 왜 안되는거지?\n",
    "cmd 처리하는 데에서 오류가 있는 것 같은데 뭐가 문제야?"
   ]
  },
  {
   "cell_type": "code",
   "execution_count": 7,
   "metadata": {},
   "outputs": [
    {
     "name": "stdout",
     "output_type": "stream",
     "text": [
      "-1\n",
      "-1\n",
      "-1\n",
      "-1\n"
     ]
    }
   ],
   "source": [
    "# import sys; input = sys.stdin.readline\n",
    "N = int(input())\n",
    "\n",
    "stack = []\n",
    "for _ in range(N):\n",
    "    cmd = input().split()\n",
    "\n",
    "    if cmd[0] == 'push':\n",
    "        stack.append(cmd[1])\n",
    "    \n",
    "    elif cmd[0] == 'pop':\n",
    "        if len(stack) >= 1:\n",
    "            print(stack.pop())\n",
    "        else:\n",
    "            print(-1)\n",
    "    \n",
    "    elif cmd[0] == 'size':\n",
    "        print(len(stack))\n",
    "    \n",
    "    elif cmd[0] == 'empty':\n",
    "        if len(stack) == 0:\n",
    "            print(1)\n",
    "        else:\n",
    "            print(0)\n",
    "    \n",
    "    elif cmd[0] =='top':   ## top 연산\n",
    "        if len(stack) >= 1:\n",
    "            print(stack[-1])\n",
    "        else:\n",
    "            print(-1)"
   ]
  },
  {
   "cell_type": "code",
   "execution_count": null,
   "metadata": {},
   "outputs": [],
   "source": [
    "import sys\n",
    "n = int(sys.stdin.readline())\n",
    "\n",
    "stack=[]\n",
    "for i in range(n):\n",
    "    command = sys.stdin.readline().split()\n",
    "\n",
    "    if command[0]=='push':\n",
    "        stack.append(command[1])\n",
    "        \n",
    "    elif command[0]=='pop':\n",
    "        if len(stack)==0:\n",
    "            print(-1)\n",
    "        else:\n",
    "            print(stack.pop())\n",
    "            \n",
    "    elif command[0] == 'size':\n",
    "        print(len(stack))\n",
    "        \n",
    "    elif command[0] == 'empty':\n",
    "        if len(stack)==0:\n",
    "            print(1)\n",
    "        else:\n",
    "            print(0)\n",
    "            \n",
    "    elif command[0] == 'top':\n",
    "        if len(stack)==0:\n",
    "            print(-1)\n",
    "        else:\n",
    "            print(stack[-1])"
   ]
  }
 ],
 "metadata": {
  "kernelspec": {
   "display_name": "Python 3",
   "language": "python",
   "name": "python3"
  },
  "language_info": {
   "codemirror_mode": {
    "name": "ipython",
    "version": 3
   },
   "file_extension": ".py",
   "mimetype": "text/x-python",
   "name": "python",
   "nbconvert_exporter": "python",
   "pygments_lexer": "ipython3",
   "version": "3.10.11"
  }
 },
 "nbformat": 4,
 "nbformat_minor": 2
}
