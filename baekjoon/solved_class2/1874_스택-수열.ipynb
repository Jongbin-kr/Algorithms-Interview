{
 "cells": [
  {
   "cell_type": "markdown",
   "metadata": {},
   "source": [
    "처음 코드\n",
    "1. 최대값이 나오는거 기준으로 생각\n",
    "\n",
    "문제점: 최대값 출력 이후에는 그냥 오름차순이기만 하면 무지성으로 출력하다보니, 출력 순서 고려 X\n",
    "\n",
    "<br>\n",
    "\n",
    "반례\n",
    "```\n",
    "입력\n",
    "8\n",
    "5\n",
    "4\n",
    "7\n",
    "2\n",
    "1\n",
    "8\n",
    "6\n",
    "3\n",
    "\n",
    "출력\n",
    "+\n",
    "+\n",
    "+\n",
    "+\n",
    "+\n",
    "-\n",
    "-\n",
    "+\n",
    "+\n",
    "-\n",
    "-\n",
    "-\n",
    "+\n",
    "-\n",
    "-\n",
    "-\n",
    "\n",
    "정답\n",
    "NO\n",
    "\n",
    "```"
   ]
  },
  {
   "cell_type": "code",
   "execution_count": 41,
   "metadata": {},
   "outputs": [
    {
     "name": "stdout",
     "output_type": "stream",
     "text": [
      "NO\n"
     ]
    }
   ],
   "source": [
    "# import sys; input = sys.stdin.readline\n",
    "N = int(input())\n",
    "ns = []\n",
    "for _ in range(N):\n",
    "    ns.append(int(input()))\n",
    "ns.reverse()    ## pop 연산을 사용하고자 reverse\n",
    "\n",
    "max_n = 0\n",
    "result = []\n",
    "while ns:\n",
    "    n = ns.pop()\n",
    "    if n == N:  ## 가장 마지막에 들어오는숫자 N을 출력해야하면, \n",
    "        for _ in range(N - max_n):\n",
    "            result.append('+')      ## max_n - N만큼 push 후  \n",
    "        result.append('-')          ## N을 출력하고\n",
    "        if ns == sorted(ns):    ## 남은 ns(차후 출력해야할 숫자들)이 오름차순으로 정렬된 경우에만 가능\n",
    "            for _ in range(len(ns)):\n",
    "                result.append('-')\n",
    "            print(*result, sep='\\n')\n",
    "            break\n",
    "            \n",
    "        else:\n",
    "            print('NO')\n",
    "            break\n",
    "    \n",
    "    if n >= max_n:\n",
    "        for _ in range(n - max_n):\n",
    "            result.append('+')\n",
    "        result.append('-')\n",
    "        max_n = n\n",
    "    else:\n",
    "        result.append('-')\n",
    "        "
   ]
  },
  {
   "cell_type": "markdown",
   "metadata": {},
   "source": [
    "다음 코드\n",
    "\n",
    "4 3 5 2 1\n",
    "\n",
    "i=0, n=1\n",
    "[1]\n",
    "1\n",
    "[]\n",
    "\n",
    "i=1, n=2\n",
    "[2]\n",
    "2\n",
    "[]\n",
    "\n",
    "i=3, n=5\n",
    "[3, 4, 5]\n",
    "5\n",
    "[3,4]\n",
    "\n",
    "i=5, n=3"
   ]
  },
  {
   "cell_type": "code",
   "execution_count": 49,
   "metadata": {},
   "outputs": [
    {
     "name": "stdout",
     "output_type": "stream",
     "text": [
      "+\n",
      "+\n",
      "+\n",
      "+\n",
      "-\n",
      "-\n",
      "+\n",
      "+\n",
      "-\n",
      "+\n",
      "+\n",
      "-\n",
      "-\n",
      "-\n",
      "-\n",
      "-\n"
     ]
    }
   ],
   "source": [
    "# import sys; input = sys.stdin.readline\n",
    "N = int(input())\n",
    "ns = []\n",
    "for _ in range(N): ns.append(int(input()))\n",
    "\n",
    "stack = []\n",
    "result = []\n",
    "\n",
    "i = 0\n",
    "for n in ns:\n",
    "    while i < n:\n",
    "        i += 1\n",
    "        stack.append(i)\n",
    "        result.append('+')\n",
    "    \n",
    "    if n == stack.pop():\n",
    "        result.append('-')\n",
    "    else:\n",
    "        print('NO')\n",
    "        break\n",
    "else:\n",
    "    print(*result, sep='\\n')"
   ]
  }
 ],
 "metadata": {
  "kernelspec": {
   "display_name": "Python 3",
   "language": "python",
   "name": "python3"
  },
  "language_info": {
   "codemirror_mode": {
    "name": "ipython",
    "version": 3
   },
   "file_extension": ".py",
   "mimetype": "text/x-python",
   "name": "python",
   "nbconvert_exporter": "python",
   "pygments_lexer": "ipython3",
   "version": "3.10.11"
  }
 },
 "nbformat": 4,
 "nbformat_minor": 2
}
