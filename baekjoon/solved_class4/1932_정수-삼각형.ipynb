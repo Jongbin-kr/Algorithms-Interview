{
 "cells": [
  {
   "cell_type": "markdown",
   "metadata": {},
   "source": [
    "딱 봐도 그리디하면 안되게 생겼다.\n",
    "~~그냥 그래프 완전탐색 알고리즘으로 다 돌면서 값 업데이트해가면 안되나?~~ 굳이?\n",
    "그냥 DP 테이블을 피라미드 형태로 만들어서 하면 되겟당\n",
    "\n",
    "0 0 0 0 7 0 0 0 0\n",
    "0 0 0 3 0 8 0 0 0\n",
    "0 0 8 0 1 0 0 0 0\n",
    "0 2 0 7 0 4 0 4 0\n",
    "4 0 5 0 2 0 6 0 5\n",
    "\n",
    "\n",
    "0  0  0  0  0  7  0  0  0  0  0\n",
    "0  0  0  0  10 0  15 0  0  0  0\n",
    "0  0  0  18 0  11 0  15 0  0  0\n",
    "0  0  20 0  25 0  20 0  19 0  0\n",
    "0  4  0  5  0  2  0  6  0  5  0\n",
    "\n",
    "4\n",
    "3 5\n",
    "2 4 6\n",
    "1 3 5 7\n",
    "0 2 4 6 8"
   ]
  },
  {
   "cell_type": "code",
   "execution_count": 9,
   "metadata": {},
   "outputs": [
    {
     "name": "stdout",
     "output_type": "stream",
     "text": [
      "30\n"
     ]
    }
   ],
   "source": [
    "# import sys; input = lambda: sys.stdin.readline().rstrip()\n",
    "n_lines = int(input())\n",
    "pyramid = [[0 for _ in range(2 * n_lines +1)] for _ in range(n_lines)]\n",
    "\n",
    "x_start = n_lines\n",
    "for y in range(n_lines):\n",
    "    x = x_start\n",
    "    for num in map(int, input().split()):\n",
    "        if y == 0:  ## 첫 줄은 DP할 것 없이 그냥 값만 할당.\n",
    "            pyramid[y][x] = num\n",
    "            break\n",
    "        \n",
    "        ## 두번째줄부터는 이전값 + 현재값해서 DP 돌리기\n",
    "        pyramid[y][x] = max(pyramid[y-1][x-1] + num, pyramid[y-1][x+1] + num)\n",
    "        x += 2\n",
    "        \n",
    "    x_start -= 1\n",
    "    \n",
    "\n",
    "print(max(pyramid[-1]))\n"
   ]
  },
  {
   "cell_type": "code",
   "execution_count": 10,
   "metadata": {},
   "outputs": [
    {
     "name": "stdout",
     "output_type": "stream",
     "text": [
      "0\n",
      "1\n",
      "2\n",
      "3\n",
      "4\n",
      "5\n",
      "6\n",
      "7\n",
      "8\n",
      "9\n"
     ]
    }
   ],
   "source": [
    "for _ in range(10):\n",
    "    print(_)"
   ]
  }
 ],
 "metadata": {
  "kernelspec": {
   "display_name": "Python 3",
   "language": "python",
   "name": "python3"
  },
  "language_info": {
   "codemirror_mode": {
    "name": "ipython",
    "version": 3
   },
   "file_extension": ".py",
   "mimetype": "text/x-python",
   "name": "python",
   "nbconvert_exporter": "python",
   "pygments_lexer": "ipython3",
   "version": "3.10.11"
  }
 },
 "nbformat": 4,
 "nbformat_minor": 2
}
