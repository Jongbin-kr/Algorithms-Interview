{
 "cells": [
  {
   "cell_type": "markdown",
   "metadata": {},
   "source": [
    "이왜실1?\n",
    "\n",
    "근데 타임리밋이 빡시게 걸려있구나"
   ]
  },
  {
   "cell_type": "code",
   "execution_count": 2,
   "metadata": {},
   "outputs": [
    {
     "name": "stdout",
     "output_type": "stream",
     "text": [
      "4\n"
     ]
    }
   ],
   "source": [
    "# import sys; input = lambda: sys.stdin.readline().rstrip()\n",
    "a, b, c = map(int, input().split())\n",
    "print((a**b) % c)"
   ]
  },
  {
   "cell_type": "markdown",
   "metadata": {},
   "source": [
    "타임리밋 고려해서 다시 풀어보자\n",
    "\n",
    "근데 이거 수학문제구나...\n",
    "\n",
    "$$ 2^{17} = 2^{16} * 2^{1} = (((2^2)^2)^2)^2) * 2$$"
   ]
  },
  {
   "cell_type": "code",
   "execution_count": 10,
   "metadata": {},
   "outputs": [
    {
     "name": "stdout",
     "output_type": "stream",
     "text": [
      "4\n"
     ]
    }
   ],
   "source": [
    "from math import sqrt\n",
    "\n",
    "def dnq_power(a:int , b: int, c: int):  ### 2 17\n",
    "    if b % 2:   # 승수가 홀수인 경우, \n",
    "        origin_a = a\n",
    "        even_power = int(sqrt(b-1))\n",
    "        for _ in range(even_power): # 4\n",
    "            a = a ** 2\n",
    "        \n",
    "        else:\n",
    "            a *= origin_a\n",
    "    \n",
    "    else:\n",
    "        even_power = int(sqrt(b))\n",
    "        for _ in range(even_power):\n",
    "            a = a ** 2\n",
    "    \n",
    "    print(a % c)\n",
    "\n",
    "# import sys; input = lambda: sys.stdin.readline().rstrip()\n",
    "a, b, c = map(int, input().split())\n",
    "dnq_power(a, b, c)"
   ]
  },
  {
   "cell_type": "markdown",
   "metadata": {},
   "source": [
    "여전히 타임아웃"
   ]
  },
  {
   "cell_type": "code",
   "execution_count": 1,
   "metadata": {},
   "outputs": [
    {
     "name": "stdout",
     "output_type": "stream",
     "text": [
      "4\n"
     ]
    }
   ],
   "source": [
    "# import sys; input = lambda: sys.stdin.readline().rstrip()\n",
    "\n",
    "def dac(a, b, c):\n",
    "    if b == 1:\n",
    "        return a % c\n",
    "    \n",
    "    elif b % 2 == 0:\n",
    "        return (dac(a, b//2, c)**2) % c\n",
    "    \n",
    "    else:\n",
    "        return ((dac(a, b//2, c)**2)*a) % c\n",
    "\n",
    "\n",
    "a, b, c = map(int, input().split())\n",
    "print(dac(a, b, c))"
   ]
  },
  {
   "cell_type": "markdown",
   "metadata": {},
   "source": [
    "다른 풀이\n",
    "- DP도 되는 것 같고,\n",
    "- 비트 연산자... https://www.acmicpc.net/board/view/144793"
   ]
  }
 ],
 "metadata": {
  "kernelspec": {
   "display_name": "Python 3",
   "language": "python",
   "name": "python3"
  },
  "language_info": {
   "codemirror_mode": {
    "name": "ipython",
    "version": 3
   },
   "file_extension": ".py",
   "mimetype": "text/x-python",
   "name": "python",
   "nbconvert_exporter": "python",
   "pygments_lexer": "ipython3",
   "version": "3.10.11"
  }
 },
 "nbformat": 4,
 "nbformat_minor": 2
}
