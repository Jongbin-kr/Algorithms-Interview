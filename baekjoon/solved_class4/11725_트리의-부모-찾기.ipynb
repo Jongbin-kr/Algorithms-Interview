{
 "cells": [
  {
   "cell_type": "markdown",
   "metadata": {},
   "source": [
    "흠 트리를 어떻게 나타내지...?\n",
    "\n"
   ]
  },
  {
   "cell_type": "code",
   "execution_count": 18,
   "metadata": {},
   "outputs": [
    {
     "name": "stdout",
     "output_type": "stream",
     "text": [
      "3\n",
      "1\n",
      "5\n",
      "inf\n",
      "1\n",
      "5\n",
      "6\n",
      "inf\n",
      "9\n"
     ]
    }
   ],
   "source": [
    "from collections import defaultdict\n",
    "n_nodes = int(input())\n",
    "levels = defaultdict(lambda: (float('inf'), float('inf')))\n",
    "levels[1] = (0, 0)  # mother node, level\n",
    "\n",
    "## 트리 구성\n",
    "trees = sorted([tuple(map(int, input().split())) for _ in range(n_nodes-1)], key=lambda x: x[0])\n",
    "\n",
    "## 레벨값에 따른 트리의 상하관계 정하기\n",
    "for start, end in trees:\n",
    "    if levels[start][1] > levels[end][1]:   # 둘의 레벨을 비교해서, 더 레벨이 낮은 노드가 더 상위에 위치하도록.\n",
    "        start, end = end, start\n",
    "    \n",
    "    levels[end] = (start, levels[start][1]+1)\n",
    "\n",
    "## 출력\n",
    "for node, (mother, levle) in sorted(levels.items(), key=lambda x: x[0]):\n",
    "    if node == 1:\n",
    "        continue\n",
    "    \n",
    "    print(mother)"
   ]
  },
  {
   "cell_type": "code",
   "execution_count": 21,
   "metadata": {},
   "outputs": [
    {
     "data": {
      "text/plain": [
       "[(1, (0, 0)),\n",
       " (2, (3, 2)),\n",
       " (3, (1, 1)),\n",
       " (4, (5, inf)),\n",
       " (5, (inf, inf)),\n",
       " (6, (1, 1)),\n",
       " (7, (5, inf)),\n",
       " (8, (6, 2)),\n",
       " (9, (inf, inf)),\n",
       " (10, (9, inf))]"
      ]
     },
     "execution_count": 21,
     "metadata": {},
     "output_type": "execute_result"
    }
   ],
   "source": [
    "sorted(levels.items(), key=lambda x: x[0])"
   ]
  },
  {
   "cell_type": "markdown",
   "metadata": {},
   "source": [
    "그냥 BFS를 쓰는 게 낫겠다\n",
    "\n",
    "근데 시간초과...?\n",
    "`not in visited`에서 시간초과가 발생하는 것 같다 ([참고](https://www.acmicpc.net/board/view/109870))"
   ]
  },
  {
   "cell_type": "code",
   "execution_count": 8,
   "metadata": {},
   "outputs": [
    {
     "name": "stdout",
     "output_type": "stream",
     "text": [
      "1\n",
      "2\n"
     ]
    }
   ],
   "source": [
    "# import sys; input = lambda: sys.stdin.readline().rstrip()\n",
    "from collections import deque\n",
    "\n",
    "n_nodes = int(input())\n",
    "graph = [[] for _ in range(n_nodes+1)]\n",
    "for _ in range(n_nodes-1):\n",
    "    start, end = map(int, input().split())\n",
    "    graph[start].append(end)\n",
    "    graph[end].append(start)\n",
    "    \n",
    "            \n",
    "def bfs(start):\n",
    "    to_visit, visited = deque(), []\n",
    "    to_visit.append(start)\n",
    "    \n",
    "    while to_visit:\n",
    "        from_node = to_visit.popleft()\n",
    "        if from_node not in visited:\n",
    "            visited.append(from_node)\n",
    "            \n",
    "            for to_node in graph[from_node]:\n",
    "                if to_node not in visited:\n",
    "                    mothers.append((to_node, from_node))\n",
    "            \n",
    "            to_visit.extend(graph[from_node])\n",
    "    \n",
    "    return None        \n",
    "mothers = []\n",
    "bfs(1)\n",
    "for children, mother in sorted(mothers, key=lambda x: x[0]):\n",
    "    print(mother)"
   ]
  },
  {
   "cell_type": "markdown",
   "metadata": {},
   "source": [
    "- visited 여부를 체크할 때, 반드시 from_node를 기준으로 할 필요는 없다.\n",
    "- visited 리스트를 관리할 때 스택으로 관리하게 되면 매번 `in` 연산을 통해서 방문여부를 체크하는 데 $O(N)$의 시간복잡도가 든다. 그 대신, False/True 배열로 하게 되면 $O(1)$의 시간복잡도로 방문여부를 체크할 수 있다!"
   ]
  },
  {
   "cell_type": "code",
   "execution_count": 16,
   "metadata": {},
   "outputs": [
    {
     "name": "stdout",
     "output_type": "stream",
     "text": [
      "4\n",
      "6\n",
      "1\n",
      "3\n",
      "1\n",
      "4\n"
     ]
    }
   ],
   "source": [
    "# import sys; input = lambda: sys.stdin.readline().rstrip()\n",
    "from collections import deque\n",
    "\n",
    "n_nodes = int(input())\n",
    "graph = [[] for _ in range(n_nodes+1)]\n",
    "for _ in range(n_nodes-1):\n",
    "    start, end = map(int, input().split())\n",
    "    graph[start].append(end)\n",
    "    graph[end].append(start)\n",
    "    \n",
    "            \n",
    "def bfs(start):\n",
    "    to_visit = deque()\n",
    "    visited = [False] * (n_nodes+1)\n",
    "    \n",
    "    to_visit.append(start)\n",
    "    visited[start] = True\n",
    "    \n",
    "    while to_visit:\n",
    "        from_node = to_visit.popleft()\n",
    "        for to_node in graph[from_node]:\n",
    "            if not visited[to_node]:\n",
    "                mothers[to_node] = from_node\n",
    "                to_visit.append(to_node)\n",
    "                visited[to_node] = True\n",
    "                \n",
    "    \n",
    "    return None        \n",
    "\n",
    "mothers = [0] * (n_nodes+1)\n",
    "bfs(1)\n",
    "print(*mothers[2:], sep = '\\n')     # 0번째 원소는 그냥 빈칸, 1번째는 root node"
   ]
  }
 ],
 "metadata": {
  "kernelspec": {
   "display_name": "Python 3",
   "language": "python",
   "name": "python3"
  },
  "language_info": {
   "codemirror_mode": {
    "name": "ipython",
    "version": 3
   },
   "file_extension": ".py",
   "mimetype": "text/x-python",
   "name": "python",
   "nbconvert_exporter": "python",
   "pygments_lexer": "ipython3",
   "version": "3.10.11"
  }
 },
 "nbformat": 4,
 "nbformat_minor": 2
}
