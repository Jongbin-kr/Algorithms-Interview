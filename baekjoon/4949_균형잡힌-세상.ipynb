{
 "cells": [
  {
   "cell_type": "markdown",
   "metadata": {},
   "source": [
    "첫번째 생각.\n",
    "스택 두 개를 써서 각각 하면 되지 않을까?\n",
    "근데 다섯번째 예제에서 걸린다. 괄호끼리의 순서도 맞아야하는구나."
   ]
  },
  {
   "cell_type": "code",
   "execution_count": 7,
   "metadata": {},
   "outputs": [
    {
     "name": "stdout",
     "output_type": "stream",
     "text": [
      "[] ['early finish']\n",
      "no\n",
      "[] []\n",
      "yes\n",
      "[] []\n",
      "yes\n",
      "['early finish'] ['(']\n",
      "no\n",
      "[] []\n",
      "yes\n",
      "[] []\n",
      "yes\n"
     ]
    }
   ],
   "source": [
    "while True:\n",
    "    texts = input()\n",
    "    if texts == '.':    ## 입력 종료 조건\n",
    "        break\n",
    "    \n",
    "    round_stack = []; square_stack = []\n",
    "    for text in texts:\n",
    "        if text == '(':\n",
    "            round_stack.append('(')\n",
    "            \n",
    "        elif text == ')':\n",
    "            if not round_stack: # )이 (보다 먼저 혹은 많이 나오면 조기종료\n",
    "                round_stack.append('early finish')     # 값을 추가하고, 반복문을 \n",
    "                break\n",
    "            \n",
    "            round_stack.pop()\n",
    "            \n",
    "        elif text == '[':\n",
    "            square_stack.append('[')\n",
    "            \n",
    "        elif text == ']':\n",
    "            if not square_stack:    # ]이 [보다 먼저 혹은 많이 나오면 조기종료\n",
    "                square_stack.append('early finish')\n",
    "                break\n",
    "            \n",
    "            square_stack.pop()\n",
    "            \n",
    "        else:\n",
    "            pass\n",
    "    \n",
    "    \n",
    "    ## Y/N 판단. 두 스택 모두 값이 없으면 yes, 있으면 (조기종료 조건을 포함해서) no\n",
    "    print(square_stack, round_stack)\n",
    "    if (not square_stack) and (not round_stack):\n",
    "        print('yes')\n",
    "    else:\n",
    "        print('no')\n",
    "\n",
    "    "
   ]
  },
  {
   "cell_type": "markdown",
   "metadata": {},
   "source": [
    "두번째 풀이. 그럼 스택을 하나를 쓰고, pop할 때 조건을 좀 까다롭게 해야겠네"
   ]
  },
  {
   "cell_type": "code",
   "execution_count": 15,
   "metadata": {},
   "outputs": [
    {
     "name": "stdout",
     "output_type": "stream",
     "text": [
      "['early finish']\n",
      "no\n"
     ]
    }
   ],
   "source": [
    "from typing import *\n",
    "\n",
    "def conditional_pop(stack: List[str], next_bracket: str) -> bool:\n",
    "    if not stack:   ## 스택이 비어있는 경우, 즉 닫는 괄호가 먼저 나왔거나 더 많이 나온 경우에는 바로 False\n",
    "        stack.append('early finish')\n",
    "        return False\n",
    "    \n",
    "    if next_bracket == ']':\n",
    "        if stack[-1] == '[':\n",
    "            stack.pop()\n",
    "            return True\n",
    "        \n",
    "        else:\n",
    "            stack.append('early finish')\n",
    "            return False\n",
    "    \n",
    "    if next_bracket == ')':\n",
    "        if stack[-1] == '(':\n",
    "            stack.pop()\n",
    "            return True\n",
    "        \n",
    "        else:\n",
    "            stack.append('early finish')\n",
    "            return False\n",
    "\n",
    "\n",
    "\n",
    "while True:\n",
    "    texts = input()\n",
    "    if texts == '.':\n",
    "        break\n",
    "    \n",
    "    stack = []\n",
    "    for text in texts:\n",
    "        if text == '(':\n",
    "            stack.append('(')\n",
    "            \n",
    "        elif text == '[':\n",
    "            stack.append('[')\n",
    "        \n",
    "        elif text == ')':\n",
    "            if conditional_pop(stack, ')'):\n",
    "                continue\n",
    "            else:\n",
    "                break\n",
    "        \n",
    "        elif text == ']':\n",
    "            if conditional_pop(stack, ']'):\n",
    "                continue\n",
    "            else:\n",
    "                break\n",
    "            \n",
    "        else:\n",
    "            pass\n",
    "    \n",
    "    ## 결과값 출력\n",
    "    if stack:\n",
    "        print('no')\n",
    "    \n",
    "    else:\n",
    "        print('yes')"
   ]
  },
  {
   "cell_type": "markdown",
   "metadata": {},
   "source": [
    "아래 풀이가 제일 깔끔하긴하다"
   ]
  },
  {
   "cell_type": "code",
   "execution_count": null,
   "metadata": {},
   "outputs": [],
   "source": [
    "import sys; input = sys.stdin.readline\n",
    "while True:\n",
    "    string = input().rstrip()\n",
    "    if string == '.':\n",
    "        break\n",
    "    stack = []\n",
    "    for s in string:\n",
    "        if s in ['(', '[']:\n",
    "            stack.append(s)\n",
    "        elif s == ')':\n",
    "            if not stack or stack.pop() != '(':\n",
    "                print('no')\n",
    "                break\n",
    "        elif s == ']':\n",
    "            if not stack or stack.pop() != '[':\n",
    "                print('no')\n",
    "                break\n",
    "    else:\n",
    "        print('no') if stack else print('yes')"
   ]
  }
 ],
 "metadata": {
  "kernelspec": {
   "display_name": "Python 3",
   "language": "python",
   "name": "python3"
  },
  "language_info": {
   "codemirror_mode": {
    "name": "ipython",
    "version": 3
   },
   "file_extension": ".py",
   "mimetype": "text/x-python",
   "name": "python",
   "nbconvert_exporter": "python",
   "pygments_lexer": "ipython3",
   "version": "3.10.11"
  }
 },
 "nbformat": 4,
 "nbformat_minor": 2
}
