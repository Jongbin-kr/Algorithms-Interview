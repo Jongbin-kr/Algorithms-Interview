{
 "cells": [
  {
   "cell_type": "markdown",
   "metadata": {},
   "source": [
    "- 하나씩 앞에서부터 반복문을 돌리면?\n",
    "  - 처음에는 n, n-1, ... 즉 $O(N!)$이므로, timeout\n",
    "\n",
    "<br>\n",
    "\n",
    "- [여기](https://velog.io/@js43o/%EB%B0%B1%EC%A4%80-12865%EB%B2%88-%ED%8F%89%EB%B2%94%ED%95%9C-%EB%B0%B0%EB%82%AD)아이디어 참고해서 계속 도전"
   ]
  },
  {
   "cell_type": "code",
   "execution_count": 8,
   "metadata": {},
   "outputs": [
    {
     "name": "stdout",
     "output_type": "stream",
     "text": [
      "[[0, 0, 0, 0, 0], [0, None, None, None, None], [0, None, None, None, None], [0, None, None, None, None], [0, None, None, None, None], [0, None, None, None, None], [0, None, None, None, None], [0, None, None, None, None]]\n",
      "14\n"
     ]
    }
   ],
   "source": [
    "n_items, bag_weights = map(int, input().split())    # N은 물품의 수, K는 최대 무게\n",
    "\n",
    "items = [(0,0)]  # (무게, 가치)\n",
    "for _ in range(n_items):\n",
    "    items.append(tuple(map(int, input().split())))\n",
    "\n",
    "dp = [[None] * (n_items + 1) for _ in range(bag_weights + 1)]   ## 행이 가방의 최대 무게고, 열이 아이템\n",
    "for bag_weight in range(n_items+1): dp[0][bag_weight] = 0\n",
    "for j in range(bag_weights+1): dp[j][0] = 0\n",
    "\n",
    "for bag_weight in range(1, bag_weights+1): \n",
    "    for j in range(1, n_items+1):\n",
    "        weight, value = items[j]\n",
    "        if weight <= bag_weight:     ## 현재 아이템의 무게가 현재 가방의 수용가능무게보다 작을 때에만\n",
    "            dp[bag_weight][j] = max(dp[bag_weight][j-1], dp[bag_weight-weight][j-1] + value)    ## max(이전 구성 그대로, 현재 보고있는 아이템을 넣기 전의 가방무게와 가치로 돌아가서, 현재 아이템을 넣는 경우)\n",
    "        else:\n",
    "            dp[bag_weight][j] = dp[bag_weight][j-1]\n",
    "            \n",
    "print(dp[-1][-1])            "
   ]
  },
  {
   "cell_type": "markdown",
   "metadata": {},
   "source": [
    "- 좌측과 하단의 테두리에 0으로 둘러싸는 것은 단순히 인덱스를 맞추기 위함뿐만 아니라, 점화식의 초기항 역할도 하는구나."
   ]
  },
  {
   "cell_type": "markdown",
   "metadata": {},
   "source": [
    "다음 코드도 참고해보자 (출처: https://www.acmicpc.net/source/64924521)"
   ]
  },
  {
   "cell_type": "code",
   "execution_count": null,
   "metadata": {},
   "outputs": [],
   "source": [
    "import sys\n",
    "N, K = map(int, input().split())\n",
    "\n",
    "d = [0]*(K+1)\n",
    "    \n",
    "for i in range(1,N+1):\n",
    "    W, V = map(int, sys.stdin.readline().split())\n",
    "    for j in range(K, W-1, -1):\n",
    "        d[j] = max(d[j], d[j-W] + V)\n",
    "\n",
    "print(d[K])"
   ]
  }
 ],
 "metadata": {
  "kernelspec": {
   "display_name": "Python 3",
   "language": "python",
   "name": "python3"
  },
  "language_info": {
   "codemirror_mode": {
    "name": "ipython",
    "version": 3
   },
   "file_extension": ".py",
   "mimetype": "text/x-python",
   "name": "python",
   "nbconvert_exporter": "python",
   "pygments_lexer": "ipython3",
   "version": "3.10.11"
  }
 },
 "nbformat": 4,
 "nbformat_minor": 2
}
