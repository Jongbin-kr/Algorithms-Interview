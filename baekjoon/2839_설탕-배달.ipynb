{
 "cells": [
  {
   "cell_type": "markdown",
   "metadata": {},
   "source": [
    "그리디하게 풀까도 생각해봤는데, 11같은 경우 이걸 어디까지 3으로 넣고 어디까지 5로 넣을지 정하는 기준이 애매.\n",
    "\n",
    "따라서 DP로 풀어보자\n",
    "\n",
    "0 1 2 3 4 5 6 7 8 9 10  11 12 13 14 15\n",
    "- - - 1 - 1 2 - - 3 2  *3*  4  -  -  3"
   ]
  },
  {
   "cell_type": "markdown",
   "metadata": {},
   "source": [
    "`memo = [-1] * (N+1)`로 했다가 초기설정떄문에 N=3인 경우 인덱스에러가 떠서, N+3으로 변경"
   ]
  },
  {
   "cell_type": "code",
   "execution_count": 8,
   "metadata": {},
   "outputs": [
    {
     "ename": "IndexError",
     "evalue": "list assignment index out of range",
     "output_type": "error",
     "traceback": [
      "\u001b[1;31m---------------------------------------------------------------------------\u001b[0m",
      "\u001b[1;31mIndexError\u001b[0m                                Traceback (most recent call last)",
      "Cell \u001b[1;32mIn[8], line 3\u001b[0m\n\u001b[0;32m      1\u001b[0m N \u001b[38;5;241m=\u001b[39m \u001b[38;5;28mint\u001b[39m(\u001b[38;5;28minput\u001b[39m())\n\u001b[0;32m      2\u001b[0m memo \u001b[38;5;241m=\u001b[39m [\u001b[38;5;241m-\u001b[39m\u001b[38;5;241m1\u001b[39m] \u001b[38;5;241m*\u001b[39m (N\u001b[38;5;241m+\u001b[39m\u001b[38;5;241m1\u001b[39m)\n\u001b[1;32m----> 3\u001b[0m memo[\u001b[38;5;241m1\u001b[39m] \u001b[38;5;241m=\u001b[39m memo[\u001b[38;5;241m2\u001b[39m] \u001b[38;5;241m=\u001b[39m memo[\u001b[38;5;241m4\u001b[39m] \u001b[38;5;241m=\u001b[39m \u001b[38;5;241m-\u001b[39m\u001b[38;5;241m1\u001b[39m\n\u001b[0;32m      4\u001b[0m memo[\u001b[38;5;241m3\u001b[39m] \u001b[38;5;241m=\u001b[39m \u001b[38;5;241m1\u001b[39m\n\u001b[0;32m      5\u001b[0m memo[\u001b[38;5;241m5\u001b[39m] \u001b[38;5;241m=\u001b[39m \u001b[38;5;241m1\u001b[39m\n",
      "\u001b[1;31mIndexError\u001b[0m: list assignment index out of range"
     ]
    }
   ],
   "source": [
    "N = int(input())\n",
    "memo = [-1] * (N+3)\n",
    "memo[1] = memo[2] = memo[4] = -1\n",
    "memo[3] = 1\n",
    "memo[5] = 1\n",
    "\n",
    "for i in range(6, N+1):\n",
    "    if memo[i-3] == -1 and memo[i-5] == -1:     ## -3. -5 모두 -1인 경우, 이 수는 3과 5로는 만들 수 없다.\n",
    "        memo[i] = -1\n",
    "    else:\n",
    "        memo[i] = min(\n",
    "            memo[i-3] + 1 if memo[i-3] != -1 else float('inf'),\n",
    "            memo[i-5] + 1 if memo[i-5] != -1 else float('inf'),\n",
    "        )\n",
    "\n",
    "print(memo[N])"
   ]
  },
  {
   "cell_type": "markdown",
   "metadata": {},
   "source": [
    "아래는 수학적으로 푼 코드인데, 이것도 좋은 것 같다.\n",
    "\n",
    "백준 기준으로 시간/공간복잡도는 거의 같음"
   ]
  },
  {
   "cell_type": "code",
   "execution_count": null,
   "metadata": {},
   "outputs": [],
   "source": [
    "sugar = int(input())\n",
    "\n",
    "bag = 0\n",
    "while sugar >= 0 :\n",
    "    if sugar % 5 == 0 :  # 5의 배수이면\n",
    "        bag += (sugar // 5)  # 5로 나눈 몫을 구해야 정수가 됨\n",
    "        print(bag)\n",
    "        break\n",
    "    sugar -= 3  \n",
    "    bag += 1  # 5의 배수가 될 때까지 설탕-3, 봉지+1\n",
    "else :\n",
    "    print(-1)"
   ]
  }
 ],
 "metadata": {
  "kernelspec": {
   "display_name": "Python 3",
   "language": "python",
   "name": "python3"
  },
  "language_info": {
   "codemirror_mode": {
    "name": "ipython",
    "version": 3
   },
   "file_extension": ".py",
   "mimetype": "text/x-python",
   "name": "python",
   "nbconvert_exporter": "python",
   "pygments_lexer": "ipython3",
   "version": "3.10.11"
  }
 },
 "nbformat": 4,
 "nbformat_minor": 2
}
