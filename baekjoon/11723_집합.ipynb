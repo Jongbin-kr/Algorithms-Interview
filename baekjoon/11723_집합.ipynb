{
 "cells": [
  {
   "cell_type": "code",
   "execution_count": null,
   "metadata": {},
   "outputs": [],
   "source": [
    "# import sys; input = lambda: sys.stdin.readline().rstrip()\n",
    "\n",
    "M = int(input())\n",
    "\n",
    "S = set()\n",
    "for _ in range(M):\n",
    "    items = input().split()\n",
    "    if len(items) == 2:\n",
    "        items[1] = int(items[1])\n",
    "    \n",
    "       \n",
    "    if items[0] == 'add':\n",
    "        S.add(items[1])\n",
    "    \n",
    "    elif items[0] == 'remove':\n",
    "        if items[1] in S:\n",
    "            S.remove(items[1])\n",
    "        else:\n",
    "            continue\n",
    "    \n",
    "    elif items[0] == 'check':\n",
    "        if items[1] in S:\n",
    "            print(1)\n",
    "        else:\n",
    "            print(0)\n",
    "    \n",
    "    elif items[0] == 'toggle':\n",
    "        if items[1] in S:\n",
    "            S.remove(items[1])\n",
    "        else:\n",
    "            S.add(items[1])\n",
    "    \n",
    "    elif items[0] == 'all':\n",
    "        S = set(range(1,21))\n",
    "        \n",
    "    elif items[0] == 'empty':\n",
    "        S = set()\n",
    "        "
   ]
  }
 ],
 "metadata": {
  "kernelspec": {
   "display_name": "Python 3",
   "language": "python",
   "name": "python3"
  },
  "language_info": {
   "codemirror_mode": {
    "name": "ipython",
    "version": 3
   },
   "file_extension": ".py",
   "mimetype": "text/x-python",
   "name": "python",
   "nbconvert_exporter": "python",
   "pygments_lexer": "ipython3",
   "version": "3.10.11"
  }
 },
 "nbformat": 4,
 "nbformat_minor": 2
}
