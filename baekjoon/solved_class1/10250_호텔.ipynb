{
 "cells": [
  {
   "cell_type": "markdown",
   "metadata": {},
   "source": [
    "이런저런 예외처리가 조금 까다로웠당"
   ]
  },
  {
   "cell_type": "code",
   "execution_count": 41,
   "metadata": {},
   "outputs": [
    {
     "name": "stdout",
     "output_type": "stream",
     "text": [
      "1 101\n",
      "5 501\n",
      "6 601\n",
      "7 102\n",
      "12 602\n"
     ]
    }
   ],
   "source": [
    "# import sys; input = sys.stdin.readline\n",
    "T = int(input())\n",
    "for _ in range(T):\n",
    "    H, W, N = map(int, input().split())\n",
    "    if N % H == 0:\n",
    "        yy = str(H)\n",
    "        xx = str(N // H) if len(str(N // H)) == 2 else '0' + str(N // H)\n",
    "        print(N, yy + xx)\n",
    "        continue\n",
    "    \n",
    "    yy = str(N % H) if N % H != 0 else str(H)\n",
    "    xx = str(N // H + 1) if len(str(N // H + 1)) == 2 else '0' + str(N // H + 1)\n",
    "    print(N, yy + xx)"
   ]
  }
 ],
 "metadata": {
  "kernelspec": {
   "display_name": "Python 3",
   "language": "python",
   "name": "python3"
  },
  "language_info": {
   "codemirror_mode": {
    "name": "ipython",
    "version": 3
   },
   "file_extension": ".py",
   "mimetype": "text/x-python",
   "name": "python",
   "nbconvert_exporter": "python",
   "pygments_lexer": "ipython3",
   "version": "3.10.11"
  }
 },
 "nbformat": 4,
 "nbformat_minor": 2
}
