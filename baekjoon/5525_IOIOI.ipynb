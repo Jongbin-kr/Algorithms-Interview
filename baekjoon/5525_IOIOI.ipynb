{
 "cells": [
  {
   "cell_type": "markdown",
   "metadata": {},
   "source": [
    "그냥 슬라이스 기준으로 매치하면 안되나?\n",
    "\n",
    "타임오버라서 부분성공 뜨네."
   ]
  },
  {
   "cell_type": "code",
   "execution_count": null,
   "metadata": {},
   "outputs": [
    {
     "name": "stdout",
     "output_type": "stream",
     "text": [
      "4\n"
     ]
    }
   ],
   "source": [
    "import sys; input = lambda: sys.stdin.readline().rstrip()\n",
    "\n",
    "N_patterns = int(input())\n",
    "pattern = \"IO\" * N_patterns + \"I\"\n",
    "len_pattern = N_patterns * 2 + 1\n",
    "\n",
    "M_ios = int(input())\n",
    "ios = input()\n",
    "\n",
    "\n",
    "result = 0\n",
    "while ios:\n",
    "    if ios[:len_pattern] == pattern:\n",
    "        result += 1\n",
    "        ios = ios[2:]\n",
    "    \n",
    "    else:\n",
    "        ios = ios[1:]\n",
    "    \n",
    "\n",
    "print(result)"
   ]
  },
  {
   "cell_type": "markdown",
   "metadata": {},
   "source": [
    "문자열 슬라이싱이 $O(b-a)$만큼의 시간복잡도를 잡아먹는다고 한다.\n",
    "\n",
    "직접 슬라이싱하지 말고, 인덱스값을 조정하자\n",
    "\n",
    "--> 여전이 타임아웃...?"
   ]
  },
  {
   "cell_type": "code",
   "execution_count": 3,
   "metadata": {},
   "outputs": [
    {
     "name": "stdout",
     "output_type": "stream",
     "text": [
      "2\n"
     ]
    }
   ],
   "source": [
    "# import sys; input = lambda: sys.stdin.readline().rstrip()\n",
    "\n",
    "N_patterns = int(input())\n",
    "pattern = \"IO\" * N_patterns + \"I\"   # IOI\n",
    "len_pattern = N_patterns * 2 + 1    # 3\n",
    "\n",
    "M_ios = int(input())\n",
    "ios = input()\n",
    "\n",
    "result = 0\n",
    "start_idx = 0\n",
    "while start_idx < M_ios:    # 0 < 13\n",
    "    if ios[start_idx:start_idx+len_pattern] == pattern:\n",
    "        result += 1\n",
    "        start_idx += 2\n",
    "    \n",
    "    else:\n",
    "        start_idx += 1\n",
    "    \n",
    "\n",
    "print(result)"
   ]
  },
  {
   "cell_type": "markdown",
   "metadata": {},
   "source": [
    "인덱스값을 사용하려는 아이디어는 맞는데, $N$값이 커지면, 그만큼 슬라이싱에 많은 시간이 걸린다."
   ]
  },
  {
   "cell_type": "code",
   "execution_count": 2,
   "metadata": {},
   "outputs": [
    {
     "name": "stdout",
     "output_type": "stream",
     "text": [
      "2\n"
     ]
    }
   ],
   "source": [
    "N_patterns = int(input())\n",
    "M_ios = int(input()) \n",
    "ios = input()\n",
    "\n",
    "result = 0\n",
    "start_idx = 0\n",
    "io_cnt = 0\n",
    "while start_idx < M_ios-1:\n",
    "    if ios[start_idx:start_idx+3] == \"IOI\":\n",
    "        io_cnt += 1\n",
    "        start_idx += 2\n",
    "        \n",
    "        if io_cnt == N_patterns:\n",
    "            result += 1\n",
    "            io_cnt -= 1\n",
    "    \n",
    "    else:\n",
    "        start_idx += 1\n",
    "        io_cnt = 0\n",
    "\n",
    "print(result)"
   ]
  }
 ],
 "metadata": {
  "kernelspec": {
   "display_name": "Python 3",
   "language": "python",
   "name": "python3"
  },
  "language_info": {
   "codemirror_mode": {
    "name": "ipython",
    "version": 3
   },
   "file_extension": ".py",
   "mimetype": "text/x-python",
   "name": "python",
   "nbconvert_exporter": "python",
   "pygments_lexer": "ipython3",
   "version": "3.10.11"
  }
 },
 "nbformat": 4,
 "nbformat_minor": 2
}
