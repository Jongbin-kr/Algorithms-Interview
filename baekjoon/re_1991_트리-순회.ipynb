{
 "cells": [
  {
   "cell_type": "markdown",
   "metadata": {},
   "source": [
    "그래프를 어떻게 표현해야하지?\n",
    "왼쪽 오른쪽을 지금 파악해야하는 상황이니까.\n",
    "\n"
   ]
  },
  {
   "cell_type": "code",
   "execution_count": null,
   "metadata": {},
   "outputs": [
    {
     "name": "stdout",
     "output_type": "stream",
     "text": [
      "ABDCEFG\n",
      "DBAECFG\n",
      "DBEGFCA\n"
     ]
    }
   ],
   "source": [
    "\n",
    "N_nodes = int(input())\n",
    "graph = {}\n",
    "for _ in range(N_nodes):\n",
    "    root, left, right = input().split()\n",
    "    graph[root] = (left, right)\n",
    "    \n",
    "\n",
    "def preorder_traverse(graph):\n",
    "    visited = []\n",
    "    to_visit = []\n",
    "    \n",
    "    to_visit.append(\"A\")\n",
    "    \n",
    "    while to_visit:\n",
    "        node = to_visit.pop()\n",
    "        if node == '.':\n",
    "            continue\n",
    "        \n",
    "        if node not in visited:\n",
    "            visited.append(node)\n",
    "            left, right = graph[node]\n",
    "            to_visit.extend([right, left])  # \n",
    "            \n",
    "    return visited\n",
    "\n",
    "\n",
    "\n",
    "def inorder_traverse(graph):\n",
    "    visited = []\n",
    "    to_visit = []\n",
    "    to_visit.append(\"A\")\n",
    "    \n",
    "    while to_visit:\n",
    "        node = to_visit.pop()\n",
    "        if node == '.':\n",
    "            continue\n",
    "        \n",
    "        left, right = graph[node]\n",
    "        \n",
    "        if left != '.' and left not in visited:\n",
    "            to_visit.extend((right, node, left))\n",
    "            \n",
    "        elif right != '.' and right not in to_visit:\n",
    "            to_visit.extend((right, node))\n",
    "            \n",
    "        else:\n",
    "            visited.append(node)\n",
    "    \n",
    "    return visited\n",
    "\n",
    "\n",
    "\n",
    "def postorder_traverse(graph):\n",
    "    visited = []\n",
    "    to_visit = []\n",
    "    to_visit.append(\"A\")\n",
    "    \n",
    "    \n",
    "    while to_visit:\n",
    "        node = to_visit.pop()\n",
    "        if node == '.':\n",
    "            continue\n",
    "        \n",
    "        left, right = graph[node]\n",
    "        \n",
    "        if left != '.' and left not in visited:\n",
    "            to_visit.extend((node, right, left))\n",
    "            \n",
    "        elif right != '.' and right not in visited:\n",
    "            to_visit.extend((node, right))\n",
    "            \n",
    "        else:\n",
    "            visited.append(node)\n",
    "    \n",
    "    return visited\n",
    "\n",
    "\n",
    "print(*preorder_traverse(graph), sep='')\n",
    "print(*inorder_traverse(graph), sep='')\n",
    "print(*postorder_traverse(graph), sep='')"
   ]
  },
  {
   "cell_type": "markdown",
   "metadata": {},
   "source": [
    "재귀를 잘 하자"
   ]
  },
  {
   "cell_type": "code",
   "execution_count": null,
   "metadata": {},
   "outputs": [],
   "source": [
    "import sys; input = sys.stdin.readline\n",
    "\n",
    "def preorder(p):\n",
    "    if p == '.':\n",
    "        return ''\n",
    "    lc, rc = tree[p]\n",
    "    return p + preorder(lc) + preorder(rc)\n",
    "\n",
    "def inorder(p):\n",
    "    if p == '.':\n",
    "        return ''\n",
    "    lc, rc = tree[p]\n",
    "    return inorder(lc) + p + inorder(rc)\n",
    "\n",
    "def postorder(p):\n",
    "    if p == '.':\n",
    "        return ''\n",
    "    lc, rc = tree[p]\n",
    "    return postorder(lc) + postorder(rc) + p\n",
    "\n",
    "N = int(input())\n",
    "tree = dict()\n",
    "for _ in range(N):\n",
    "    a, b, c = input().split()\n",
    "    tree[a] = [b, c]\n",
    "print(preorder('A'))\n",
    "print(inorder('A'))\n",
    "print(postorder('A'))"
   ]
  }
 ],
 "metadata": {
  "kernelspec": {
   "display_name": "Python 3",
   "language": "python",
   "name": "python3"
  },
  "language_info": {
   "codemirror_mode": {
    "name": "ipython",
    "version": 3
   },
   "file_extension": ".py",
   "mimetype": "text/x-python",
   "name": "python",
   "nbconvert_exporter": "python",
   "pygments_lexer": "ipython3",
   "version": "3.10.11"
  }
 },
 "nbformat": 4,
 "nbformat_minor": 2
}
