{
 "cells": [
  {
   "cell_type": "markdown",
   "metadata": {},
   "source": [
    "정수의 개수가 최대 20개 정도로 그리 많지는 않네? -> 완탐으로 해볼까"
   ]
  },
  {
   "cell_type": "code",
   "execution_count": 12,
   "metadata": {},
   "outputs": [
    {
     "name": "stdout",
     "output_type": "stream",
     "text": [
      "[-4, -1, 1, 4]\n",
      "0 3\n",
      "1 2\n",
      "2\n"
     ]
    }
   ],
   "source": [
    "## 연속부분수열을 구하는 코드...근데 꼭 연속일 필요는 없다네\n",
    "n_nums, target = map(int, input().split())\n",
    "nums = list(map(int, input().split()))\n",
    "print(nums)\n",
    "\n",
    "result = 0\n",
    "for start in range(n_nums):\n",
    "    for end in range(start+1, n_nums):\n",
    "        if sum(nums[start:end+1]) == target:\n",
    "            print(start, end)\n",
    "            result += 1\n",
    "            \n",
    "print(result)"
   ]
  },
  {
   "cell_type": "code",
   "execution_count": 26,
   "metadata": {},
   "outputs": [
    {
     "name": "stdout",
     "output_type": "stream",
     "text": [
      "(0,)\n",
      "(0,)\n",
      "(0, 0)\n",
      "3\n"
     ]
    }
   ],
   "source": [
    "from itertools import combinations\n",
    "# import sys; input = lambda: sys.stsdin.readline().rstrip()\n",
    "\n",
    "n_nums, target = map(int, input().split())\n",
    "nums = list(map(int, input().split()))\n",
    "# print(nums)\n",
    "\n",
    "result = 0 \n",
    "for i in range(1, n_nums+1):\n",
    "    for combination in combinations(nums, i):\n",
    "        if sum(combination) == target:\n",
    "            # print(combination)\n",
    "            result += 1\n",
    "\n",
    "print(result)\n",
    "    "
   ]
  },
  {
   "cell_type": "markdown",
   "metadata": {},
   "source": [
    "## 다른 풀이들"
   ]
  },
  {
   "cell_type": "markdown",
   "metadata": {},
   "source": [
    "비트마스크? 이게뭐야.... ([출처](https://www.acmicpc.net/source/33240851))"
   ]
  },
  {
   "cell_type": "code",
   "execution_count": null,
   "metadata": {},
   "outputs": [],
   "source": [
    "N, S = [int(_) for _ in input().split(' ')]\n",
    "arr = [int(_) for _ in input().split(' ')]\n",
    "\n",
    "count = 0\n",
    "\n",
    "for i in range(1, 2**N):\n",
    "    acc = 0\n",
    "    for j in range(N):\n",
    "        if i & (1<<j) > 0:\n",
    "            acc += arr[j]\n",
    "    if acc == S:\n",
    "        count += 1\n",
    "\n",
    "print(count)\n"
   ]
  },
  {
   "cell_type": "markdown",
   "metadata": {},
   "source": [
    "백트래킹"
   ]
  },
  {
   "cell_type": "code",
   "execution_count": 49,
   "metadata": {},
   "outputs": [
    {
     "name": "stdout",
     "output_type": "stream",
     "text": [
      "[-7, -3, -2, 5, 8]\n",
      "0 called 0\n",
      "0 to append nums[0]: -7\n",
      "0 [-7]\n",
      "1 ----called 1\n",
      "1 ----to append nums[1]: -3\n",
      "1 ----[-7, -3]\n",
      "2 --------called 2\n",
      "2 --------to append nums[2]: -2\n",
      "2 --------[-7, -3, -2]\n",
      "3 ------------called 3\n",
      "3 ------------to append nums[3]: 5\n",
      "3 ------------[-7, -3, -2, 5]\n",
      "4 ----------------called 4\n",
      "4 ----------------to append nums[4]: 8\n",
      "4 ----------------[-7, -3, -2, 5, 8]\n",
      "5 --------------------called 5\n",
      "4 ----------------to pop nums[4]: 8\n",
      "3 ------------to pop nums[3]: 5\n",
      "3 ------------to append nums[4]: 8\n",
      "3 ------------[-7, -3, -2, 8]\n",
      "4 ----------------called 5\n",
      "3 ------------to pop nums[4]: 8\n",
      "2 --------to pop nums[2]: -2\n",
      "2 --------to append nums[3]: 5\n",
      "2 --------[-7, -3, 5]\n",
      "3 ------------called 4\n",
      "3 ------------to append nums[4]: 8\n",
      "3 ------------[-7, -3, 5, 8]\n",
      "4 ----------------called 5\n",
      "3 ------------to pop nums[4]: 8\n",
      "2 --------to pop nums[3]: 5\n",
      "2 --------to append nums[4]: 8\n",
      "2 --------[-7, -3, 8]\n",
      "3 ------------called 5\n",
      "2 --------to pop nums[4]: 8\n",
      "1 ----to pop nums[1]: -3\n",
      "1 ----to append nums[2]: -2\n",
      "1 ----[-7, -2]\n",
      "2 --------called 3\n",
      "2 --------to append nums[3]: 5\n",
      "2 --------[-7, -2, 5]\n",
      "3 ------------called 4\n",
      "3 ------------to append nums[4]: 8\n",
      "3 ------------[-7, -2, 5, 8]\n",
      "4 ----------------called 5\n",
      "3 ------------to pop nums[4]: 8\n",
      "2 --------to pop nums[3]: 5\n",
      "2 --------to append nums[4]: 8\n",
      "2 --------[-7, -2, 8]\n",
      "3 ------------called 5\n",
      "2 --------to pop nums[4]: 8\n",
      "1 ----to pop nums[2]: -2\n",
      "1 ----to append nums[3]: 5\n",
      "1 ----[-7, 5]\n",
      "2 --------called 4\n",
      "2 --------to append nums[4]: 8\n",
      "2 --------[-7, 5, 8]\n",
      "3 ------------called 5\n",
      "2 --------to pop nums[4]: 8\n",
      "1 ----to pop nums[3]: 5\n",
      "1 ----to append nums[4]: 8\n",
      "1 ----[-7, 8]\n",
      "2 --------called 5\n",
      "1 ----to pop nums[4]: 8\n",
      "0 to pop nums[0]: -7\n",
      "0 to append nums[1]: -3\n",
      "0 [-3]\n",
      "1 ----called 2\n",
      "1 ----to append nums[2]: -2\n",
      "1 ----[-3, -2]\n",
      "2 --------called 3\n",
      "2 --------to append nums[3]: 5\n",
      "2 --------[-3, -2, 5]\n",
      "3 ------------called 4\n",
      "3 ------------!!!Gotcha!!!\n",
      "3 ------------to append nums[4]: 8\n",
      "3 ------------[-3, -2, 5, 8]\n",
      "4 ----------------called 5\n",
      "3 ------------to pop nums[4]: 8\n",
      "2 --------to pop nums[3]: 5\n",
      "2 --------to append nums[4]: 8\n",
      "2 --------[-3, -2, 8]\n",
      "3 ------------called 5\n",
      "2 --------to pop nums[4]: 8\n",
      "1 ----to pop nums[2]: -2\n",
      "1 ----to append nums[3]: 5\n",
      "1 ----[-3, 5]\n",
      "2 --------called 4\n",
      "2 --------to append nums[4]: 8\n",
      "2 --------[-3, 5, 8]\n",
      "3 ------------called 5\n",
      "2 --------to pop nums[4]: 8\n",
      "1 ----to pop nums[3]: 5\n",
      "1 ----to append nums[4]: 8\n",
      "1 ----[-3, 8]\n",
      "2 --------called 5\n",
      "1 ----to pop nums[4]: 8\n",
      "0 to pop nums[1]: -3\n",
      "0 to append nums[2]: -2\n",
      "0 [-2]\n",
      "1 ----called 3\n",
      "1 ----to append nums[3]: 5\n",
      "1 ----[-2, 5]\n",
      "2 --------called 4\n",
      "2 --------to append nums[4]: 8\n",
      "2 --------[-2, 5, 8]\n",
      "3 ------------called 5\n",
      "2 --------to pop nums[4]: 8\n",
      "1 ----to pop nums[3]: 5\n",
      "1 ----to append nums[4]: 8\n",
      "1 ----[-2, 8]\n",
      "2 --------called 5\n",
      "1 ----to pop nums[4]: 8\n",
      "0 to pop nums[2]: -2\n",
      "0 to append nums[3]: 5\n",
      "0 [5]\n",
      "1 ----called 4\n",
      "1 ----to append nums[4]: 8\n",
      "1 ----[5, 8]\n",
      "2 --------called 5\n",
      "1 ----to pop nums[4]: 8\n",
      "0 to pop nums[3]: 5\n",
      "0 to append nums[4]: 8\n",
      "0 [8]\n",
      "1 ----called 5\n",
      "0 to pop nums[4]: 8\n",
      "1\n"
     ]
    }
   ],
   "source": [
    "N, S = map(int, input().split())\n",
    "num = list(map(int, input().split()))\n",
    "print(num)\n",
    "cnt = 0\n",
    "ans = []\n",
    "\n",
    "def solve(start, depth):\n",
    "    global cnt\n",
    "    indent = f'{depth // 4} ' + '-' * depth  # 재귀 깊이를 반영한 인덴테이션\n",
    "    print(f'{indent}called {start}')\n",
    "    if sum(ans) == S and len(ans) > 0:\n",
    "        print(f'{indent}!!!Gotcha!!!')\n",
    "        cnt += 1\n",
    "\n",
    "    for i in range(start, N):\n",
    "        print(f'{indent}to append nums[{i}]: {num[i]}')\n",
    "        ans.append(num[i])\n",
    "        print(f'{indent}{ans}')\n",
    "        solve(i+1, depth + 4)\n",
    "        print(f\"{indent}to pop nums[{i}]: {ans[-1]}\")\n",
    "        ans.pop()\n",
    "\n",
    "solve(0, 0)\n",
    "print(cnt)\n"
   ]
  }
 ],
 "metadata": {
  "kernelspec": {
   "display_name": "Python 3",
   "language": "python",
   "name": "python3"
  },
  "language_info": {
   "codemirror_mode": {
    "name": "ipython",
    "version": 3
   },
   "file_extension": ".py",
   "mimetype": "text/x-python",
   "name": "python",
   "nbconvert_exporter": "python",
   "pygments_lexer": "ipython3",
   "version": "3.10.11"
  }
 },
 "nbformat": 4,
 "nbformat_minor": 2
}
