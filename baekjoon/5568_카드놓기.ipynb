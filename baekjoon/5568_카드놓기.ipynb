{
 "cells": [
  {
   "cell_type": "markdown",
   "metadata": {},
   "source": [
    "- permutations 돌리는 게 제일 깔끔한 코드인 것 같다. 시간복잡도는 `O(n!)`인데 $4 \\leq n \\leq 10$이므로 최대 10!(약 3.6백만)의 시간복잡도. "
   ]
  },
  {
   "cell_type": "code",
   "execution_count": null,
   "metadata": {},
   "outputs": [],
   "source": [
    "from itertools import permutations\n",
    "\n",
    "## input 처리하기\n",
    "n = int(input())\n",
    "k = int(input())\n",
    "cards = []\n",
    "for _ in range(n): cards.append(input())\n",
    "\n",
    "## brute-force\n",
    "result = set()\n",
    "for permutation in permutations(cards, k):\n",
    "    number = ''.join(permutation)\n",
    "    result.add(number)\n",
    "\n",
    "print(len(result))"
   ]
  }
 ],
 "metadata": {
  "kernelspec": {
   "display_name": "Python 3",
   "language": "python",
   "name": "python3"
  },
  "language_info": {
   "codemirror_mode": {
    "name": "ipython",
    "version": 3
   },
   "file_extension": ".py",
   "mimetype": "text/x-python",
   "name": "python",
   "nbconvert_exporter": "python",
   "pygments_lexer": "ipython3",
   "version": "3.10.11"
  }
 },
 "nbformat": 4,
 "nbformat_minor": 2
}
