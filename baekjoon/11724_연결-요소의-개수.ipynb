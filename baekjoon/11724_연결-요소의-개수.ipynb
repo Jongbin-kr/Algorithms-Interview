{
 "cells": [
  {
   "cell_type": "code",
   "execution_count": 3,
   "metadata": {},
   "outputs": [
    {
     "name": "stdout",
     "output_type": "stream",
     "text": [
      "1\n"
     ]
    }
   ],
   "source": [
    "# import sys; input = lambda: sys.stdin.readline().rstrip()\n",
    "from collections import deque\n",
    "\n",
    "n_node, n_edge = map(int, input().split())\n",
    "\n",
    "graph = [[] for _ in range(n_node) for _ in range(n_node)]\n",
    "for _ in range(n_edge):\n",
    "    start, end = map(int, input().split())\n",
    "    start -= 1; end -= 1\n",
    "    graph[start].append(end)\n",
    "    graph[end].append(start)\n",
    "\n",
    "    \n",
    "\n",
    "def bfs(start):\n",
    "    to_visit = deque()\n",
    "    to_visit.append(start)\n",
    "    group = []\n",
    "    while to_visit:\n",
    "        node = to_visit.popleft()\n",
    "        \n",
    "        if (node not in visited) and (node not in group):\n",
    "            group.append(node)   \n",
    "            visited.append(node)\n",
    "            to_visit.extend(graph[node])\n",
    "    \n",
    "    return group\n",
    "\n",
    "\n",
    "visited = []\n",
    "groups = []\n",
    "for node in range(n_node):\n",
    "    if node not in visited:\n",
    "        groups.append(group := bfs(node))\n",
    "    \n",
    "print(len(groups))"
   ]
  }
 ],
 "metadata": {
  "kernelspec": {
   "display_name": "Python 3",
   "language": "python",
   "name": "python3"
  },
  "language_info": {
   "codemirror_mode": {
    "name": "ipython",
    "version": 3
   },
   "file_extension": ".py",
   "mimetype": "text/x-python",
   "name": "python",
   "nbconvert_exporter": "python",
   "pygments_lexer": "ipython3",
   "version": "3.10.11"
  }
 },
 "nbformat": 4,
 "nbformat_minor": 2
}
