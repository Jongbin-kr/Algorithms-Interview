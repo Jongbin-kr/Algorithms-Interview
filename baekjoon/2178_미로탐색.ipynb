{
 "cells": [
  {
   "cell_type": "markdown",
   "metadata": {},
   "source": [
    "- 이코테에 있던 연습문제와 굉장히 유사한 문제다."
   ]
  },
  {
   "cell_type": "code",
   "execution_count": 34,
   "metadata": {},
   "outputs": [
    {
     "data": {
      "text/plain": [
       "[(0, 0, 1),\n",
       " (1, 0, 2),\n",
       " (2, 0, 3),\n",
       " (1, 1, 3),\n",
       " (3, 0, 4),\n",
       " (1, 2, 4),\n",
       " (4, 0, 5),\n",
       " (0, 2, 5),\n",
       " (5, 0, 6),\n",
       " (0, 3, 6),\n",
       " (6, 0, 7),\n",
       " (0, 4, 7),\n",
       " (6, 1, 8),\n",
       " (0, 5, 8),\n",
       " (6, 2, 9),\n",
       " (0, 6, 9),\n",
       " (6, 3, 10),\n",
       " (1, 6, 10),\n",
       " (6, 4, 11),\n",
       " (2, 6, 11),\n",
       " (6, 5, 12),\n",
       " (3, 6, 12),\n",
       " (6, 6, 13)]"
      ]
     },
     "execution_count": 34,
     "metadata": {},
     "output_type": "execute_result"
    }
   ],
   "source": [
    "import sys\n",
    "# input = sys.stdin.readline\n",
    "\n",
    "N, M = map(int, input().split())\n",
    "maze = [list(map(int, list(input()))) for _ in range(N)]\n",
    "\n",
    "moves = [(-1, 0), (+1, 0), (0, -1), (0, +1)]  ## 상 하 좌 우\n",
    "\n",
    "from collections import deque\n",
    "def bfs(maze, start=(0, 0, 1)):\n",
    "    to_visit, visited = deque(), []\n",
    "    to_visit.append(start)\n",
    "    n, m, d = start\n",
    "    while n != N-1 or m != M-1:\n",
    "        n, m, d = to_visit.popleft()\n",
    "        \n",
    "        if maze[n][m] == 1:     ## 아직 방문안했으면\n",
    "            maze[n][m] = 0      ## 방문처리하고,\n",
    "            visited.append((n, m, d))\n",
    "            d += 1              ## 카운트 하나 더하기\n",
    "            \n",
    "            for move in moves:\n",
    "                dn, dm = move\n",
    "                if 0 <= (n + dn) < N and 0 <= (m + dm) < M and maze[n + dn][m + dm] == 1:\n",
    "                    to_visit.append((n + dn, m + dm, d))\n",
    "    \n",
    "    return visited\n",
    "\n",
    "print(bfs(maze)[-1][-1])"
   ]
  },
  {
   "cell_type": "code",
   "execution_count": 11,
   "metadata": {},
   "outputs": [
    {
     "name": "stdout",
     "output_type": "stream",
     "text": [
      "14\n"
     ]
    }
   ],
   "source": [
    "import sys\n",
    "# input = sys.stdin.readline\n",
    "\n",
    "N, M = map(int, input().split())\n",
    "maze = [list(map(int, list(input()))) for _ in range(N)]\n",
    "\n",
    "moves = [(-1, 0), (+1, 0), (0, -1), (0, +1)]  ## 상 하 좌 우\n",
    "\n",
    "from collections import deque\n",
    "def bfs(maze, start=(0, 0, 1)):\n",
    "    to_visit= deque()   ## !! 굳이 visited 리스트 쓰지말고, 이렇게 할 수도 있다!\n",
    "    to_visit.append(start)\n",
    "    n, m, d = start\n",
    "    while n != N-1 or m != M-1:\n",
    "        n, m, d = to_visit.popleft()\n",
    "        \n",
    "        if maze[n][m] == 1:     ## 아직 방문안했으면\n",
    "            maze[n][m] = 0      ## 방문처리하고,\n",
    "            visited.append((n, m, d))\n",
    "            d += 1              ## 카운트 하나 더하기\n",
    "            \n",
    "            for move in moves:\n",
    "                dn, dm = move\n",
    "                if 0 <= (n + dn) < N and 0 <= (m + dm) < M and maze[n + dn][m + dm] == 1:\n",
    "                    to_visit.append((n + dn, m + dm, d))\n",
    "    \n",
    "    return d - 1\n",
    "\n",
    "print(bfs(maze))"
   ]
  },
  {
   "cell_type": "markdown",
   "metadata": {},
   "source": [
    "### 왜 여기서 BFS를 쓰는걸까? DFS를 쓰면 안될까?\n",
    "- 사실 본 문제의 알고리즘은 길을 찾는다기보다는 인접한 노드의 거리를 구한다고 보는 것이 더 맞다.\n",
    "- 그런데, DFS는 하나의 길로 계속 진행하면서 거리를 더해가지만, BFS는 여러 길로 동시에 나가면서 거리를 더해간다.\n",
    "- 그렇기에 DFS는 갈림길에서 어느 방향으로 이동하느냐에 따라서 최단거리가 아닐 가능성이 있다.\n",
    "\n",
    "예제. 답은 13\n",
    "```\n",
    "7 7\n",
    "1011111\n",
    "1110001\n",
    "1000001\n",
    "1000001\n",
    "1000001\n",
    "1000001\n",
    "1111111\n",
    "```"
   ]
  },
  {
   "cell_type": "code",
   "execution_count": 7,
   "metadata": {},
   "outputs": [
    {
     "data": {
      "text/plain": [
       "[[3, 0, 5, 6, 7, 8, 9],\n",
       " [2, 3, 4, 0, 0, 0, 10],\n",
       " [25, 0, 0, 0, 0, 0, 11],\n",
       " [24, 0, 0, 0, 0, 0, 12],\n",
       " [23, 0, 0, 0, 0, 0, 13],\n",
       " [22, 0, 0, 0, 0, 0, 14],\n",
       " [21, 20, 19, 18, 17, 16, 15]]"
      ]
     },
     "execution_count": 7,
     "metadata": {},
     "output_type": "execute_result"
    }
   ],
   "source": [
    "import sys\n",
    "# input = sys.stdin.readline\n",
    "\n",
    "N, M = map(int, input().split())\n",
    "maze = [list(map(int, list(input()))) for _ in range(N)]\n",
    "result = maze.copy()\n",
    "moves = [(-1, 0), (+1, 0), (0, -1), (0, +1)]  ## 상 하 좌 우\n",
    "\n",
    "from collections import deque\n",
    "def dfs(maze, start=(0, 0, 1)):\n",
    "    to_visit, visited = [], []\n",
    "    to_visit.append(start)\n",
    "    n, m, d = start\n",
    "    while to_visit:\n",
    "        n, m, d = to_visit.pop()\n",
    "        \n",
    "        if maze[n][m] == 1:     ## 아직 방문안했으면\n",
    "            maze[n][m] = 0      ## 방문처리하고,\n",
    "            visited.append((n, m, d))\n",
    "            result[n][m] = d\n",
    "            d += 1              ## 카운트 하나 더하기\n",
    "            \n",
    "            for move in moves:\n",
    "                dn, dm = move\n",
    "                if 0 <= (n + dn) < N and 0 <= (m + dm) < M and maze[n + dn][m + dm] == 1:\n",
    "                    to_visit.append((n + dn, m + dm, d))\n",
    "    \n",
    "    return result\n",
    "\n",
    "dfs(maze)"
   ]
  },
  {
   "cell_type": "code",
   "execution_count": 9,
   "metadata": {},
   "outputs": [
    {
     "data": {
      "text/plain": [
       "[[3, 0, 5, 6, 7, 8, 9],\n",
       " [2, 3, 4, 0, 0, 0, 10],\n",
       " [3, 0, 0, 0, 0, 0, 11],\n",
       " [4, 0, 0, 0, 0, 0, 12],\n",
       " [5, 0, 0, 0, 0, 0, 13],\n",
       " [6, 0, 0, 0, 0, 0, 14],\n",
       " [7, 8, 9, 10, 11, 12, 13]]"
      ]
     },
     "execution_count": 9,
     "metadata": {},
     "output_type": "execute_result"
    }
   ],
   "source": [
    "import sys\n",
    "# input = sys.stdin.readline\n",
    "\n",
    "N, M = map(int, input().split())\n",
    "maze = [list(map(int, list(input()))) for _ in range(N)]\n",
    "result = maze.copy()\n",
    "moves = [(-1, 0), (+1, 0), (0, -1), (0, +1)]  ## 상 하 좌 우\n",
    "\n",
    "from collections import deque\n",
    "def bfs(maze, start=(0, 0, 1)):\n",
    "    to_visit, visited = deque(), []\n",
    "    to_visit.append(start)\n",
    "    n, m, d = start\n",
    "    while to_visit:\n",
    "        n, m, d = to_visit.popleft()\n",
    "        \n",
    "        if maze[n][m] == 1:     ## 아직 방문안했으면\n",
    "            maze[n][m] = 0      ## 방문처리하고,\n",
    "            visited.append((n, m, d))\n",
    "            result[n][m] = d\n",
    "            d += 1              ## 카운트 하나 더하기\n",
    "            \n",
    "            for move in moves:\n",
    "                dn, dm = move\n",
    "                if 0 <= (n + dn) < N and 0 <= (m + dm) < M and maze[n + dn][m + dm] == 1:\n",
    "                    to_visit.append((n + dn, m + dm, d))\n",
    "    \n",
    "    return result\n",
    "\n",
    "bfs(maze)"
   ]
  },
  {
   "cell_type": "markdown",
   "metadata": {},
   "source": [
    "아래 예시처럼 moves의 순서를 바꾸면, 어쩌다 운 좋게 최단거리에 닿을 수도 있겠네..."
   ]
  },
  {
   "cell_type": "code",
   "execution_count": 14,
   "metadata": {},
   "outputs": [
    {
     "data": {
      "text/plain": [
       "[[3, 0, 23, 22, 21, 20, 19],\n",
       " [2, 25, 24, 0, 0, 0, 18],\n",
       " [3, 0, 0, 0, 0, 0, 17],\n",
       " [4, 0, 0, 0, 0, 0, 16],\n",
       " [5, 0, 0, 0, 0, 0, 15],\n",
       " [6, 0, 0, 0, 0, 0, 14],\n",
       " [7, 8, 9, 10, 11, 12, 13]]"
      ]
     },
     "execution_count": 14,
     "metadata": {},
     "output_type": "execute_result"
    }
   ],
   "source": [
    "import sys\n",
    "# input = sys.stdin.readline\n",
    "\n",
    "N, M = map(int, input().split())\n",
    "maze = [list(map(int, list(input()))) for _ in range(N)]\n",
    "result = maze.copy()\n",
    "moves = [(-1, 0), (0, -1), (0, +1), (+1, 0)]  ## 상 하 좌 우\n",
    "\n",
    "\n",
    "from collections import deque\n",
    "def dfs(maze, start=(0, 0, 1)):\n",
    "    to_visit, visited = [], []\n",
    "    to_visit.append(start)\n",
    "    n, m, d = start\n",
    "    while to_visit:\n",
    "        n, m, d = to_visit.pop()\n",
    "        \n",
    "        if maze[n][m] == 1:     ## 아직 방문안했으면\n",
    "            maze[n][m] = 0      ## 방문처리하고,\n",
    "            visited.append((n, m, d))\n",
    "            result[n][m] = d\n",
    "            d += 1              ## 카운트 하나 더하기\n",
    "            \n",
    "            for move in moves:\n",
    "                dn, dm = move\n",
    "                if 0 <= (n + dn) < N and 0 <= (m + dm) < M and maze[n + dn][m + dm] == 1:\n",
    "                    to_visit.append((n + dn, m + dm, d))\n",
    "    \n",
    "    return result\n",
    "\n",
    "dfs(maze)"
   ]
  }
 ],
 "metadata": {
  "kernelspec": {
   "display_name": "Python 3",
   "language": "python",
   "name": "python3"
  },
  "language_info": {
   "codemirror_mode": {
    "name": "ipython",
    "version": 3
   },
   "file_extension": ".py",
   "mimetype": "text/x-python",
   "name": "python",
   "nbconvert_exporter": "python",
   "pygments_lexer": "ipython3",
   "version": "3.10.11"
  }
 },
 "nbformat": 4,
 "nbformat_minor": 2
}
