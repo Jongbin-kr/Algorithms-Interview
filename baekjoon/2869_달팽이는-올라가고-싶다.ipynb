{
 "cells": [
  {
   "cell_type": "markdown",
   "metadata": {},
   "source": [
    "끝 부분의 처리가 문제네.\n",
    "예제 1에서, (+2 -1) (+2 -1) (+2 -1) (+2 -1)... 일케 가면 5가 되어 버리니까\n",
    "대신 (-1 +2) (-1 +2)\n",
    "\n",
    "문제는 마지막 예제처럼 반복을 많이 돌려야하면, 타임아웃이 발생할 수 밖에 없다!"
   ]
  },
  {
   "cell_type": "code",
   "execution_count": 5,
   "metadata": {},
   "outputs": [
    {
     "ename": "ValueError",
     "evalue": "not enough values to unpack (expected 3, got 0)",
     "output_type": "error",
     "traceback": [
      "\u001b[1;31m---------------------------------------------------------------------------\u001b[0m",
      "\u001b[1;31mValueError\u001b[0m                                Traceback (most recent call last)",
      "Cell \u001b[1;32mIn[5], line 1\u001b[0m\n\u001b[1;32m----> 1\u001b[0m A, B, V \u001b[38;5;241m=\u001b[39m \u001b[38;5;28mmap\u001b[39m(\u001b[38;5;28mint\u001b[39m, \u001b[38;5;28minput\u001b[39m()\u001b[38;5;241m.\u001b[39msplit())\n\u001b[0;32m      3\u001b[0m now_height \u001b[38;5;241m=\u001b[39m \u001b[38;5;241m0\u001b[39m\n\u001b[0;32m      4\u001b[0m days \u001b[38;5;241m=\u001b[39m \u001b[38;5;241m0\u001b[39m\n",
      "\u001b[1;31mValueError\u001b[0m: not enough values to unpack (expected 3, got 0)"
     ]
    }
   ],
   "source": [
    "A, B, V = map(int, input().split())\n",
    "\n",
    "now_height = 0\n",
    "days = 0\n",
    "while now_height < V:\n",
    "    now_height = max(0, now_height - B)\n",
    "    \n",
    "    now_height += A\n",
    "    days += 1\n",
    "    \n",
    "print(days)"
   ]
  },
  {
   "cell_type": "markdown",
   "metadata": {},
   "source": [
    "수학적으로 풀어보자!"
   ]
  },
  {
   "cell_type": "code",
   "execution_count": 12,
   "metadata": {},
   "outputs": [
    {
     "name": "stdout",
     "output_type": "stream",
     "text": [
      "999999901\n"
     ]
    }
   ],
   "source": [
    "A, B, V = map(int, input().split())\n",
    "print((V - A) // (A-B) + 2 if (V - A) % (A - B)         ## 나눠 떨어지지 않은 경우에는, 나눠떨어지지 않는 경우를 고려해서 +1, 이후 마지막날 자기 전에 올라가는 것 +1\n",
    "                           else (V - A) // (A-B) + 1)   ## 나눠 떨어지는 경우에는, 이후 마지막날 자기 전에 올라가는 것만 고려해서 +1"
   ]
  }
 ],
 "metadata": {
  "kernelspec": {
   "display_name": "Python 3",
   "language": "python",
   "name": "python3"
  },
  "language_info": {
   "codemirror_mode": {
    "name": "ipython",
    "version": 3
   },
   "file_extension": ".py",
   "mimetype": "text/x-python",
   "name": "python",
   "nbconvert_exporter": "python",
   "pygments_lexer": "ipython3",
   "version": "3.10.11"
  }
 },
 "nbformat": 4,
 "nbformat_minor": 2
}
