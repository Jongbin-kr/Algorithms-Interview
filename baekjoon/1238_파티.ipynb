{
 "cells": [
  {
   "cell_type": "markdown",
   "metadata": {},
   "source": [
    "가장 처음 풀이.\n",
    "플로이드-워셜로 풀었는데, N <= 1,000이라 타임아웃인 것 같다."
   ]
  },
  {
   "cell_type": "code",
   "execution_count": 16,
   "metadata": {},
   "outputs": [
    {
     "name": "stdout",
     "output_type": "stream",
     "text": [
      "10\n"
     ]
    }
   ],
   "source": [
    "n_cities, n_roads, party = map(int, input().split())\n",
    "\n",
    "graph = [[float('inf')] * (n_cities+1) for _ in range(n_cities+1)]\n",
    "for i in range(1, n_cities+1):\n",
    "    graph[i][i] = 0\n",
    "\n",
    "for _ in range(n_roads):\n",
    "    start, end, dist = map(int, input().split())\n",
    "    graph[start][end] = dist\n",
    "    \n",
    "for start in range(1, n_cities+1):\n",
    "    for end in range(1, n_cities+1):\n",
    "        for bypass in range(1, n_cities+1):\n",
    "            graph[start][end] = min(graph[start][end], graph[start][bypass] + graph[bypass][end])\n",
    "\n",
    "the_farthest_dist = 0\n",
    "for start in range(1, n_cities+1):\n",
    "    the_farthest_dist = max(the_farthest_dist, graph[start][party] + graph[party][start])\n",
    "\n",
    "print(the_farthest_dist)\n",
    "    "
   ]
  },
  {
   "cell_type": "code",
   "execution_count": null,
   "metadata": {},
   "outputs": [],
   "source": [
    "n_cities, n_roads, party = map(int, input().split())\n",
    "\n",
    "graph = [[float('inf')] * (n_cities+1) for _ in range(n_cities+1)]\n",
    "# for i in range(1, n_cities+1):\n",
    "#     graph[i][i] = 0\n",
    "\n",
    "for _ in range(n_roads):\n",
    "    start, end, dist = map(int, input().split())\n",
    "    graph[start][end] = dist\n",
    "    \n",
    "for start in range(1, n_cities+1):\n",
    "    for end in range(1, n_cities+1):\n",
    "        for bypass in range(1, n_cities+1):\n",
    "            if start == end:\n",
    "                graph[start][end] = 0\n",
    "            else:\n",
    "                graph[start][end] = min(graph[start][end], \n",
    "                                        graph[start][bypass] + graph[bypass][end])\n",
    "\n",
    "the_farthest_dist = 0\n",
    "for start in range(1, n_cities+1):\n",
    "    the_farthest_dist = max(the_farthest_dist, \n",
    "                            graph[start][party] + graph[party][start])\n",
    "\n",
    "print(the_farthest_dist)\n",
    "    "
   ]
  },
  {
   "cell_type": "markdown",
   "metadata": {},
   "source": [
    "다익스트라로 다시 풀어보자\n",
    "- 다익스트라를 매 도시들마다 반복하는 식으로 풀었다.\n",
    "    - 그럼 시간복잡도는 $O(VE \\log V)$?\n",
    "    - 얼핏봐도 플로이드보다는 더 빨라보이고, 문제도 풀린다.\n",
    "    - 그럼 **플로이드-워셜은 언제 쓰는게 좋은가?**\n",
    "\n"
   ]
  },
  {
   "cell_type": "code",
   "execution_count": 10,
   "metadata": {},
   "outputs": [
    {
     "name": "stdout",
     "output_type": "stream",
     "text": [
      "[(0, 1)]\n",
      "[(2, 3), (4, 2), (7, 4)]\n",
      "[(4, 2), (7, 4), (6, 4)]\n",
      "[(6, 4), (7, 4)]\n",
      "[(7, 4)]\n",
      "[(0, 2)]\n",
      "[(1, 1), (5, 3)]\n",
      "[(3, 3), (5, 3), (8, 4)]\n",
      "[(5, 3), (8, 4), (7, 4)]\n",
      "[(7, 4), (8, 4)]\n",
      "[(8, 4)]\n",
      "[(0, 3)]\n",
      "[(2, 1), (4, 4)]\n",
      "[(4, 4), (6, 2)]\n",
      "[(6, 2)]\n",
      "[(0, 4)]\n",
      "[(3, 2)]\n",
      "[(4, 1), (8, 3)]\n",
      "[(6, 3), (8, 3)]\n",
      "[(8, 3)]\n",
      "10\n"
     ]
    }
   ],
   "source": [
    "n_cities, n_roads, party = map(int, input().split())\n",
    "\n",
    "dists = [[float('inf')] * (n_cities + 1) for _ in range(n_cities+1)]\n",
    "graph = [[] for _ in range(n_cities+1)]\n",
    "\n",
    "for _ in range(n_roads):\n",
    "    start, end, dist = map(int, input().split())\n",
    "    graph[start].append((end, dist))\n",
    "    \n",
    "    \n",
    "import heapq\n",
    "\n",
    "def dijkstra(start):\n",
    "    q = []\n",
    "    dists[start][start] = 0\n",
    "    heapq.heappush(q, (0, start))\n",
    "    \n",
    "    while q:\n",
    "        print(q)\n",
    "        current_dist, neareast_node = heapq.heappop(q)\n",
    "        \n",
    "        if dists[start][neareast_node] < current_dist:\n",
    "            continue\n",
    "        \n",
    "        for end, dist in graph[neareast_node]:\n",
    "            detouring_dist = current_dist + dist\n",
    "            if detouring_dist < dists[start][end]:\n",
    "                dists[start][end] = detouring_dist\n",
    "                heapq.heappush(q, (detouring_dist, end))\n",
    "                \n",
    "for start_city in range(1, n_cities+1):\n",
    "    dijkstra(start_city)\n",
    "    \n",
    "the_farthest_dist = 0\n",
    "for start in range(1, n_cities+1):\n",
    "    the_farthest_dist = max(the_farthest_dist, dists[start][party] + dists[party][start])\n",
    "\n",
    "print(the_farthest_dist)"
   ]
  },
  {
   "cell_type": "markdown",
   "metadata": {},
   "source": [
    "- 더 효율적인 풀이 로직과 참고 코드\n",
    "    - https://www.acmicpc.net/board/view/14990\n",
    "\n"
   ]
  },
  {
   "cell_type": "code",
   "execution_count": 12,
   "metadata": {},
   "outputs": [
    {
     "name": "stdout",
     "output_type": "stream",
     "text": [
      "[(0, 2)]\n",
      "[(1, 1), (5, 3)]\n",
      "[(3, 3), (5, 3), (8, 4)]\n",
      "[(5, 3), (8, 4), (7, 4)]\n",
      "[(7, 4), (8, 4)]\n",
      "[(8, 4)]\n",
      "[(0, 2)]\n",
      "[(3, 4), (4, 1)]\n",
      "[(4, 1), (7, 3)]\n",
      "[(6, 3), (7, 3)]\n",
      "[(7, 3)]\n",
      "10\n"
     ]
    }
   ],
   "source": [
    "## https://www.acmicpc.net/source/64071827\n",
    "# import sys; input = sys.stdin.readline\n",
    "from math import inf\n",
    "from heapq import heappop, heappush\n",
    "\n",
    "def dijkstra(start, dist, idx):\n",
    "    pq = [(0, start)]\n",
    "    dist[start] = 0\n",
    "    while pq:\n",
    "        print(pq)\n",
    "        t, s = heappop(pq)\n",
    "        if dist[s] < t:\n",
    "            continue\n",
    "        for e, tt in graph[idx][s]:\n",
    "            if dist[e] > t + tt:\n",
    "                dist[e] = t + tt\n",
    "                heappush(pq, (dist[e], e))\n",
    "\n",
    "N, M, X = map(int, input().split())\n",
    "# X -= 1\n",
    "\n",
    "graph = [[[] for _ in range(N+1)] for _ in range(2)]\n",
    "for _ in range(M):\n",
    "    S, E, T = map(int, input().split())\n",
    "    # S -= 1; E -= 1\n",
    "    graph[0][S].append((E, T))  ## 목적지 -> 각 노드\n",
    "    graph[1][E].append((S, T))  ## 그래프를 뒤로 따라가면, 그게 곧 각 노드 -> 목적지\n",
    "\n",
    "dist = [[inf] * (N+1) for _ in range(2)]\n",
    "dijkstra(X, dist[0], 0)\n",
    "dijkstra(X, dist[1], 1)\n",
    "\n",
    "print(max(dist[0][i] + dist[1][i] for i in range(1, N+1)))"
   ]
  },
  {
   "cell_type": "markdown",
   "metadata": {},
   "source": [
    "- 플로이드 + pypy3 조합으로 풀린 코드\n",
    "    - 플로이드 알고리즘에 대한 약간의 최적화?\n",
    "\n",
    "\n",
    "출처: https://claude-u.tistory.com/338"
   ]
  },
  {
   "cell_type": "code",
   "execution_count": null,
   "metadata": {},
   "outputs": [],
   "source": [
    "import sys\n",
    "\n",
    "#입력\n",
    "N, M, X = map(int, input().split())\n",
    "distance = [[M * 100 for _ in range(N+1)] for _ in range(N+1)]\n",
    "for _ in range(M):\n",
    "    start, end, time = map(int, sys.stdin.readline().split())\n",
    "    distance[start][end] = time\n",
    "\n",
    "\n",
    "#플로이드 와샬 알고리즘\n",
    "for k in range(1, N+1): #경로 for문이 가장 상위 단계여야 누락되지 않는다\n",
    "    for i in range(1, N+1):\n",
    "        if distance[i][k] != M * 100:\n",
    "            for j in range(1, N+1):\n",
    "                if i == j: #자기 자신일 경우\n",
    "                    distance[i][j] = 0 \n",
    "                else:\n",
    "                    distance[i][j] = min(distance[i][j],\n",
    "                                         distance[i][k] + distance[k][j])\n",
    "\n",
    "\n",
    "#출력\n",
    "max_time = 0\n",
    "for i in range(1, N+1):\n",
    "    max_time = max(max_time,\n",
    "                   distance[i][X] + distance[X][i])\n",
    "print(max_time)"
   ]
  }
 ],
 "metadata": {
  "kernelspec": {
   "display_name": "Python 3",
   "language": "python",
   "name": "python3"
  },
  "language_info": {
   "codemirror_mode": {
    "name": "ipython",
    "version": 3
   },
   "file_extension": ".py",
   "mimetype": "text/x-python",
   "name": "python",
   "nbconvert_exporter": "python",
   "pygments_lexer": "ipython3",
   "version": "3.10.11"
  }
 },
 "nbformat": 4,
 "nbformat_minor": 2
}
