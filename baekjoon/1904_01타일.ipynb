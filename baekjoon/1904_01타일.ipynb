{
 "cells": [
  {
   "cell_type": "markdown",
   "metadata": {},
   "source": [
    "타일깔기 문제랑 같은 로직이네"
   ]
  },
  {
   "cell_type": "code",
   "execution_count": 14,
   "metadata": {},
   "outputs": [
    {
     "name": "stdout",
     "output_type": "stream",
     "text": [
      "8\n"
     ]
    }
   ],
   "source": [
    "N = int(input())\n",
    "\n",
    "d = [0] * (N+1)\n",
    "\n",
    "\n",
    "for i in range(1, N+1):\n",
    "    if i == 1:\n",
    "        d[i] = 1\n",
    "        continue\n",
    "    \n",
    "    if i == 2:\n",
    "        d[i] = 2\n",
    "        continue\n",
    "    \n",
    "    d[i] = (d[i-1] + d[i-2]) % 15746\n",
    "    \n",
    "print(d[N])"
   ]
  }
 ],
 "metadata": {
  "kernelspec": {
   "display_name": "Python 3",
   "language": "python",
   "name": "python3"
  },
  "language_info": {
   "codemirror_mode": {
    "name": "ipython",
    "version": 3
   },
   "file_extension": ".py",
   "mimetype": "text/x-python",
   "name": "python",
   "nbconvert_exporter": "python",
   "pygments_lexer": "ipython3",
   "version": "3.10.11"
  }
 },
 "nbformat": 4,
 "nbformat_minor": 2
}
