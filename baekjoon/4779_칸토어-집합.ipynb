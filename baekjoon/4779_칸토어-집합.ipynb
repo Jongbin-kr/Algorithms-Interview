{
 "cells": [
  {
   "cell_type": "markdown",
   "metadata": {},
   "source": [
    "- 배운 것\n",
    "    - 문자열을 음수번만큼 곱해서 출력하면, 아무것도 출력되지 않는구나~"
   ]
  },
  {
   "cell_type": "code",
   "execution_count": 11,
   "metadata": {},
   "outputs": [
    {
     "name": "stdout",
     "output_type": "stream",
     "text": [
      "- -   - -\n",
      "- -   - -         - -   - -\n"
     ]
    },
    {
     "ename": "ValueError",
     "evalue": "invalid literal for int() with base 10: ''",
     "output_type": "error",
     "traceback": [
      "\u001b[1;31m---------------------------------------------------------------------------\u001b[0m",
      "\u001b[1;31mValueError\u001b[0m                                Traceback (most recent call last)",
      "Cell \u001b[1;32mIn[11], line 18\u001b[0m\n\u001b[0;32m     16\u001b[0m \u001b[38;5;28;01mwhile\u001b[39;00m \u001b[38;5;28;01mTrue\u001b[39;00m:\n\u001b[0;32m     17\u001b[0m     \u001b[38;5;28;01mtry\u001b[39;00m:\n\u001b[1;32m---> 18\u001b[0m         n \u001b[38;5;241m=\u001b[39m \u001b[38;5;28;43mint\u001b[39;49m\u001b[43m(\u001b[49m\u001b[38;5;28;43minput\u001b[39;49m\u001b[43m(\u001b[49m\u001b[43m)\u001b[49m\u001b[43m)\u001b[49m\n\u001b[0;32m     19\u001b[0m         cantor(n, \u001b[38;5;241m0\u001b[39m, \u001b[38;5;241m3\u001b[39m\u001b[38;5;241m*\u001b[39m\u001b[38;5;241m*\u001b[39mn \u001b[38;5;241m-\u001b[39m \u001b[38;5;241m1\u001b[39m)\n\u001b[0;32m     20\u001b[0m         \u001b[38;5;28mprint\u001b[39m(\u001b[38;5;124m'\u001b[39m\u001b[38;5;124m'\u001b[39m)\n",
      "\u001b[1;31mValueError\u001b[0m: invalid literal for int() with base 10: ''"
     ]
    }
   ],
   "source": [
    "import sys; sys.setrecursionlimit(10 ** 6)\n",
    "\n",
    "def cantor(n: int, start: int, end: int) -> str:\n",
    "    if n == 0:\n",
    "        print('-', end='')\n",
    "        return None\n",
    "    \n",
    "    blank_start, blank_end = 3**(n-1), 2*(3**(n-1))-1   # 3, 5\n",
    "    blank_start += start; blank_end += start\n",
    "    \n",
    "    cantor(n-1, start, blank_start-1)\n",
    "    print(' ' * (blank_end - blank_start + 1), end='')\n",
    "    cantor(n-1, blank_end+1, end)\n",
    "        \n",
    "\n",
    "while True:\n",
    "    try:\n",
    "        n = int(input())\n",
    "        cantor(n, 0, 3**n - 1)\n",
    "        print('')\n",
    "    except EOFError:\n",
    "        break"
   ]
  },
  {
   "cell_type": "markdown",
   "metadata": {},
   "source": [
    "n=2\n",
    "0 1 2   3 4 5   6 7 8\n",
    "- - -   - - -   - - -\n",
    "\n",
    "cantor(2, 0, 8) # (n=2) 3, 5\n",
    "    cantor(1, 0, 2) # (n=1) 1, 1\n",
    "        cantor(0, 0, 0)\n",
    "        print()\n",
    "        cantor(0, 2, 2)\n",
    "    print()\n",
    "    cantor(1, 6, 8) # (n=1) 7, 7\n",
    "        cantor(0, 6, 6)\n",
    "        print(7-7)\n",
    "        cantor(0, 8, 8)\n",
    "\n",
    "(n=3) \n",
    "blank_start, blank_end = 3**(n-1), 2*(3**(n-1))-1\n",
    "\n",
    "0 1 2   3 4 5   6 7 8         9 10 11   12 13 14    15 16 17        18 19 20   21 22 23  24 25 26\n",
    "- - -   - - -   - - -         -  -  -   -   -   -   -  -  -         -  -  -    -  -  -    - -  -\n",
    "\n",
    "cantor(3, 0, 26)    # (n=3) 9, 17\n",
    "    cantor(2, 0, 8) # (n=2) 3, 5\n",
    "        cantor(1, 0, 2)\n",
    "        print(5 - 3 + 1)\n",
    "        cantor(1, 6, 8)\n",
    "\n",
    "    print(17 - 9 + 1 = 9)\n",
    "\n",
    "    cantor(2, 18, 26)   # (n=2) 3+18, 5+18\n",
    "        cantor(1, 18, 20)   # (n=1) 1+18, 1+18\n",
    "            cantor(0, 18, 18)\n",
    "            print(19 - 19 + 1)\n",
    "            cantor(0, 20, 20)\n",
    "        print(23 - 21 +1 = 3)\n",
    "        cantor(1, 24, 26)"
   ]
  },
  {
   "cell_type": "markdown",
   "metadata": {},
   "source": [
    "다른 풀이\n",
    "\n",
    "요렇게 간단히 할 수도 있다."
   ]
  },
  {
   "cell_type": "code",
   "execution_count": null,
   "metadata": {},
   "outputs": [],
   "source": [
    "def solve(n):\n",
    "    if n == 1:\n",
    "        return \"-\"\n",
    "    else:\n",
    "        left = solve(n // 3)\n",
    "        center = \" \" * (n // 3)\n",
    "        return left + center + left\n",
    "\n",
    "while True:\n",
    "    try:\n",
    "        N = int(input())\n",
    "\n",
    "        rst = solve(3 ** N)\n",
    "        print(rst)\n",
    "    except:\n",
    "        break"
   ]
  }
 ],
 "metadata": {
  "kernelspec": {
   "display_name": "Python 3",
   "language": "python",
   "name": "python3"
  },
  "language_info": {
   "codemirror_mode": {
    "name": "ipython",
    "version": 3
   },
   "file_extension": ".py",
   "mimetype": "text/x-python",
   "name": "python",
   "nbconvert_exporter": "python",
   "pygments_lexer": "ipython3",
   "version": "3.10.11"
  }
 },
 "nbformat": 4,
 "nbformat_minor": 2
}
