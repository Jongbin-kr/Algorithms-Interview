{
 "cells": [
  {
   "cell_type": "code",
   "execution_count": 6,
   "metadata": {},
   "outputs": [
    {
     "name": "stdout",
     "output_type": "stream",
     "text": [
      "[3, 5, 7]\n"
     ]
    }
   ],
   "source": [
    "N = int(input())\n",
    "\n",
    "nums = list(map(int, input().split()))\n",
    "max_num = max(nums)\n",
    "\n",
    "cnt = 0\n",
    "for num in range(1, max_num+1):\n",
    "    if num == 1:\n",
    "        if 1 in nums:\n",
    "            nums.remove(1)\n",
    "        continue\n",
    "    \n",
    "    j = 2\n",
    "    while num * j <= max_num:\n",
    "        if num * j in nums:\n",
    "            nums.remove(num * j)\n",
    "        j += 1\n",
    "\n",
    "print(len(nums))"
   ]
  }
 ],
 "metadata": {
  "kernelspec": {
   "display_name": "Python 3",
   "language": "python",
   "name": "python3"
  },
  "language_info": {
   "codemirror_mode": {
    "name": "ipython",
    "version": 3
   },
   "file_extension": ".py",
   "mimetype": "text/x-python",
   "name": "python",
   "nbconvert_exporter": "python",
   "pygments_lexer": "ipython3",
   "version": "3.10.11"
  }
 },
 "nbformat": 4,
 "nbformat_minor": 2
}
