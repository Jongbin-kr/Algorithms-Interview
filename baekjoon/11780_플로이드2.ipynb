{
 "cells": [
  {
   "cell_type": "markdown",
   "metadata": {},
   "source": [
    "경로 추적 부분만 다음을 참고해서 수정. \n",
    "\n",
    "참고한 코드는 딱 코드 한줄임...([출처](https://velog.io/@ledcost/%EB%B0%B1%EC%A4%80-11780-%ED%8C%8C%EC%9D%B4%EC%8D%AC-%ED%94%8C%EB%A1%9C%EC%9D%B4%EB%93%9C-2-%EA%B3%A8%EB%93%9C-2-%ED%94%8C%EB%A1%9C%EC%9D%B4%EB%93%9C-%EC%9B%8C%EC%85%9C))\n",
    "\n",
    "근데 틀렸대...😂😂😂😂"
   ]
  },
  {
   "cell_type": "code",
   "execution_count": null,
   "metadata": {},
   "outputs": [],
   "source": [
    "n_cities = int(input())\n",
    "n_buses = int(input())\n",
    "\n",
    "## input\n",
    "graph = [[[float('inf'), [i, j]] for j in range(n_cities+1)]  for i in range(n_cities+1)]\n",
    "for _ in range(n_buses):\n",
    "    start, end, dist = map(int, input().split())\n",
    "    shortest_bus = min(dist, graph[start][end][0])\n",
    "    graph[start][end] = [shortest_bus, [start, end]]\n",
    "\n",
    "\n",
    "## floyd-warshall\n",
    "for bypass in range(1, n_cities+1):\n",
    "    for start in range(1, n_cities+1):\n",
    "        for end in range(1, n_cities+1):\n",
    "            if start == end:\n",
    "                graph[start][end] = [0, [start, end]]\n",
    "            else: \n",
    "                if graph[start][end][0] > graph[start][bypass][0] + graph[bypass][end][0]:\n",
    "                    graph[start][end][0] = graph[start][bypass][0] + graph[bypass][end][0]\n",
    "                    graph[start][end][1] = graph[start][bypass][1] + graph[bypass][end][1][1:]\n",
    "\n",
    "## output\n",
    "for i in range(1, n_cities+1):\n",
    "    for j in range(1, n_cities+1):\n",
    "        print(graph[i][j][0], end=' ')\n",
    "    print()\n",
    "    \n",
    "for i in range(1, n_cities+1):\n",
    "    for j in range(1, n_cities+1):\n",
    "        if graph[i][j][0] == 0:\n",
    "            print(0)\n",
    "        else:\n",
    "            print(len(graph[i][j][1]), *graph[i][j][1])"
   ]
  },
  {
   "cell_type": "markdown",
   "metadata": {},
   "source": [
    "### 24.06.27 다시 풀어본 코드\n",
    "- 발문을 똑바로 읽자. `\"도시 i에서 도시 j로 갈 수 없는 경우에는 0을 출력한다.\"`\n",
    "    - 단, 여기 발문은 조금 애매모호한 부분이 있긴 하다. ([출처](https://www.acmicpc.net/board/view/24751))"
   ]
  },
  {
   "cell_type": "code",
   "execution_count": 10,
   "metadata": {},
   "outputs": [
    {
     "name": "stdout",
     "output_type": "stream",
     "text": [
      "0 2 3 1 4 \n",
      "12 0 15 2 5 \n",
      "8 5 0 1 1 \n",
      "10 7 13 0 3 \n",
      "7 4 10 6 0 \n",
      "0\n",
      "2 1 2\n",
      "2 1 3\n",
      "2 1 4\n",
      "3 1 3 5\n",
      "4 2 4 5 1\n",
      "0\n",
      "5 2 4 5 1 3\n",
      "2 2 4\n",
      "3 2 4 5\n",
      "2 3 1\n",
      "3 3 5 2\n",
      "0\n",
      "2 3 4\n",
      "2 3 5\n",
      "3 4 5 1\n",
      "3 4 5 2\n",
      "4 4 5 1 3\n",
      "0\n",
      "2 4 5\n",
      "2 5 1\n",
      "2 5 2\n",
      "3 5 1 3\n",
      "3 5 2 4\n",
      "0\n"
     ]
    }
   ],
   "source": [
    "n_cities = int(input())\n",
    "n_buses = int(input())\n",
    "\n",
    "## input\n",
    "graph = [[[float('inf'), [i, j]] for j in range(n_cities+1)]  for i in range(n_cities+1)]\n",
    "for _ in range(n_buses):\n",
    "    start, end, dist = map(int, input().split())\n",
    "    shortest_bus = min(dist, graph[start][end][0])\n",
    "    graph[start][end] = [shortest_bus, [start, end]]\n",
    "\n",
    "\n",
    "\n",
    "## floyd-warshall\n",
    "for bypass in range(1, n_cities+1):\n",
    "    for start in range(1, n_cities+1):\n",
    "        for end in range(1, n_cities+1):\n",
    "            if start == end:\n",
    "                graph[start][end] = [0, [start, end]]\n",
    "            else: \n",
    "                if graph[start][end][0] > graph[start][bypass][0] + graph[bypass][end][0]:\n",
    "                    graph[start][end][0] = graph[start][bypass][0] + graph[bypass][end][0]\n",
    "                    graph[start][end][1] = graph[start][bypass][1] + graph[bypass][end][1][1:]\n",
    "\n",
    "## output\n",
    "for i in range(1, n_cities+1):\n",
    "    for j in range(1, n_cities+1):\n",
    "        print(graph[i][j][0] if graph[i][j][0] != float('inf') else 0, end=' ')\n",
    "    print()\n",
    "    \n",
    "for i in range(1, n_cities+1):\n",
    "    for j in range(1, n_cities+1):\n",
    "        if (graph[i][j][0] == 0) or (graph[i][j][0] == float('inf')):   ## 시작도시와 도착도시가 같거나 or 아예 갈 수 없는 경우\n",
    "            print(0)\n",
    "        else:\n",
    "            print(len(graph[i][j][1]), *graph[i][j][1])"
   ]
  }
 ],
 "metadata": {
  "kernelspec": {
   "display_name": "Python 3",
   "language": "python",
   "name": "python3"
  },
  "language_info": {
   "codemirror_mode": {
    "name": "ipython",
    "version": 3
   },
   "file_extension": ".py",
   "mimetype": "text/x-python",
   "name": "python",
   "nbconvert_exporter": "python",
   "pygments_lexer": "ipython3",
   "version": "3.10.11"
  }
 },
 "nbformat": 4,
 "nbformat_minor": 2
}
