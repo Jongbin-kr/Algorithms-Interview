{
 "cells": [
  {
   "cell_type": "markdown",
   "metadata": {},
   "source": [
    "brute force"
   ]
  },
  {
   "cell_type": "code",
   "execution_count": 5,
   "metadata": {},
   "outputs": [
    {
     "name": "stdout",
     "output_type": "stream",
     "text": [
      "198\n"
     ]
    }
   ],
   "source": [
    "N = int(input())\n",
    "\n",
    "gen = 1\n",
    "while gen < N:\n",
    "    if N == gen + sum(map(int, str(gen))):\n",
    "        print(gen)\n",
    "        break\n",
    "    else:\n",
    "        gen += 1\n",
    "else:\n",
    "    print(0)"
   ]
  },
  {
   "cell_type": "markdown",
   "metadata": {},
   "source": [
    "범위를 제한하는 코드도 있는데, 이게 되려 실행시간이 더 걸린다... ([출처](https://www.acmicpc.net/source/30607850))"
   ]
  },
  {
   "cell_type": "code",
   "execution_count": null,
   "metadata": {},
   "outputs": [],
   "source": [
    "def Sum(n):\n",
    "    return n + sum([int(s) for s in str(n)])\n",
    "\n",
    "N = int(input())\n",
    "for n in range(max(10 ** (len(str(N)) - 1) - len(str(N)) * 9, 0), N):\n",
    "    if Sum(n) == N:\n",
    "        print(n)\n",
    "        break\n",
    "else:\n",
    "    print(0)"
   ]
  }
 ],
 "metadata": {
  "kernelspec": {
   "display_name": "Python 3",
   "language": "python",
   "name": "python3"
  },
  "language_info": {
   "codemirror_mode": {
    "name": "ipython",
    "version": 3
   },
   "file_extension": ".py",
   "mimetype": "text/x-python",
   "name": "python",
   "nbconvert_exporter": "python",
   "pygments_lexer": "ipython3",
   "version": "3.10.11"
  }
 },
 "nbformat": 4,
 "nbformat_minor": 2
}
