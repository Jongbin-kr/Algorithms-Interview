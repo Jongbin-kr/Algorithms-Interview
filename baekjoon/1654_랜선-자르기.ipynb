{
 "cells": [
  {
   "cell_type": "markdown",
   "metadata": {},
   "source": [
    "원래 코드\n",
    "\n",
    "틀린 이유\n",
    "- 이진 탐색해서 특정 조건이 맞으면 바로 return하는 게 아니라, 답에 맞는 값이 나오더라도 탐색범위가 끝날 때 까지 줄여나갸아 한다!"
   ]
  },
  {
   "cell_type": "code",
   "execution_count": 7,
   "metadata": {},
   "outputs": [
    {
     "name": "stdout",
     "output_type": "stream",
     "text": [
      "1 401 802 : 5\n",
      "1 200 400 : 11\n",
      "400\n"
     ]
    }
   ],
   "source": [
    "K, N = map(int, input().split())\n",
    "items = [int(input()) for _ in range(K)]\n",
    "\n",
    "def bisect_search(items, target_n, min_length, max_length):\n",
    "    while min_length <= max_length:\n",
    "        mid_length = (min_length + max_length) // 2\n",
    "        result_n = sum([(item // mid_length) for item in items if item >= mid_length])\n",
    "        print(min_length, mid_length, max_length, ':', result_n)\n",
    "        if result_n == target_n:\n",
    "            return mid_length\n",
    "        \n",
    "        elif result_n <= target_n:\n",
    "            max_length = mid_length - 1\n",
    "            \n",
    "        else:\n",
    "            min_length = mid_length + 1\n",
    "    \n",
    "        \n",
    "    return 1\n",
    "    \n",
    "\n",
    "print(bisect_search(items, N, 1, max(items)))"
   ]
  },
  {
   "cell_type": "markdown",
   "metadata": {},
   "source": [
    "답안 코드"
   ]
  },
  {
   "cell_type": "code",
   "execution_count": 15,
   "metadata": {},
   "outputs": [
    {
     "name": "stdout",
     "output_type": "stream",
     "text": [
      "1 401 802 5\n",
      "1 200 400 11\n",
      "201 300 400 6\n",
      "201 250 299 8\n",
      "201 225 249 10\n",
      "201 212 224 10\n",
      "201 206 211 10\n",
      "201 203 205 10\n",
      "201 201 202 10\n",
      "200\n"
     ]
    }
   ],
   "source": [
    "\n",
    "\n",
    "k,n = map(int, input().split())\n",
    "lis=[]\n",
    "while k:\n",
    "    k-=1\n",
    "    lis.append(int(input()))\n",
    "\n",
    "le = 1\n",
    "ri = max(lis)\n",
    "\n",
    "while le<=ri:\n",
    "    mid = (le+ri)//2\n",
    "    total=0\n",
    "    for item in lis:\n",
    "        total+=(item//mid)\n",
    "    print(le, mid, ri, total)\n",
    "    \n",
    "    if total<n:\n",
    "        ri=mid-1\n",
    "    else:\n",
    "        le=mid+1\n",
    "        \n",
    "print(ri)"
   ]
  },
  {
   "cell_type": "markdown",
   "metadata": {},
   "source": [
    "답안 코드 최적화"
   ]
  },
  {
   "cell_type": "code",
   "execution_count": 18,
   "metadata": {},
   "outputs": [
    {
     "name": "stdout",
     "output_type": "stream",
     "text": [
      "1 20 40 3\n",
      "1 10 19 6\n",
      "11 15 19 3\n",
      "11 12 14 4\n",
      "11 11 11 4\n",
      "10\n"
     ]
    }
   ],
   "source": [
    "K, N = map(int, input().split())\n",
    "items = [int(input()) for _ in range(K)]\n",
    "\n",
    "\n",
    "def bisect_search(items, target_n, min_len, max_len):\n",
    "    while min_len <= max_len:\n",
    "        mid_len = (min_len + max_len) // 2\n",
    "        result_n = sum([(item // mid_len) for item in items])\n",
    "        \n",
    "        if result_n < target_n:    ## 결과가 목표보다 작으면, max_len을 줄여서 더 작은 탐색범위에서 다시 탐색\n",
    "            max_len = mid_len - 1\n",
    "        \n",
    "        else:                       ## 결과가 목표보다 크거나 같으면, min_len을 늘려서 더 큰 범위에서 다시 탐색\n",
    "            min_len = mid_len + 1   ## !! 결과가 목표와 같은 경우에도 최대값을 계산해야하기에 추가적으로 탐색한다!!\n",
    "        \n",
    "    return max_len\n",
    "\n",
    "    \n",
    "print(bisect_search(items, N, 1, max(items)))"
   ]
  }
 ],
 "metadata": {
  "kernelspec": {
   "display_name": "Python 3",
   "language": "python",
   "name": "python3"
  },
  "language_info": {
   "codemirror_mode": {
    "name": "ipython",
    "version": 3
   },
   "file_extension": ".py",
   "mimetype": "text/x-python",
   "name": "python",
   "nbconvert_exporter": "python",
   "pygments_lexer": "ipython3",
   "version": "3.10.11"
  }
 },
 "nbformat": 4,
 "nbformat_minor": 2
}
