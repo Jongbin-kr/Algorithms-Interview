{
 "cells": [
  {
   "cell_type": "markdown",
   "metadata": {},
   "source": [
    "시간이 2초에, N, M 범위가 500으로 좀 작은 편인데.\n",
    "\n",
    "\n",
    "\n",
    "ㅁ ㅁ ㅁ에 ㅁ 하나를 붙여서 돌려서 (7가지)\n",
    "\n",
    "ㅁ             ㅁ             ㅁ\n",
    "ㅁ ㅁ ㅁ    ㅁ ㅁ ㅁ     ㅁ ㅁ ㅁ    ㅁ ㅁ ㅁ ㅁ     ㅁ ㅁ ㅁ     ㅁ ㅁ ㅁ      ㅁ ㅁ ㅁ\n",
    "                                                        ㅁ        ㅁ         ㅁ\n",
    "\n",
    "\n",
    "ㅁ ㅁ에 ㅁ ㅁ를 붙여서 (3가지)\n",
    "\n",
    "   ㅁ ㅁ    ㅁ ㅁ    ㅁ ㅁ\n",
    "ㅁ ㅁ       ㅁ ㅁ       ㅁ ㅁ\n",
    "\n",
    "이후 위아래로도 해야하니까 * 2"
   ]
  },
  {
   "cell_type": "code",
   "execution_count": 4,
   "metadata": {},
   "outputs": [
    {
     "data": {
      "text/plain": [
       "5000000"
      ]
     },
     "execution_count": 4,
     "metadata": {},
     "output_type": "execute_result"
    }
   ],
   "source": [
    "500 * 500 * 20"
   ]
  },
  {
   "cell_type": "code",
   "execution_count": 27,
   "metadata": {},
   "outputs": [
    {
     "name": "stdout",
     "output_type": "stream",
     "text": [
      "3\n"
     ]
    }
   ],
   "source": [
    "# import sys; input = lambda: sys.stdin.readline().rstrip()\n",
    "n, m = map(int, input().split())\n",
    "\n",
    "board = []\n",
    "for _ in range(n):\n",
    "    board.append(list(map(int, input().split())))\n",
    "    \n",
    "\n",
    "result = 0\n",
    "# 가로 세 개 블럭에 하나를 7가지 방향으로 돌리기\n",
    "for y in range(n):\n",
    "    for x in range(m-2):\n",
    "        three_sum = sum(board[y][x:x+3])\n",
    "        \n",
    "        for dy, dx in [(-1, 0), (-1, +1), (-1, +2), (+0, +3), (+1, 0), (+1, +1), (+1, +2)]:\n",
    "            \n",
    "            if (0 <= y+dy < n) and (0 <= x+dx < m):\n",
    "                result = max(result, three_sum + board[y+dy][x+dx])\n",
    "\n",
    "\n",
    "# 세로 세 개 블럭에 하나를 7가지 방향으로 돌리기\n",
    "for y in range(n-2):\n",
    "    for x in range(m):\n",
    "        three_sum = sum([board[y][x], board[y+1][x], board[y+2][x]])\n",
    "        \n",
    "        for dy, dx in [(0, -1), (+1, -1), (+2, -1), (+3, 0), (0, +1), (+1, +1), (+2, +1)]:\n",
    "            \n",
    "            if (0 <= y+dy < n) and (0 <= x+dx < m):\n",
    "                result = max(result, three_sum + board[y+dy][x+dx])\n",
    "\n",
    "\n",
    "# 가로 두 개 블럭, 아래에 블럭 두 개를 3가지 방법으로 돌리기\n",
    "for y in range(n):\n",
    "    for x in range(m-1):\n",
    "        two_sum = sum(board[y][x:x+2])\n",
    "        \n",
    "        for dy, dx in [(+1, -1), (+1, 0), (+1, +1)]:\n",
    "            \n",
    "            if (0 <= y+dy < n) and (0 <= x+dx < m) and (x+dx+1 < m):\n",
    "                result = max(result, two_sum + board[y+dy][x+dx] + board[y+dy][x+dx+1])\n",
    "\n",
    "\n",
    "# 세로 두 개 블럭, 오른쪽 블럭 두 개를 2가지 방법으로 돌리기\n",
    "for y in range(n-1):\n",
    "    for x in range(m):\n",
    "        two_sum = sum([board[y][x], board[y+1][x]])\n",
    "        \n",
    "        for dy, dx in [(-1, +1), (+1, +1)]:\n",
    "            if (0 <= y+dy < n) and (0 <= x+dx < m) and (y+dy+1 < n):\n",
    "                result = max(result, two_sum + board[y+dy][x+dx] + board[y+dy+1][x+dx])\n",
    "\n",
    "print(result)"
   ]
  },
  {
   "cell_type": "markdown",
   "metadata": {},
   "source": [
    "- 얘는 정말 human-force로 구현하는 문제구나...\n",
    "- 인덱스 하는거에서 오류 조심하자."
   ]
  }
 ],
 "metadata": {
  "kernelspec": {
   "display_name": "Python 3",
   "language": "python",
   "name": "python3"
  },
  "language_info": {
   "codemirror_mode": {
    "name": "ipython",
    "version": 3
   },
   "file_extension": ".py",
   "mimetype": "text/x-python",
   "name": "python",
   "nbconvert_exporter": "python",
   "pygments_lexer": "ipython3",
   "version": "3.10.11"
  }
 },
 "nbformat": 4,
 "nbformat_minor": 2
}
