{
 "cells": [
  {
   "cell_type": "markdown",
   "metadata": {},
   "source": [
    "단순 구현? itertools를 위한 훈련이었나?"
   ]
  },
  {
   "cell_type": "code",
   "execution_count": 23,
   "metadata": {},
   "outputs": [
    {
     "name": "stdout",
     "output_type": "stream",
     "text": [
      "acis\n",
      "acit\n",
      "aciw\n",
      "acst\n",
      "acsw\n",
      "actw\n",
      "aist\n",
      "aisw\n",
      "aitw\n",
      "astw\n",
      "cist\n",
      "cisw\n",
      "citw\n",
      "istw\n"
     ]
    }
   ],
   "source": [
    "from itertools import combinations, product, chain\n",
    "\n",
    "n_password, n_chars = map(int, input().split())\n",
    "\n",
    "vowels = []\n",
    "consos = []\n",
    "for char in input().split():\n",
    "    if char in 'aeiou':\n",
    "        vowels.append(char)\n",
    "    else:\n",
    "        consos.append(char)\n",
    "\n",
    "n_vowels = 1\n",
    "result = []\n",
    "while n_password - n_vowels >= 2:\n",
    "    n_consos = n_password - n_vowels\n",
    "    combs_vowels = combinations(vowels, n_vowels)\n",
    "    combs_consos = combinations(consos, n_consos)\n",
    "    combs = product(combs_consos, combs_vowels)\n",
    "    \n",
    "    for comb in combs:\n",
    "        result.append(''.join(sorted(chain(*map(list, comb)))))\n",
    "    \n",
    "    \n",
    "    \n",
    "    n_vowels += 1\n",
    "    \n",
    "print(*sorted(result), sep='\\n')"
   ]
  },
  {
   "cell_type": "markdown",
   "metadata": {},
   "source": [
    "좀 더 간결회된 풀이.\n",
    "\n",
    "이게 가능한 이유는 sorted를 먼저 하고 combinations을 돌리면, 정렬 순서가 유지되기 때문!"
   ]
  },
  {
   "cell_type": "code",
   "execution_count": 26,
   "metadata": {},
   "outputs": [
    {
     "name": "stdout",
     "output_type": "stream",
     "text": [
      "('a', 'c', 'i', 's')\n",
      "2\n",
      "acis\n",
      "('a', 'c', 'i', 't')\n",
      "2\n",
      "acit\n",
      "('a', 'c', 'i', 'w')\n",
      "2\n",
      "aciw\n",
      "('a', 'c', 's', 't')\n",
      "1\n",
      "acst\n",
      "('a', 'c', 's', 'w')\n",
      "1\n",
      "acsw\n",
      "('a', 'c', 't', 'w')\n",
      "1\n",
      "actw\n",
      "('a', 'i', 's', 't')\n",
      "2\n",
      "aist\n",
      "('a', 'i', 's', 'w')\n",
      "2\n",
      "aisw\n",
      "('a', 'i', 't', 'w')\n",
      "2\n",
      "aitw\n",
      "('a', 's', 't', 'w')\n",
      "1\n",
      "astw\n",
      "('c', 'i', 's', 't')\n",
      "1\n",
      "cist\n",
      "('c', 'i', 's', 'w')\n",
      "1\n",
      "cisw\n",
      "('c', 'i', 't', 'w')\n",
      "1\n",
      "citw\n",
      "('c', 's', 't', 'w')\n",
      "0\n",
      "('i', 's', 't', 'w')\n",
      "1\n",
      "istw\n"
     ]
    }
   ],
   "source": [
    "import itertools\n",
    "L, C = [int(_) for _ in input().split(' ')]\n",
    "W = sorted(input().split(' '))\n",
    "for combination in itertools.combinations(W, L):\n",
    "    n_vowels = sum((vowles in \"aeiou\") for vowles in combination)\n",
    "    if n_vowels < 1 or n_vowels > L-2: continue\n",
    "    print(\"\".join(combination))"
   ]
  }
 ],
 "metadata": {
  "kernelspec": {
   "display_name": "Python 3",
   "language": "python",
   "name": "python3"
  },
  "language_info": {
   "codemirror_mode": {
    "name": "ipython",
    "version": 3
   },
   "file_extension": ".py",
   "mimetype": "text/x-python",
   "name": "python",
   "nbconvert_exporter": "python",
   "pygments_lexer": "ipython3",
   "version": "3.10.11"
  }
 },
 "nbformat": 4,
 "nbformat_minor": 2
}
