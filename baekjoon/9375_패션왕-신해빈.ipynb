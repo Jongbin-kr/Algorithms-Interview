{
 "cells": [
  {
   "cell_type": "markdown",
   "metadata": {},
   "source": [
    "경우의 수를 세는 문제인데...\n",
    "계속 시간초과가 나네...\n",
    "\n",
    "100 * 30 * (30C1 + 30C2 + 30C3 .... 30C3)"
   ]
  },
  {
   "cell_type": "code",
   "execution_count": null,
   "metadata": {},
   "outputs": [],
   "source": [
    "from collections import defaultdict\n",
    "from itertools import combinations\n",
    "from math import prod\n",
    "import sys; input = lambda: sys.stdin.readline().rstrip()\n",
    "\n",
    "for _ in range(T_testcases := int(input())):\n",
    "    ## initialize dict\n",
    "    d = defaultdict(lambda: 0)\n",
    "    result = 0\n",
    "    for _ in range(N_items := int(input())):\n",
    "        item, kind = input().split()\n",
    "        d[kind] += 1\n",
    "    \n",
    "    for r in range(1, N_items+1):\n",
    "        for combination in combinations(d.keys(), r):\n",
    "            result += prod([d[key] for key in combination])\n",
    "    \n",
    "    print(result) "
   ]
  },
  {
   "cell_type": "markdown",
   "metadata": {},
   "source": [
    "답안을 보니, 굳이 combinations를 안하고 풀 수 있군..."
   ]
  },
  {
   "cell_type": "code",
   "execution_count": 1,
   "metadata": {},
   "outputs": [
    {
     "name": "stdout",
     "output_type": "stream",
     "text": [
      "5\n",
      "3\n"
     ]
    }
   ],
   "source": [
    "from collections import defaultdict\n",
    "# import sys; input = lambda: sys.stdin.readline().rstrip()\n",
    "\n",
    "\n",
    "for _ in range(T_testcases := int(input())):\n",
    "    ## initialize dict\n",
    "    d = defaultdict(lambda: 0)\n",
    "    result = 1\n",
    "    for _ in range(N_items := int(input())):\n",
    "        item, kind = input().split()\n",
    "        d[kind] += 1\n",
    "    \n",
    "    for kind in d.keys():\n",
    "        result *= (d[kind] + 1)\n",
    "    \n",
    "    print(result-1) "
   ]
  }
 ],
 "metadata": {
  "kernelspec": {
   "display_name": "Python 3",
   "language": "python",
   "name": "python3"
  },
  "language_info": {
   "codemirror_mode": {
    "name": "ipython",
    "version": 3
   },
   "file_extension": ".py",
   "mimetype": "text/x-python",
   "name": "python",
   "nbconvert_exporter": "python",
   "pygments_lexer": "ipython3",
   "version": "3.10.11"
  }
 },
 "nbformat": 4,
 "nbformat_minor": 2
}
