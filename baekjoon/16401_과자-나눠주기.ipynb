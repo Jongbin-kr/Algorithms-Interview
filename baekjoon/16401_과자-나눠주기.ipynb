{
 "cells": [
  {
   "cell_type": "markdown",
   "metadata": {},
   "source": [
    "이진탐색으로 1~`max(snacks)`까지 탐색하면서, 해당 숫자가 들어가는지 확인?\n",
    "\n",
    "아씨 왜 틀렸나 했는데, `print`를 안썼네...ㅋㅋㅋㅋ"
   ]
  },
  {
   "cell_type": "code",
   "execution_count": 39,
   "metadata": {},
   "outputs": [
    {
     "name": "stdout",
     "output_type": "stream",
     "text": [
      "6 5\n",
      "[1, 3, 5, 7, 8]\n"
     ]
    },
    {
     "data": {
      "text/plain": [
       "3"
      ]
     },
     "execution_count": 39,
     "metadata": {},
     "output_type": "execute_result"
    }
   ],
   "source": [
    "m_jokas, n_snacks = map(int, input().split())\n",
    "snacks = sorted(map(int, input().split()))\n",
    "# print(m_jokas, n_snacks)\n",
    "# print(snacks)\n",
    "\n",
    "def is_distributable(mid: int) -> bool:\n",
    "    n_distributed = 0\n",
    "    for snack in snacks[::-1]:\n",
    "        if snack < mid:\n",
    "            break\n",
    "        \n",
    "        n_distributed += snack // mid\n",
    "    \n",
    "        if n_distributed >= m_jokas:\n",
    "            return True\n",
    "\n",
    "    return False\n",
    "        \n",
    "        \n",
    "\n",
    "def bisect_search(arr):\n",
    "    left = 1\n",
    "    right = arr[-1]\n",
    "    max_height = 0\n",
    "    \n",
    "    while left <= right:\n",
    "        mid = (left + right) // 2\n",
    "        if is_distributable(mid):\n",
    "            max_height = max(mid, max_height)\n",
    "            left = mid + 1\n",
    "        \n",
    "        else:\n",
    "            right = mid - 1\n",
    "    \n",
    "    return max_height\n",
    "\n",
    "print(bisect_search(snacks))"
   ]
  },
  {
   "cell_type": "code",
   "execution_count": 37,
   "metadata": {},
   "outputs": [
    {
     "name": "stdout",
     "output_type": "stream",
     "text": [
      "4\n"
     ]
    }
   ],
   "source": [
    "n, m = map(int, input().split()) #조카의 수, 과자 개수\n",
    "\n",
    "array = list(map(int, input().split())) # 과자들의 길이를 담은 배열\n",
    "\n",
    "array.sort()\n",
    "\n",
    "left = 1 #과자의 최소 길이=1 (조건에 명시)\n",
    "right = max(array) #제일 긴 과자의 길이 = 조카한테 나눠줄 수 있는 최대 과자길이\n",
    "\n",
    "result = 0 \n",
    "while left <= right:\n",
    "  mid = (left+right)//2\n",
    "\n",
    "  cnt = 0 #과자 개수\n",
    "  \n",
    "  for i in array:\n",
    "    cnt += (i//mid) #mid길이의 과자를 몇 개까지 나눠줄 수 있는지\n",
    "\n",
    "  if cnt >= n:\n",
    "    left = mid+1 #시작값 증가\n",
    "    result = mid #정답 갱신\n",
    "  else:\n",
    "    right = mid-1 #끝값 감소\n",
    "\n",
    "print(result)"
   ]
  }
 ],
 "metadata": {
  "kernelspec": {
   "display_name": "Python 3",
   "language": "python",
   "name": "python3"
  },
  "language_info": {
   "codemirror_mode": {
    "name": "ipython",
    "version": 3
   },
   "file_extension": ".py",
   "mimetype": "text/x-python",
   "name": "python",
   "nbconvert_exporter": "python",
   "pygments_lexer": "ipython3",
   "version": "3.10.11"
  }
 },
 "nbformat": 4,
 "nbformat_minor": 2
}
