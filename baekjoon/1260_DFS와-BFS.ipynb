{
 "cells": [
  {
   "cell_type": "markdown",
   "metadata": {},
   "source": [
    "1. 입력이 작은 순서대로 된다는 점에서, 간선 리스트를 정렬할 필요가 있다.\n",
    "  - BFS 구현 시, 값이 작은 순으로 출력하기 위해서는 오름차순으로 정렬할 필요가 있다.\n",
    "  - 그런데, 오름차순으로 리스트를 정렬하면 stack으로 DFS를 구현할 경우, 큰 숫자부터 출력된다.\n",
    "    - 재귀로 풀 경우, 오름차순으로 정렬해도 앞에서부터 반복을 돌기 때문에 작은 숫자부터 출력된다. **그러나 오버헤드 때문에 굳이 재귀로 구현할 이유가 없다.**\n",
    "  - ~~**따라서 DFS를 구현하되, stack과 pop 대신 deque와 popleft를 써서 구현하겠다.**~~\n",
    "    - deque에 extendleft로 삽입할 떄, 역순으로 삽입하는 문제 발생.\n",
    "    - 그냥 스택으로 구현하되, to_visit에 넣을 때 내림차순으로 정렬, BFS는 오름차순으로 정렬"
   ]
  },
  {
   "cell_type": "code",
   "execution_count": 4,
   "metadata": {},
   "outputs": [
    {
     "name": "stdout",
     "output_type": "stream",
     "text": [
      "1 2 4 3\n",
      "1 2 3 4\n"
     ]
    }
   ],
   "source": [
    "## 입력 처리\n",
    "N, M, V = map(int, input().split())\n",
    "\n",
    "graph = [[] for _ in range(N+1)]    ## +1 to adjust index. The first list should not be used.\n",
    "\n",
    "for _ in range(M):\n",
    "    node, edge = map(int, input().split())\n",
    "    graph[node].append(edge)\n",
    "    graph[edge].append(node)\n",
    "    \n",
    "\n",
    "## dfs, bfs 구현\n",
    "def dfs(graph, V):\n",
    "    to_visit, visited = [], []\n",
    "    to_visit.append(V)\n",
    "    \n",
    "    while to_visit:\n",
    "        node = to_visit.pop()\n",
    "        if str(node) not in visited:\n",
    "            visited.append(str(node))\n",
    "            ## node에 연결된 노드들을 모두 to_visit에 넣되, 내림차순으로 넣어서 pop시 가장 작은 숫자가 나오도록\n",
    "            to_visit.extend(sorted(graph[node], reverse=True))  \n",
    "    return visited\n",
    "\n",
    "\n",
    "\n",
    "from collections import deque\n",
    "\n",
    "def bfs(graph, V):\n",
    "    to_visit, visited = deque(), []\n",
    "    to_visit.append(V)\n",
    "    \n",
    "    while to_visit:\n",
    "        node = to_visit.popleft()\n",
    "        if str(node) not in visited:\n",
    "            visited.append(str(node))\n",
    "            ## node에 연결된 노드들을 모두 to_visit에 넣되, 오름차순으로 넣어서 popleft시 가장 작은 숫자가 나오도록\n",
    "            to_visit.extend(sorted(graph[node]))\n",
    "    return visited\n",
    "\n",
    "\n",
    "## 답 출력\n",
    "print(*(dfs(graph, V)))\n",
    "print(*(bfs(graph, V)))"
   ]
  },
  {
   "cell_type": "markdown",
   "metadata": {},
   "source": [
    "- 마지막 출력을 어떻게 할지 고민했는데, `\" \".join(dfs(~))`을 쓰거나, 더 간단하게는 asterisk(`*dfs(~)`)를 쓰면 된다"
   ]
  }
 ],
 "metadata": {
  "kernelspec": {
   "display_name": "Python 3",
   "language": "python",
   "name": "python3"
  },
  "language_info": {
   "codemirror_mode": {
    "name": "ipython",
    "version": 3
   },
   "file_extension": ".py",
   "mimetype": "text/x-python",
   "name": "python",
   "nbconvert_exporter": "python",
   "pygments_lexer": "ipython3",
   "version": "3.10.11"
  }
 },
 "nbformat": 4,
 "nbformat_minor": 2
}
