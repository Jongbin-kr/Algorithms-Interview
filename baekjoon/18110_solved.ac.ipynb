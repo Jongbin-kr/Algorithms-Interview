{
 "cells": [
  {
   "cell_type": "code",
   "execution_count": 6,
   "metadata": {},
   "outputs": [
    {
     "name": "stdout",
     "output_type": "stream",
     "text": [
      "1 4\n",
      "5 2\n",
      "5 3\n",
      "10\n"
     ]
    }
   ],
   "source": [
    "import math\n",
    "n_nums = int(input())\n",
    "counts = [0] * 31\n",
    "for _ in range(n_nums):\n",
    "    num = int(input())\n",
    "    counts[num] += 1\n",
    "\n",
    "cut_out_start = math.ceil(n_nums * 0.15)\n",
    "cut_out_end = n_nums - math.ceil(n_nums * 0.15)\n",
    "print(cut_out_start, cut_out_end)\n",
    "cnt = 1\n",
    "\n",
    "result = 0\n",
    "for i in range(1, 31):\n",
    "    for j in range(counts[i]):\n",
    "        if cnt <= cut_out_start or cnt >= cut_out_end:\n",
    "            pass\n",
    "        else:\n",
    "            print(i, cnt)\n",
    "            result += i\n",
    "        cnt += 1\n",
    "print(result)  "
   ]
  }
 ],
 "metadata": {
  "kernelspec": {
   "display_name": "Python 3",
   "language": "python",
   "name": "python3"
  },
  "language_info": {
   "codemirror_mode": {
    "name": "ipython",
    "version": 3
   },
   "file_extension": ".py",
   "mimetype": "text/x-python",
   "name": "python",
   "nbconvert_exporter": "python",
   "pygments_lexer": "ipython3",
   "version": "undefined.undefined.undefined"
  }
 },
 "nbformat": 4,
 "nbformat_minor": 2
}
