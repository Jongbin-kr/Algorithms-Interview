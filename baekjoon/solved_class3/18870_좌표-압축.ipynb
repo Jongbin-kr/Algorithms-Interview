{
 "cells": [
  {
   "cell_type": "markdown",
   "metadata": {},
   "source": [
    "처음 접근방식.\n",
    "정렬하고, 그냥 인덱스값으로 하면 안되나?\n",
    "\n",
    "- 문제점: n이 최대 1,000,000. 정렬에 $O(n \\log n)$, for문에 $O(n)$, .index에 $O(n)$이므로, 총 $O(n^2 + n\\log n)$"
   ]
  },
  {
   "cell_type": "code",
   "execution_count": 11,
   "metadata": {},
   "outputs": [
    {
     "data": {
      "text/plain": [
       "True"
      ]
     },
     "execution_count": 11,
     "metadata": {},
     "output_type": "execute_result"
    }
   ],
   "source": [
    "import math\n",
    "n = 1_000_000\n",
    "n**2 + n * math.log(n, 2) >= 40_000_000"
   ]
  },
  {
   "cell_type": "code",
   "execution_count": null,
   "metadata": {},
   "outputs": [],
   "source": [
    "# import sys; input = lambda: sys.stdin.readline().rstrip()\n",
    "\n",
    "n_coords = int(input())\n",
    "coords = list(map(int, input().split()))\n",
    "sorted_coords = sorted(set(coords))\n",
    "\n",
    "result = []\n",
    "for coord in coords:\n",
    "    result.append(sorted_coords.index(coord))\n",
    "    \n",
    "print(*result, sep=' ')"
   ]
  },
  {
   "cell_type": "markdown",
   "metadata": {},
   "source": [
    "나이브하게 계산하면, 정렬, 반복, dictionary construction, 반복이기 때문에 다음과 같은 시간복잡도!\n",
    "\n",
    "$O(n) + O(n) + O(n) + O(n) = O(4n)$"
   ]
  },
  {
   "cell_type": "code",
   "execution_count": 6,
   "metadata": {},
   "outputs": [
    {
     "name": "stdout",
     "output_type": "stream",
     "text": [
      "1 0 1 0 1 0\n"
     ]
    }
   ],
   "source": [
    "# import sys; input = lambda: sys.stdin.readline().rstrip()\n",
    "\n",
    "n_coords = int(input())\n",
    "coords = list(map(int, input().split()))\n",
    "sorted_dict = dict()\n",
    "for i, coord in enumerate(sorted(set(coords))):\n",
    "    sorted_dict[coord] = i\n",
    "\n",
    "\n",
    "result = []\n",
    "for coord in coords:\n",
    "    result.append(sorted_dict[coord])\n",
    "    \n",
    "print(*result, sep=' ')"
   ]
  }
 ],
 "metadata": {
  "kernelspec": {
   "display_name": "Python 3",
   "language": "python",
   "name": "python3"
  },
  "language_info": {
   "codemirror_mode": {
    "name": "ipython",
    "version": 3
   },
   "file_extension": ".py",
   "mimetype": "text/x-python",
   "name": "python",
   "nbconvert_exporter": "python",
   "pygments_lexer": "ipython3",
   "version": "3.10.11"
  }
 },
 "nbformat": 4,
 "nbformat_minor": 2
}
