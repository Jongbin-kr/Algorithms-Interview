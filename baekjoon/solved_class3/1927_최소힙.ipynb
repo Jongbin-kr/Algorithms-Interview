{
 "cells": [
  {
   "cell_type": "markdown",
   "metadata": {},
   "source": [
    "그냥 힙 자료구조 쓸 줄 아냐...\n",
    "힙 동작을 처음부터 쓰면, 굳이 heapify는 쓸 이유가 없군?"
   ]
  },
  {
   "cell_type": "code",
   "execution_count": 11,
   "metadata": {},
   "outputs": [
    {
     "name": "stdout",
     "output_type": "stream",
     "text": [
      "0\n",
      "1\n",
      "2\n",
      "12345678\n",
      "0\n"
     ]
    }
   ],
   "source": [
    "from heapq import heappush, heappop, heapify\n",
    "\n",
    "N = int(input())\n",
    "\n",
    "heap = []\n",
    "for _ in range(N):\n",
    "    num = int(input())\n",
    "    if num == 0:\n",
    "        if len(heap) == 0:\n",
    "            print('0')\n",
    "        else:\n",
    "            print(heappop(heap))\n",
    "    \n",
    "    else:\n",
    "        heappush(heap, num)"
   ]
  }
 ],
 "metadata": {
  "kernelspec": {
   "display_name": "Python 3",
   "language": "python",
   "name": "python3"
  },
  "language_info": {
   "codemirror_mode": {
    "name": "ipython",
    "version": 3
   },
   "file_extension": ".py",
   "mimetype": "text/x-python",
   "name": "python",
   "nbconvert_exporter": "python",
   "pygments_lexer": "ipython3",
   "version": "3.10.11"
  }
 },
 "nbformat": 4,
 "nbformat_minor": 2
}
