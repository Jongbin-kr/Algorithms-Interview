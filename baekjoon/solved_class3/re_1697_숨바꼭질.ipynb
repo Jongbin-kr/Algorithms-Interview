{
 "cells": [
  {
   "cell_type": "markdown",
   "metadata": {},
   "source": [
    "맨 처음 생각한 풀이. 굳이 dp를 써야하나?\n",
    "\n",
    "\n",
    "2 3 4 5 6 7 8 9 10 11 12 13 14 15 16 17\n",
    "N   1       2 3 4  5   6  7  8  K  3\n",
    "\n",
    "198 199 200 201 202 203 204 205 ... 396 397 398 7\n",
    "\n",
    "\n",
    "5 6 7 8 9 10 11 12 13 14 15 16 17 18 19 20\n",
    "0 1 2 3 4 5  6  7  8  9  10 11 12\n",
    "0         1  2  3  4  5  6  7  8\n",
    "0         1                    5  4  3  2"
   ]
  },
  {
   "cell_type": "code",
   "execution_count": 17,
   "metadata": {},
   "outputs": [
    {
     "ename": "ValueError",
     "evalue": "not enough values to unpack (expected 2, got 0)",
     "output_type": "error",
     "traceback": [
      "\u001b[1;31m---------------------------------------------------------------------------\u001b[0m",
      "\u001b[1;31mValueError\u001b[0m                                Traceback (most recent call last)",
      "Cell \u001b[1;32mIn[17], line 1\u001b[0m\n\u001b[1;32m----> 1\u001b[0m N, K \u001b[38;5;241m=\u001b[39m \u001b[38;5;28mmap\u001b[39m(\u001b[38;5;28mint\u001b[39m, \u001b[38;5;28minput\u001b[39m()\u001b[38;5;241m.\u001b[39msplit())\n\u001b[0;32m      2\u001b[0m less_N \u001b[38;5;241m=\u001b[39m more_N \u001b[38;5;241m=\u001b[39m N\n\u001b[0;32m      4\u001b[0m t_just_walk \u001b[38;5;241m=\u001b[39m \u001b[38;5;28mabs\u001b[39m(N\u001b[38;5;241m-\u001b[39mK)\n",
      "\u001b[1;31mValueError\u001b[0m: not enough values to unpack (expected 2, got 0)"
     ]
    }
   ],
   "source": [
    "N, K = map(int, input().split())\n",
    "less_N = more_N = N\n",
    "\n",
    "t_just_walk = abs(N-K)\n",
    "t_teleport_less_and_walk = 0\n",
    "t_teleport_more_and_go_back = 0\n",
    "while (2 * less_N) < K:\n",
    "    less_N = 2 * less_N\n",
    "    more_N = 2 * more_N\n",
    "    t_teleport_less_and_walk += 1\n",
    "t_teleport_more_and_go_back = t_teleport_less_and_walk + 1\n",
    "\n",
    "t_teleport_less_and_walk += abs(less_N-K)\n",
    "\n",
    "more_N = 2 * more_N\n",
    "t_teleport_more_and_go_back += abs(more_N-K)\n",
    "\n",
    "print(min(\n",
    "    t_just_walk,\n",
    "    t_teleport_less_and_walk,\n",
    "    t_teleport_more_and_go_back\n",
    "))"
   ]
  },
  {
   "cell_type": "markdown",
   "metadata": {},
   "source": [
    "예제 힌트를 보고, dp를 써야겠다 생각했다.\n",
    "\n",
    "3 4 5 6\n",
    "1 0 1 2\n",
    "1 0 1 2\n",
    "\n",
    "200 201     400\n",
    "1   0        2\n",
    "이런 경우에는 탐색범위를 어쩌지...?\n",
    "\n",
    "50,000 50,001  ... 100,000 100,001 100,002\n",
    "1       0           2          2     1\n",
    "\n",
    "3 4 5 6 7 8 9 10 11 12 13 14 15 16 17\n",
    "2 1 0 1 2 3 4 5\n",
    "2 1 0 1 2 3 2 1         "
   ]
  },
  {
   "cell_type": "code",
   "execution_count": null,
   "metadata": {},
   "outputs": [
    {
     "name": "stdout",
     "output_type": "stream",
     "text": [
      "{4: 1, 5: 0, 6: 1, 7: 2, 8: 3, 9: 4, 10: 5, 11: 6, 12: 7, 13: 8, 14: 9, 15: 10, 16: 11, 17: 12, 18: 13}\n"
     ]
    },
    {
     "ename": "",
     "evalue": "",
     "output_type": "error",
     "traceback": [
      "\u001b[1;31mThe Kernel crashed while executing code in the current cell or a previous cell. \n",
      "\u001b[1;31mPlease review the code in the cell(s) to identify a possible cause of the failure. \n",
      "\u001b[1;31mClick <a href='https://aka.ms/vscodeJupyterKernelCrash'>here</a> for more info. \n",
      "\u001b[1;31mView Jupyter <a href='command:jupyter.viewOutput'>log</a> for further details."
     ]
    }
   ],
   "source": [
    "N, K = map(int, input().split())\n",
    "\n",
    "place_time = dict()\n",
    "for place in range(N-1, K+2):\n",
    "    place_time[place] = abs(place-N)\n",
    "    \n",
    "print(place_time)"
   ]
  },
  {
   "cell_type": "markdown",
   "metadata": {},
   "source": [
    "revenge. 07/29.\n",
    "\n",
    "아, DP로 풀되 knap-sack problem과 꽤나 유사하구나!\n",
    "\n",
    "0 1 2 3 4 5   6  7  8  9  10   11 12 13 15  (len = 14)\n",
    "4 5 6 7 8 9   10 11 12 13 14   15 16 17 18\n",
    "1 0 1 2 2 *2* 1  2  2  3  3    4  3  4  3\n",
    "\n",
    "\n",
    "500 501 502 503 504 505  ...   1000    1010\n",
    "5   4   3   2   1   0           10      2"
   ]
  },
  {
   "cell_type": "code",
   "execution_count": 1,
   "metadata": {},
   "outputs": [
    {
     "data": {
      "text/plain": [
       "{}"
      ]
     },
     "execution_count": 1,
     "metadata": {},
     "output_type": "execute_result"
    }
   ],
   "source": [
    "# import sys; input = lambda: sys.stdin.readline().rstrip()\n",
    "\n",
    "subin, bro = map(int, input().split())\n",
    "memo = dict()\n",
    "for n in range(subin-1, bro+2):   # 4~18\n",
    "    memo[n] = float('inf')\n",
    "    \n",
    "for n in range(subin-1, bro+2):\n",
    "    if n == subin-1:\n",
    "        memo[n] = 1; continue\n",
    "        \n",
    "    if n == subin:\n",
    "        memo[n] = 0; continue\n",
    "    \n",
    "    min_value = min(\n",
    "        memo[n],\n",
    "        memo[n-1] + 1,   # 걷는 경우\n",
    "        memo[n // 2] + 1 if ((n % 2 == 0) and (n // 2 in memo)) else float('inf'),  # 짝수이고, n//2 즉 순간이동 전 위치가 범위 안에 있을 때\n",
    "    )\n",
    "    memo[n] = min_value\n",
    "    \n",
    "    ## 순간이동한 경우, 추가 처리\n",
    "    if ((n % 2 == 0) and (n // 2 in memo)) and (min_value == memo[n // 2] + 1):   # 순간이동한 경우,\n",
    "        memo[n-1] = min(\n",
    "            memo[n // 2] + 1 + 1,   # 순간이동한 뒤 한번 빽도\n",
    "            memo[n-1]               # 그냥 원래값\n",
    "        )\n",
    "\n",
    "\n",
    "memo"
   ]
  },
  {
   "cell_type": "markdown",
   "metadata": {},
   "source": [
    "0730 정답코드 보고 푼 dp ([참고](https://velog.io/@rltjr1092/%EB%B0%B1%EC%A4%80-1697-%EC%88%A8%EB%B0%94%EA%BC%AD%EC%A7%88-%ED%8C%8C%EC%9D%B4%EC%8D%AC))\n",
    "\n",
    "- `defaultdict(lambda: float('inf'))` 요 코드 굉장히 맘에 든다.\n",
    "- 예외상황 고려해야.."
   ]
  },
  {
   "cell_type": "code",
   "execution_count": null,
   "metadata": {},
   "outputs": [],
   "source": [
    "from collections import defaultdict\n",
    "subin, bro = map(int, input().split())\n",
    "\n",
    "memo = defaultdict(lambda: float('inf'))    ## 이런 식으로 값을 지정하는 defaultdict도 가능하구나\n",
    "memo[subin] = 0\n",
    "\n",
    "for i in range(subin):\n",
    "    memo[i] = subin - i\n",
    "\n",
    "for i in range(subin+1, bro+1):\n",
    "    if i % 2 == 0:  ## 짝수인 경우,\n",
    "        memo[i] = min(memo[i - 1] + 1, memo[i // 2] + 1)\n",
    "        \n",
    "    else:   ## 홀수인 경우\n",
    "        memo[i] = min(memo[i - 1] + 1, memo[(i+1) // 2] + 2)\n",
    "\n",
    "print(memo[bro])"
   ]
  },
  {
   "cell_type": "markdown",
   "metadata": {},
   "source": [
    "BFS로도 풀 수 있다고라???"
   ]
  },
  {
   "cell_type": "markdown",
   "metadata": {},
   "source": [
    "내 원래 코드.\n",
    "vistied를 리스트로 관리하고, 매번 append하는 식으로 했더니 시간초과.\n",
    "아마 append를 많이 하게 되면, 리스트의 크기를 늘리는 과정에서 문제가 발생하지 않나? 생각해봄"
   ]
  },
  {
   "cell_type": "code",
   "execution_count": 6,
   "metadata": {},
   "outputs": [
    {
     "name": "stdout",
     "output_type": "stream",
     "text": [
      "4\n"
     ]
    }
   ],
   "source": [
    "# import sys; input = lambda: sys.stdin.readline().rstrip()\n",
    "from collections import deque\n",
    "\n",
    "def bfs(start):\n",
    "    to_visit = deque()\n",
    "    visited = []\n",
    "    \n",
    "    to_visit.append((start, 0))\n",
    "    while to_visit:\n",
    "        pos, time = to_visit.popleft()\n",
    "        if pos == bro:\n",
    "            return time\n",
    "        \n",
    "        for next_node in [pos + 1, pos - 1, pos * 2]:\n",
    "            if (0 <= next_node <= bro+1) and (next_node not in visited):\n",
    "                visited.append(next_node)\n",
    "                to_visit.append((next_node, time + 1))\n",
    "        \n",
    "    \n",
    "    \n",
    "    return None\n",
    "\n",
    "\n",
    "\n",
    "subin, bro = map(int, input().split())\n",
    "\n",
    "if subin >= bro:    # (예외처리) 만약 수빈이가 더 앞에 있는 경우, 그냥 매 번 한 칸씩 뒤로 가는 방법밖에 없다.\n",
    "    print(subin - bro)\n",
    "else:\n",
    "    print(bfs(subin))"
   ]
  },
  {
   "cell_type": "markdown",
   "metadata": {},
   "source": [
    "시간초과 안걸리는 코드."
   ]
  },
  {
   "cell_type": "code",
   "execution_count": null,
   "metadata": {},
   "outputs": [],
   "source": [
    "# import sys; input = lambda: sys.stdin.readline().rstrip()\n",
    "from collections import deque\n",
    "\n",
    "def bfs(start):\n",
    "    to_visit = deque()\n",
    "    visited = [False] * (bro * 2 + 1)\n",
    "    \n",
    "    to_visit.append((start, 0))\n",
    "    while to_visit:\n",
    "        pos, time = to_visit.popleft()\n",
    "        if pos == bro:\n",
    "            return time\n",
    "        \n",
    "        for next_node in [pos + 1, pos - 1, pos * 2]:\n",
    "            if (0 <= next_node <= bro+1) and (not visited[next_node]):\n",
    "                visited[next_node] = True\n",
    "                to_visit.append((next_node, time + 1))\n",
    "        \n",
    "    \n",
    "    \n",
    "    return None\n",
    "\n",
    "\n",
    "\n",
    "subin, bro = map(int, input().split())\n",
    "\n",
    "if subin >= bro:    # (예외처리) 만약 수빈이가 더 앞에 있는 경우, 그냥 매 번 한 칸씩 뒤로 가는 방법밖에 없다.\n",
    "    print(subin - bro)\n",
    "else:\n",
    "    print(bfs(subin))"
   ]
  }
 ],
 "metadata": {
  "kernelspec": {
   "display_name": "Python 3",
   "language": "python",
   "name": "python3"
  },
  "language_info": {
   "codemirror_mode": {
    "name": "ipython",
    "version": 3
   },
   "file_extension": ".py",
   "mimetype": "text/x-python",
   "name": "python",
   "nbconvert_exporter": "python",
   "pygments_lexer": "ipython3",
   "version": "3.10.11"
  }
 },
 "nbformat": 4,
 "nbformat_minor": 2
}
