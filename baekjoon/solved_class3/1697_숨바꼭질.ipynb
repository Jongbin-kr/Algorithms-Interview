{
 "cells": [
  {
   "cell_type": "markdown",
   "metadata": {},
   "source": [
    "맨 처음 생각한 풀이. 굳이 dp를 써야하나?\n",
    "\n",
    "\n",
    "2 3 4 5 6 7 8 9 10 11 12 13 14 15 16 17\n",
    "N   1       2 3 4  5   6  7  8  K  3\n",
    "\n",
    "198 199 200 201 202 203 204 205 ... 396 397 398 7\n",
    "\n",
    "\n",
    "5 6 7 8 9 10 11 12 13 14 15 16 17 18 19 20\n",
    "0 1 2 3 4 5  6  7  8  9  10 11 12\n",
    "0         1  2  3  4  5  6  7  8\n",
    "0         1                    5  4  3  2"
   ]
  },
  {
   "cell_type": "code",
   "execution_count": 3,
   "metadata": {},
   "outputs": [
    {
     "name": "stdout",
     "output_type": "stream",
     "text": [
      "5\n"
     ]
    }
   ],
   "source": [
    "N, K = map(int, input().split())\n",
    "less_N = more_N = N\n",
    "\n",
    "t_just_walk = abs(N-K)\n",
    "t_teleport_less_and_walk = 0\n",
    "t_teleport_more_and_go_back = 0\n",
    "while (2 * less_N) < K:\n",
    "    less_N = 2 * less_N\n",
    "    more_N = 2 * more_N\n",
    "    t_teleport_less_and_walk += 1\n",
    "t_teleport_more_and_go_back = t_teleport_less_and_walk + 1\n",
    "\n",
    "t_teleport_less_and_walk += abs(less_N-K)\n",
    "\n",
    "more_N = 2 * more_N\n",
    "t_teleport_more_and_go_back += abs(more_N-K)\n",
    "\n",
    "print(min(\n",
    "    t_just_walk,\n",
    "    t_teleport_less_and_walk,\n",
    "    t_teleport_more_and_go_back\n",
    "))"
   ]
  },
  {
   "cell_type": "markdown",
   "metadata": {},
   "source": [
    "예제 힌트를 보고, dp를 써야겠다 생각했다.\n",
    "\n",
    "3 4 5 6\n",
    "1 0 1 2\n",
    "1 0 1 2\n",
    "\n",
    "200 201     400\n",
    "1   0        2\n",
    "이런 경우에는 탐색범위를 어쩌지...?\n",
    "\n",
    "50,000 50,001  ... 100,000 100,001 100,002\n",
    "1       0           2          2     1\n",
    "\n",
    "3 4 5 6 7 8 9 10 11 12 13 14 15 16 17\n",
    "2 1 0 1 2 3 4 5\n",
    "2 1 0 1 2 3 2 1         "
   ]
  },
  {
   "cell_type": "code",
   "execution_count": 12,
   "metadata": {},
   "outputs": [
    {
     "name": "stdout",
     "output_type": "stream",
     "text": [
      "{4: 1, 5: 0, 6: 1, 7: 2, 8: 3, 9: 4, 10: 5, 11: 6, 12: 7, 13: 8, 14: 9, 15: 10, 16: 11, 17: 12, 18: 13}\n"
     ]
    },
    {
     "ename": "",
     "evalue": "",
     "output_type": "error",
     "traceback": [
      "\u001b[1;31mThe Kernel crashed while executing code in the current cell or a previous cell. \n",
      "\u001b[1;31mPlease review the code in the cell(s) to identify a possible cause of the failure. \n",
      "\u001b[1;31mClick <a href='https://aka.ms/vscodeJupyterKernelCrash'>here</a> for more info. \n",
      "\u001b[1;31mView Jupyter <a href='command:jupyter.viewOutput'>log</a> for further details."
     ]
    }
   ],
   "source": [
    "N, K = map(int, input().split())\n",
    "\n",
    "place_time = dict()\n",
    "for place in range(N-1, K+2):\n",
    "    place_time[place] = abs(place-N)\n",
    "    \n",
    "print(place_time)"
   ]
  }
 ],
 "metadata": {
  "kernelspec": {
   "display_name": "Python 3",
   "language": "python",
   "name": "python3"
  },
  "language_info": {
   "codemirror_mode": {
    "name": "ipython",
    "version": 3
   },
   "file_extension": ".py",
   "mimetype": "text/x-python",
   "name": "python",
   "nbconvert_exporter": "python",
   "pygments_lexer": "ipython3",
   "version": "3.10.11"
  }
 },
 "nbformat": 4,
 "nbformat_minor": 2
}
