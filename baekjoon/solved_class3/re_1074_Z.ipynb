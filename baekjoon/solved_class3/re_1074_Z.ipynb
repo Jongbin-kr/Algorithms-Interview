{
 "cells": [
  {
   "cell_type": "markdown",
   "metadata": {},
   "source": [
    "#### 어떻게든 식으로 풀어보자..."
   ]
  },
  {
   "cell_type": "markdown",
   "metadata": {},
   "source": [
    "\n",
    "2*2\n",
    "4*4\n",
    "8*8\n",
    "16*16\n",
    "\n",
    "\n",
    "0,0 0,1 0,2 0,3\n",
    "1,0 1,1 1,2 1,3\n",
    "2,0 2,1 2,2 2,3\n",
    "\n",
    "0,0 0,1 0,0 0,1\n",
    "1,0 1,1 1,0 1,1\n",
    "0,0 0,1 0,0 0,1\n",
    "\n",
    "1,1 1,0 1,1 1,0\n",
    "0,1 0,0 0,1 0,0\n",
    "1,1 1,0\n",
    "\n",
    "\n",
    "25\n",
    "r=2, c=5\n",
    "2+1 5+1\n",
    "1   3\n",
    "1   0\n",
    "\n",
    "\n",
    "n=2, target=4\n",
    "r=0, c=2\n",
    "0  1\n",
    "0  0\n",
    "\n",
    "0  2+1\n",
    "0    1\n",
    "1    1\n",
    "\n",
    "n=2, target=12\n",
    "r=2 c=2\n",
    "1 1\n",
    "0 0\n",
    "2+1 2+1\n",
    "1   1\n",
    "1   1\n",
    "\n",
    "\n",
    "n=2, target=7\n",
    "r=1 c=3\n",
    "0 1\n",
    "1 1\n",
    "\n",
    "1+1  3+1\n",
    "1    2\n",
    "0    0\n",
    "\n",
    "\n",
    "n=2, target=10\n",
    "r=3 c=0\n",
    "3+1  0+1\n",
    "2    0\n",
    "0    1\n",
    "\n",
    "target=15\n",
    "r=3 c=3\n",
    "1 1\n",
    "1 1\n",
    "3+1 3+1\n",
    "2    2\n",
    "0    0"
   ]
  },
  {
   "cell_type": "markdown",
   "metadata": {},
   "source": [
    "4*(2**(N-1)*(r_quo + c_quo)) + (2*r_rem + c_rem)\n",
    "\n",
    "2 3 1 = 11\n",
    "3 -> 1 1\n",
    "1 -> 0 1\n",
    "4*(2**1*1+0) + (2*1+1) = 8+3 \n",
    "\n",
    "\n",
    "\n",
    "3 7 7 =63\n",
    "7 -> 3 1\n",
    "7 -> 3 1\n",
    "4*(2**2*)\n",
    "\n",
    "\n",
    "4 * (2^(N-1)*r_q + c_q) + (2*r_r + c_r)\n",
    "\n",
    "1 0 0 = 0\n",
    "0 -> 0 0\n",
    "0 -> 0 0\n",
    "4*(2^0 * 0 + 0) + (2*0 + 0)\n",
    "\n",
    "\n",
    "10 511 511 = 262143\n",
    "511 -> 255 1\n",
    "511 -> 255 1\n",
    "4*(2**9*255+255) + (2*1 + 1)"
   ]
  },
  {
   "cell_type": "code",
   "execution_count": 5,
   "metadata": {},
   "outputs": [
    {
     "data": {
      "text/plain": [
       "63"
      ]
     },
     "execution_count": 5,
     "metadata": {},
     "output_type": "execute_result"
    }
   ],
   "source": [
    "4*(2**2*3+3) + (2*1+1)"
   ]
  },
  {
   "cell_type": "code",
   "execution_count": 3,
   "metadata": {},
   "outputs": [
    {
     "data": {
      "text/plain": [
       "523263"
      ]
     },
     "execution_count": 3,
     "metadata": {},
     "output_type": "execute_result"
    }
   ],
   "source": [
    "4*((2**9)*255+255) + (2*1 + 1)"
   ]
  },
  {
   "cell_type": "markdown",
   "metadata": {},
   "source": [
    "2 3 1\n",
    "3 -> 1 1\n",
    "1 -> 0 1\n",
    "2**1*(1+0) + 2*1+1\n",
    "2*1 + 2"
   ]
  },
  {
   "cell_type": "code",
   "execution_count": 49,
   "metadata": {},
   "outputs": [
    {
     "name": "stdout",
     "output_type": "stream",
     "text": [
      "23\n"
     ]
    }
   ],
   "source": [
    "N, r, c = map(int, input().split())\n",
    "\n",
    "## 몫은 이전에 얼마나 많은 z들이 있었는지를 알려주고,\n",
    "## 나머지는 현재 z에서의 위치를 알려준다.\n",
    "r_quo, r_rem = divmod(r, 2)\n",
    "c_quo, c_rem = divmod(c, 2)\n",
    "\n",
    "print(4*((2**(N-1)*r_quo) + c_quo) + (2*r_rem + c_rem))"
   ]
  },
  {
   "cell_type": "markdown",
   "metadata": {},
   "source": [
    "4 7 7\n",
    "7 -> 3 1\n",
    "7 -> 3 1"
   ]
  },
  {
   "cell_type": "code",
   "execution_count": 45,
   "metadata": {},
   "outputs": [
    {
     "data": {
      "text/plain": [
       "63"
      ]
     },
     "execution_count": 45,
     "metadata": {},
     "output_type": "execute_result"
    }
   ],
   "source": [
    "4*(2**(3-1)*3 + 3) + (2*1 + 1)"
   ]
  },
  {
   "cell_type": "code",
   "execution_count": 41,
   "metadata": {},
   "outputs": [
    {
     "data": {
      "text/plain": [
       "111"
      ]
     },
     "execution_count": 41,
     "metadata": {},
     "output_type": "execute_result"
    }
   ],
   "source": [
    "4*(2**(4-1)*3 + 3) + (2*1 + 1)"
   ]
  },
  {
   "cell_type": "markdown",
   "metadata": {},
   "source": [
    "#### brute force"
   ]
  },
  {
   "cell_type": "code",
   "execution_count": null,
   "metadata": {},
   "outputs": [],
   "source": []
  }
 ],
 "metadata": {
  "kernelspec": {
   "display_name": "Python 3",
   "language": "python",
   "name": "python3"
  },
  "language_info": {
   "codemirror_mode": {
    "name": "ipython",
    "version": 3
   },
   "file_extension": ".py",
   "mimetype": "text/x-python",
   "name": "python",
   "nbconvert_exporter": "python",
   "pygments_lexer": "ipython3",
   "version": "3.10.11"
  }
 },
 "nbformat": 4,
 "nbformat_minor": 2
}
