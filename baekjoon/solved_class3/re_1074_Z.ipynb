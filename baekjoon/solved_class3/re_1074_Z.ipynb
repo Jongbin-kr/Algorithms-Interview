{
 "cells": [
  {
   "cell_type": "markdown",
   "metadata": {},
   "source": [
    "#### 어떻게든 식으로 풀어보자..."
   ]
  },
  {
   "cell_type": "markdown",
   "metadata": {},
   "source": [
    "\n",
    "2*2\n",
    "4*4\n",
    "8*8\n",
    "16*16\n",
    "\n",
    "\n",
    "0,0 0,1 0,2 0,3\n",
    "1,0 1,1 1,2 1,3\n",
    "2,0 2,1 2,2 2,3\n",
    "\n",
    "0,0 0,1 0,0 0,1\n",
    "1,0 1,1 1,0 1,1\n",
    "0,0 0,1 0,0 0,1\n",
    "\n",
    "1,1 1,0 1,1 1,0\n",
    "0,1 0,0 0,1 0,0\n",
    "1,1 1,0\n",
    "\n",
    "\n",
    "25\n",
    "r=2, c=5\n",
    "2+1 5+1\n",
    "1   3\n",
    "1   0\n",
    "\n",
    "\n",
    "n=2, target=4\n",
    "r=0, c=2\n",
    "0  1\n",
    "0  0\n",
    "\n",
    "0  2+1\n",
    "0    1\n",
    "1    1\n",
    "\n",
    "n=2, target=12\n",
    "r=2 c=2\n",
    "1 1\n",
    "0 0\n",
    "2+1 2+1\n",
    "1   1\n",
    "1   1\n",
    "\n",
    "\n",
    "n=2, target=7\n",
    "r=1 c=3\n",
    "0 1\n",
    "1 1\n",
    "\n",
    "1+1  3+1\n",
    "1    2\n",
    "0    0\n",
    "\n",
    "\n",
    "n=2, target=10\n",
    "r=3 c=0\n",
    "3+1  0+1\n",
    "2    0\n",
    "0    1\n",
    "\n",
    "target=15\n",
    "r=3 c=3\n",
    "1 1\n",
    "1 1\n",
    "3+1 3+1\n",
    "2    2\n",
    "0    0"
   ]
  },
  {
   "cell_type": "markdown",
   "metadata": {},
   "source": [
    "4*(2**(N-1)*(r_quo + c_quo)) + (2*r_rem + c_rem)\n",
    "\n",
    "2 3 1 = 11\n",
    "3 -> 1 1\n",
    "1 -> 0 1\n",
    "4*(2**1*1+0) + (2*1+1) = 8+3 \n",
    "\n",
    "\n",
    "\n",
    "3 7 7 =63\n",
    "7 -> 3 1\n",
    "7 -> 3 1\n",
    "4*(2**2*)\n",
    "\n",
    "\n",
    "4 * (2^(N-1)*r_q + c_q) + (2*r_r + c_r)\n",
    "\n",
    "1 0 0 = 0\n",
    "0 -> 0 0\n",
    "0 -> 0 0\n",
    "4*(2^0 * 0 + 0) + (2*0 + 0)\n",
    "\n",
    "\n",
    "10 511 511 = 262143\n",
    "511 -> 255 1\n",
    "511 -> 255 1\n",
    "4*(2**9*255+255) + (2*1 + 1)"
   ]
  },
  {
   "cell_type": "code",
   "execution_count": 5,
   "metadata": {},
   "outputs": [
    {
     "data": {
      "text/plain": [
       "63"
      ]
     },
     "execution_count": 5,
     "metadata": {},
     "output_type": "execute_result"
    }
   ],
   "source": [
    "4*(2**2*3+3) + (2*1+1)"
   ]
  },
  {
   "cell_type": "code",
   "execution_count": 3,
   "metadata": {},
   "outputs": [
    {
     "data": {
      "text/plain": [
       "523263"
      ]
     },
     "execution_count": 3,
     "metadata": {},
     "output_type": "execute_result"
    }
   ],
   "source": [
    "4*((2**9)*255+255) + (2*1 + 1)"
   ]
  },
  {
   "cell_type": "markdown",
   "metadata": {},
   "source": [
    "2 3 1\n",
    "3 -> 1 1\n",
    "1 -> 0 1\n",
    "2**1*(1+0) + 2*1+1\n",
    "2*1 + 2"
   ]
  },
  {
   "cell_type": "code",
   "execution_count": 49,
   "metadata": {},
   "outputs": [
    {
     "name": "stdout",
     "output_type": "stream",
     "text": [
      "23\n"
     ]
    }
   ],
   "source": [
    "N, r, c = map(int, input().split())\n",
    "\n",
    "## 몫은 이전에 얼마나 많은 z들이 있었는지를 알려주고,\n",
    "## 나머지는 현재 z에서의 위치를 알려준다.\n",
    "r_quo, r_rem = divmod(r, 2)\n",
    "c_quo, c_rem = divmod(c, 2)\n",
    "\n",
    "print(4*((2**(N-1)*r_quo) + c_quo) + (2*r_rem + c_rem))"
   ]
  },
  {
   "cell_type": "markdown",
   "metadata": {},
   "source": [
    "4 7 7\n",
    "7 -> 3 1\n",
    "7 -> 3 1"
   ]
  },
  {
   "cell_type": "code",
   "execution_count": 45,
   "metadata": {},
   "outputs": [
    {
     "data": {
      "text/plain": [
       "63"
      ]
     },
     "execution_count": 45,
     "metadata": {},
     "output_type": "execute_result"
    }
   ],
   "source": [
    "4*(2**(3-1)*3 + 3) + (2*1 + 1)"
   ]
  },
  {
   "cell_type": "code",
   "execution_count": 41,
   "metadata": {},
   "outputs": [
    {
     "data": {
      "text/plain": [
       "111"
      ]
     },
     "execution_count": 41,
     "metadata": {},
     "output_type": "execute_result"
    }
   ],
   "source": [
    "4*(2**(4-1)*3 + 3) + (2*1 + 1)"
   ]
  },
  {
   "cell_type": "markdown",
   "metadata": {},
   "source": [
    "#### recursive.\n",
    "근데 타임아웃...!"
   ]
  },
  {
   "cell_type": "markdown",
   "metadata": {},
   "source": [
    "2 3 1\n",
    "\n",
    "z_search(1, 0, 0)\n",
    "0,0 0,1 1,0 1,1 -> 3\n",
    "\n",
    "z_search(1, 0, 2)\n",
    "0,2 0,3 1,2 1,3 -> 7\n",
    "z_search(1, 2, 0)\n",
    "2,0 2,1, 3,0 3,1 -> 11\n",
    "z_search(1, 2, 2)\n",
    "\n",
    "\n",
    "\n",
    "3 7 7\n",
    "z_search(2, 0, 0)\n",
    "    z_search(1, 0, 0)\n",
    "z_search(2, 0, 4)\n",
    "z_search(2, 4, 0)\n",
    "z_search(2, 4, 4)"
   ]
  },
  {
   "cell_type": "code",
   "execution_count": 12,
   "metadata": {},
   "outputs": [
    {
     "name": "stdout",
     "output_type": "stream",
     "text": [
      "262143\n"
     ]
    }
   ],
   "source": [
    "N, target_r, target_c = map(int, input().split())\n",
    "\n",
    "cnt = -1    ## 0,0은 방문한걸로 안세기 떄문에 -1에서 시작하자\n",
    "def z_search(N, now_r=0, now_c=0):\n",
    "    global cnt\n",
    "    if N == 1:\n",
    "        for dr, dc in [(0, 0), (0, +1), (+1, -1), (0, +1)]:\n",
    "            now_r += dr\n",
    "            now_c += dc\n",
    "            cnt += 1\n",
    "            \n",
    "            if now_r == target_r and now_c == target_c:\n",
    "                return cnt\n",
    "            \n",
    "    else:\n",
    "        for box_move in [(0,0), (0, +2**(N-1)), (+2**(N-1), 0), (+2**(N-1), +2**(N-1))]:\n",
    "            dr_box, dc_box = box_move\n",
    "            result = z_search(N-1, now_r + dr_box, now_c + dc_box)\n",
    "            \n",
    "            if result:\n",
    "                return result\n",
    "\n",
    "\n",
    "print(z_search(N, 0, 0))"
   ]
  },
  {
   "cell_type": "markdown",
   "metadata": {},
   "source": [
    "#### recursive 개선"
   ]
  },
  {
   "cell_type": "code",
   "execution_count": 34,
   "metadata": {},
   "outputs": [
    {
     "name": "stdout",
     "output_type": "stream",
     "text": [
      "262143\n",
      "524287\n",
      "786431\n",
      "851967\n",
      "917503\n",
      "983039\n",
      "1048575\n",
      "y None\n",
      "None\n"
     ]
    }
   ],
   "source": [
    "N, target_r, target_c = map(int, input().split())\n",
    "\n",
    "cnt = -1    ## 0,0은 방문한걸로 안세기 떄문에 -1에서 시작하자\n",
    "def z_search(N, now_r=0, now_c=0):\n",
    "    global cnt\n",
    "    if N == 1:\n",
    "        for dr, dc in [(0, 0), (0, +1), (+1, -1), (0, +1)]:\n",
    "            now_r += dr\n",
    "            now_c += dc\n",
    "            cnt += 1\n",
    "            \n",
    "            if now_r == target_r and now_c == target_c:\n",
    "                return cnt\n",
    "            \n",
    "    else:   ## N이 2이상인 경우, 범위에서 벗어나면 굳이 z_search안하고 건너뛰어도 된다.\n",
    "        for box_start in [(0,0), (0, +2**(N-1)), (+2**(N-1), 0), (+2**(N-1), +2**(N-1))]:\n",
    "            box_start_r, box_start_c = box_start\n",
    "            box_end_r = box_start_r + (2**(N-1)-1)\n",
    "            box_end_c = box_start_c + (2**(N-1)-1)\n",
    "            if (box_start_r <= target_r <= box_end_r) and (box_start_c <= target_c <= box_end_c):\n",
    "                result = z_search(N-1, now_r + box_start_r, now_c + box_start_c)\n",
    "                print('y', result)\n",
    "                return result\n",
    "            else:\n",
    "                cnt += 2**(2 * (N-1))\n",
    "                print(cnt)\n",
    "            \n",
    "\n",
    "print(z_search(N, 0, 0))"
   ]
  }
 ],
 "metadata": {
  "kernelspec": {
   "display_name": "Python 3",
   "language": "python",
   "name": "python3"
  },
  "language_info": {
   "codemirror_mode": {
    "name": "ipython",
    "version": 3
   },
   "file_extension": ".py",
   "mimetype": "text/x-python",
   "name": "python",
   "nbconvert_exporter": "python",
   "pygments_lexer": "ipython3",
   "version": "3.10.11"
  }
 },
 "nbformat": 4,
 "nbformat_minor": 2
}
