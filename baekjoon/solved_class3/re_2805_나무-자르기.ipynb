{
 "cells": [
  {
   "cell_type": "markdown",
   "metadata": {},
   "source": [
    "max(trees)부터 1씩 값을 낮추면서 하면 되나? (brute force)\n",
    "- n_trees가 1_000_000, 높이가 1_000_000_000이므로 극단적인 경우에는 1_000_000 * 1_000_000_000 >>> 20_000_000\n",
    "\n",
    "<br>\n",
    "\n",
    "1. 주어진 나무 길이를 정렬하고,\n",
    "2. 가장 키 큰 나무, 다음 키 큰 나무, 이렇게 범위별로 탐색해나가면 되지 않을까?\n",
    "\n",
    "\n",
    "20 17 15 10\n",
    "i = 1\n",
    "cutting_height = 17"
   ]
  },
  {
   "cell_type": "code",
   "execution_count": 22,
   "metadata": {},
   "outputs": [
    {
     "name": "stdout",
     "output_type": "stream",
     "text": [
      "36\n"
     ]
    }
   ],
   "source": [
    "# import sys; input = lambda: sys.stdin.readline().rstrip()\n",
    "n_trees, m_need = map(int, input().split())\n",
    "\n",
    "trees = sorted(map(int, input().split()), reverse=True)\n",
    "\n",
    "# trees = [20, 17, 15, 10]\n",
    "result = 0\n",
    "for i in range(1, n_trees): # 1,2,3\n",
    "    result = sum(map(lambda x: x - trees[i], trees[:i+1]))\n",
    "    # print(i, result)\n",
    "    if result == m_need:  ## 운 좋게 딱 맞아 떨어지면\n",
    "        print(trees[i])\n",
    "        break\n",
    "    \n",
    "    elif result > m_need: ## 더 많이 잘랐다면,\n",
    "        # 자르는 높이가 1 낮아지면 한번에 i만큼 result가 늘어난다\n",
    "        # \n",
    "        result = sum(map(lambda x: x - trees[i-1], trees[:i]))\n",
    "        step = ((m_need - result) // i) if ((m_need - result) % i == 0) else (((m_need - result) // i) + 1)\n",
    "        # print(m_need, result, i, step)\n",
    "        print(trees[i-1] - step)\n",
    "        break\n",
    "        \n",
    "    else:   ## 아직 적게 잘랐으면, 일단 다음 나무 길이까지 자르고 보자\n",
    "        continue\n",
    "    "
   ]
  },
  {
   "cell_type": "markdown",
   "metadata": {},
   "source": [
    "위 코드가 타임오버가 뜬다.\n",
    "\n",
    "1. 아마 sum을 구하는 부분에서 timeover가 나지 않았을까?\n",
    "2. 그냥 무지성으로 이진탐색해볼까?\n",
    "\n",
    "TODO 딱 떨어지지 않는 경우의 예외처리"
   ]
  },
  {
   "cell_type": "markdown",
   "metadata": {},
   "source": [
    "10 20\n",
    "mid = 15\n",
    "\n"
   ]
  },
  {
   "cell_type": "code",
   "execution_count": 10,
   "metadata": {},
   "outputs": [
    {
     "name": "stdout",
     "output_type": "stream",
     "text": [
      "[10, 15, 17, 20] 8\n",
      "10 20 15 : 7\n",
      "10 14 12 : 16\n",
      "13 14 13 : 13\n",
      "14 14 14 : 10\n",
      "14\n"
     ]
    }
   ],
   "source": [
    "# import sys; input = lambda: sys.stdin.readline().rstrip()\n",
    "n_trees, target = map(int, input().split())\n",
    "print(target)\n",
    "\n",
    "trees = sorted(map(int, input().split()))\n",
    "# trees = [4 26 40 42 46]\n",
    "def sum_over(height):\n",
    "    sum_cutted_trees = 0\n",
    "    for tree in trees:\n",
    "        if tree > height:\n",
    "            sum_cutted_trees += tree - height\n",
    "    \n",
    "    return sum_cutted_trees\n",
    "\n",
    "\n",
    "def binary_search(start, end):\n",
    "    while start <= end:\n",
    "        mid = (start + end) // 2\n",
    "        sum_cutted_trees = sum_over(mid)\n",
    "        print(mid, ':', sum_cutted_trees)\n",
    "        if sum_cutted_trees == target:\n",
    "            return mid\n",
    "\n",
    "        elif sum_cutted_trees < target:\n",
    "            end = mid - 1\n",
    "            \n",
    "        else:\n",
    "            start = mid + 1\n",
    "            \n",
    "    return mid + 1\n",
    "\n",
    "print(binary_search(trees[0], trees[-1]))"
   ]
  },
  {
   "cell_type": "code",
   "execution_count": 31,
   "metadata": {},
   "outputs": [
    {
     "name": "stdout",
     "output_type": "stream",
     "text": [
      "34\n"
     ]
    }
   ],
   "source": [
    "# import sys; input = lambda: sys.stdin.readline().rstrip()\n",
    "n_trees, target = map(int, input().split())\n",
    "\n",
    "trees = sorted(map(int, input().split()))\n",
    "def sum_over(height):\n",
    "    sum_cutted_trees = 0\n",
    "    for tree in trees:\n",
    "        if tree > height:\n",
    "            sum_cutted_trees += tree - height\n",
    "    \n",
    "    return sum_cutted_trees\n",
    "\n",
    "\n",
    "def binary_search(start, end):\n",
    "    while start <= end:\n",
    "        mid = (start + end) // 2\n",
    "        sum_cutted_trees = sum_over(mid)\n",
    "        # print(start, end, mid, sum_cutted_trees)\n",
    "        if sum_cutted_trees == target:\n",
    "            return mid\n",
    "\n",
    "        elif sum_cutted_trees < target:\n",
    "            end = mid - 1\n",
    "            \n",
    "        else:\n",
    "            start = mid + 1\n",
    "            \n",
    "    return mid if sum_over(mid) >= target else mid-1\n",
    "\n",
    "print(binary_search(trees[0], trees[-1]))"
   ]
  },
  {
   "cell_type": "markdown",
   "metadata": {},
   "source": [
    "결국 풀이를 보고 말았읍니다..."
   ]
  },
  {
   "cell_type": "code",
   "execution_count": 3,
   "metadata": {},
   "outputs": [],
   "source": [
    "# import sys; input = lambda: sys.stdin.readline().rstrip()\n",
    "n_trees, target = map(int, input().split())\n",
    "trees = list(map(int, input().split()))\n",
    "\n",
    "\n",
    "start, end = 1, max(trees)\n",
    "\n",
    "while start <= end:\n",
    "    mid = (start + end) // 2\n",
    "    logs = 0\n",
    "    for tree in trees:\n",
    "        if tree > mid:\n",
    "            logs += tree - mid\n",
    "    \n",
    "    if logs >= target:\n",
    "        start = mid + 1\n",
    "    else:\n",
    "        end = mid - 1\n",
    "\n",
    "print(end)"
   ]
  }
 ],
 "metadata": {
  "kernelspec": {
   "display_name": "Python 3",
   "language": "python",
   "name": "python3"
  },
  "language_info": {
   "codemirror_mode": {
    "name": "ipython",
    "version": 3
   },
   "file_extension": ".py",
   "mimetype": "text/x-python",
   "name": "python",
   "nbconvert_exporter": "python",
   "pygments_lexer": "ipython3",
   "version": "3.10.11"
  }
 },
 "nbformat": 4,
 "nbformat_minor": 2
}
