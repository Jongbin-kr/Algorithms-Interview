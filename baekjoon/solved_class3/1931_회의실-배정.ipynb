{
 "cells": [
  {
   "cell_type": "markdown",
   "metadata": {},
   "source": [
    "이거 배웠다!!\n",
    "근데 솔루션이 생각이 안난다!!\n",
    "\n",
    "- 그리디였네...근데 최적해 증명은?\n",
    "    - 여기 참고하자. https://gazelle-and-cs.tistory.com/59"
   ]
  },
  {
   "cell_type": "code",
   "execution_count": 8,
   "metadata": {},
   "outputs": [
    {
     "name": "stdout",
     "output_type": "stream",
     "text": [
      "4\n"
     ]
    }
   ],
   "source": [
    "import sys; input = lambda: sys.stdin.readline().rstrip()\n",
    "N = int(input())\n",
    "\n",
    "meetings = [tuple(map(int, input().split())) for _ in range(N)]\n",
    "meetings.sort(key=lambda x: (x[1], x[0]))\n",
    "\n",
    "cnt = 0\n",
    "last_end = 0\n",
    "for meeting in meetings:\n",
    "    t_start, t_end = meeting\n",
    "    if last_end <= t_start:\n",
    "        last_end = t_end\n",
    "        cnt += 1\n",
    "\n",
    "print(cnt)"
   ]
  }
 ],
 "metadata": {
  "kernelspec": {
   "display_name": "Python 3",
   "language": "python",
   "name": "python3"
  },
  "language_info": {
   "codemirror_mode": {
    "name": "ipython",
    "version": 3
   },
   "file_extension": ".py",
   "mimetype": "text/x-python",
   "name": "python",
   "nbconvert_exporter": "python",
   "pygments_lexer": "ipython3",
   "version": "3.10.11"
  }
 },
 "nbformat": 4,
 "nbformat_minor": 2
}
