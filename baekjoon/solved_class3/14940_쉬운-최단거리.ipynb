{
 "cells": [
  {
   "cell_type": "markdown",
   "metadata": {},
   "source": [
    "각 지점에서 목표지점까지의 거리를 출력한다.\n",
    "\n",
    "all-to-all이므로 플로이드-와샬 알고리즘으로 풀 수도 있을거야.\n",
    "근데 그러러면 비용테이블이 있어야하는데, 최대 (n*m)**2짜리 비용테이블이 sparse하게 하려면 너무 메모리 낭비가 크다.\n",
    "\n",
    "그럼 단순 구현?\n",
    "\n",
    "1. 큐에서 뺸다 \n",
    "2. 거리를 업데이트한다\n",
    "3. visited에 넣는다\n",
    "4. 상하좌우 노드를 탐색한다\n",
    "5. 상하좌우 노드 중 유효한 범위에 있고, 0이 아닌 걸 큐에 넣는다\n",
    "6. 거리값을 업데이트한다"
   ]
  },
  {
   "cell_type": "code",
   "execution_count": null,
   "metadata": {},
   "outputs": [],
   "source": [
    "# n, m = map(int, input().split())\n",
    "\n",
    "# start = (0,0) ## y, x\n",
    "# world = []\n",
    "# for i in range(n):\n",
    "#     line = list(map(int, input().split()))\n",
    "#     world.append(line)\n",
    "#     if 2 in line:\n",
    "#         start = (i, line.index(2))\n",
    "        \n",
    "n, m = 15, 15\n",
    "start = (0,0) ## y, x\n",
    "world = \\\n",
    "[[2, 1, 1, 1, 1, 1, 1, 1, 1, 1, 1, 1, 1, 1, 1],\n",
    " [1, 1, 1, 1, 1, 1, 1, 1, 1, 1, 1, 1, 1, 1, 1],\n",
    " [1, 1, 1, 1, 1, 1, 1, 1, 1, 1, 1, 1, 1, 1, 1],\n",
    " [1, 1, 1, 1, 1, 1, 1, 1, 1, 1, 1, 1, 1, 1, 1],\n",
    " [1, 1, 1, 1, 1, 1, 1, 1, 1, 1, 1, 1, 1, 1, 1],\n",
    " [1, 1, 1, 1, 1, 1, 1, 1, 1, 1, 1, 1, 1, 1, 1],\n",
    " [1, 1, 1, 1, 1, 1, 1, 1, 1, 1, 1, 1, 1, 1, 1],\n",
    " [1, 1, 1, 1, 1, 1, 1, 1, 1, 1, 1, 1, 1, 1, 1],\n",
    " [1, 1, 1, 1, 1, 1, 1, 1, 1, 1, 1, 1, 1, 1, 1],\n",
    " [1, 1, 1, 1, 1, 1, 1, 1, 1, 1, 1, 1, 1, 1, 1],\n",
    " [1, 1, 1, 1, 1, 1, 1, 1, 1, 1, 1, 1, 1, 1, 1],\n",
    " [1, 1, 1, 1, 1, 1, 1, 1, 1, 1, 0, 0, 0, 0, 1],\n",
    " [1, 1, 1, 1, 1, 1, 1, 1, 1, 1, 0, 1, 1, 1, 1],\n",
    " [1, 1, 1, 1, 1, 1, 1, 1, 1, 1, 0, 1, 0, 0, 0],\n",
    " [1, 1, 1, 1, 1, 1, 1, 1, 1, 1, 0, 1, 1, 1, 1]]\n",
    "\n",
    "\n",
    "n, m = 2,2\n",
    "start = (0,0) ## y, x\n",
    "world = \\\n",
    "[[2,1],\n",
    " [1,1]]"
   ]
  },
  {
   "cell_type": "markdown",
   "metadata": {},
   "source": [
    "bfs로 풀자...근데 거리 구하는 로직이 생각이 잘 안나서?! 답안 참고.\n",
    "\n",
    "- visited를 굳이 1차원 리스트로 관리하지 않아도 되는구나!"
   ]
  },
  {
   "cell_type": "code",
   "execution_count": 21,
   "metadata": {},
   "outputs": [
    {
     "name": "stdout",
     "output_type": "stream",
     "text": [
      "0 1 2 3 4 5 6 7 8 9 10 11 12 13 14 \n",
      "1 2 3 4 5 6 7 8 9 10 11 12 13 14 15 \n",
      "2 3 4 5 6 7 8 9 10 11 12 13 14 15 16 \n",
      "3 4 5 6 7 8 9 10 11 12 13 14 15 16 17 \n",
      "4 5 6 7 8 9 10 11 12 13 14 15 16 17 18 \n",
      "5 6 7 8 9 10 11 12 13 14 15 16 17 18 19 \n",
      "6 7 8 9 10 11 12 13 14 15 16 17 18 19 20 \n",
      "7 8 9 10 11 12 13 14 15 16 17 18 19 20 21 \n",
      "8 9 10 11 12 13 14 15 16 17 18 19 20 21 22 \n",
      "9 10 11 12 13 14 15 16 17 18 19 20 21 22 23 \n",
      "10 11 12 13 14 15 16 17 18 19 20 21 22 23 24 \n",
      "11 12 13 14 15 16 17 18 19 20 0 0 0 0 25 \n",
      "12 13 14 15 16 17 18 19 20 21 0 29 28 27 26 \n",
      "13 14 15 16 17 18 19 20 21 22 0 30 0 0 0 \n",
      "14 15 16 17 18 19 20 21 22 23 0 31 32 33 34 \n"
     ]
    }
   ],
   "source": [
    "# import sys; sys = lambda: sys.stdin.readline().rstrip()\n",
    "from collections import deque\n",
    "\n",
    "\n",
    "n, m = map(int, input().split())\n",
    "start = (0,0) ## y, x, dist\n",
    "graph = []\n",
    "for i in range(n):\n",
    "    line = list(map(int, input().split()))\n",
    "    graph.append(line)\n",
    "    if 2 in line:\n",
    "        start = (i, line.index(2))\n",
    "visited = [[-1] * m for _ in range(n)]\n",
    "\n",
    "\n",
    "def bfs(i, j):\n",
    "    to_visit = deque()\n",
    "    visited[i][j] = 0\n",
    "    to_visit.append((i, j))\n",
    "    \n",
    "    while to_visit:\n",
    "        y, x = to_visit.popleft()\n",
    "        visited.append((y,x))\n",
    "        \n",
    "        for dy, dx in [(+1, 0), (-1, 0), (0, +1), (0, -1)]:\n",
    "            if (y+dy >=0 and y+dy < n and x+dx >=0 and x+dx < m) and (graph[y+dy][x+dx] != 0):\n",
    "                if visited[y+dy][x+dx] == -1:\n",
    "                    visited[y+dy][x+dx] = visited[y][x] + 1\n",
    "                    to_visit.append((y+dy, x+dx))\n",
    "\n",
    "bfs(start[0], start[1])\n",
    "\n",
    "for i in range(n):\n",
    "    for j in range(m):\n",
    "        if graph[i][j] == 0:\n",
    "            print(0, end=' ')\n",
    "        \n",
    "        else:\n",
    "            print(visited[i][j], end= ' ')\n",
    "    \n",
    "    print()"
   ]
  }
 ],
 "metadata": {
  "kernelspec": {
   "display_name": "Python 3",
   "language": "python",
   "name": "python3"
  },
  "language_info": {
   "codemirror_mode": {
    "name": "ipython",
    "version": 3
   },
   "file_extension": ".py",
   "mimetype": "text/x-python",
   "name": "python",
   "nbconvert_exporter": "python",
   "pygments_lexer": "ipython3",
   "version": "3.10.11"
  }
 },
 "nbformat": 4,
 "nbformat_minor": 2
}
