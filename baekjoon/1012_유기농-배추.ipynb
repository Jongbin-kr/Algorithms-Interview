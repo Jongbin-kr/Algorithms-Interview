{
 "cells": [
  {
   "cell_type": "markdown",
   "metadata": {},
   "source": [
    "전형적인 DFS 문제로구만....\n",
    "이걸 원샷원킬 한다고?!?!"
   ]
  },
  {
   "cell_type": "code",
   "execution_count": 3,
   "metadata": {},
   "outputs": [
    {
     "name": "stdout",
     "output_type": "stream",
     "text": [
      "2\n"
     ]
    }
   ],
   "source": [
    "from typing import *\n",
    "\n",
    "def dfs(graph: List[List[int]], start: Tuple[int ,int]) -> None:\n",
    "    to_visit = list()\n",
    "    to_visit.append(start)\n",
    "    \n",
    "    while to_visit:\n",
    "        y, x = to_visit.pop()\n",
    "        \n",
    "        if graph[y][x] == 1:\n",
    "            graph[y][x] = 0\n",
    "            for dy, dx in [(-1, 0), (+1, 0), (0, -1), (0, +1)]:\n",
    "                if (y + dy < 0) or (y + dy > N-1) or (x + dx < 0) or (x + dx > M-1):\n",
    "                    continue\n",
    "                \n",
    "                if graph[y + dy][x + dx] == 1:\n",
    "                    to_visit.append((y+dy, x+dx))\n",
    "            \n",
    "\n",
    "T = int(input())\n",
    "for _ in range(T):\n",
    "    M, N, K = map(int, input().split()) ## 가로, 세로, 배추 개수\n",
    "    graph = [[0] * M for _ in range(N)]    \n",
    "    for _ in range(K):\n",
    "        X, Y = map(int, input().split())\n",
    "        graph[Y][X] = 1\n",
    "    \n",
    "    worms = 0\n",
    "    for i in range(N):\n",
    "        for j in range(M):\n",
    "            if graph[i][j] == 1:\n",
    "                dfs(graph, (i, j))\n",
    "                worms += 1\n",
    "        \n",
    "    print(worms)\n",
    "    "
   ]
  },
  {
   "cell_type": "markdown",
   "metadata": {},
   "source": [
    "양배추 목록을 따로 관리하면, 굳이 맵 전체를 순회할 필요가 없다!"
   ]
  },
  {
   "cell_type": "code",
   "execution_count": 10,
   "metadata": {},
   "outputs": [
    {
     "name": "stdout",
     "output_type": "stream",
     "text": [
      "5\n",
      "1\n"
     ]
    }
   ],
   "source": [
    "from typing import *\n",
    "\n",
    "def dfs(graph: List[List[int]], start: Tuple[int ,int], cabbages: List[Tuple[int, int]]) -> None:\n",
    "    to_visit = list()\n",
    "    to_visit.append(start)\n",
    "    \n",
    "    while to_visit:\n",
    "        y, x = to_visit.pop()\n",
    "        \n",
    "        if graph[y][x] == 1:\n",
    "            graph[y][x] = 0\n",
    "            try:\n",
    "                cabbages.remove((y, x))\n",
    "            except:\n",
    "                pass\n",
    "            \n",
    "            for dy, dx in [(-1, 0), (+1, 0), (0, -1), (0, +1)]:\n",
    "                if (y + dy < 0) or (y + dy > N-1) or (x + dx < 0) or (x + dx > M-1):\n",
    "                    continue\n",
    "                \n",
    "                if graph[y + dy][x + dx] == 1:\n",
    "                    to_visit.append((y+dy, x+dx))\n",
    "\n",
    "T = int(input())\n",
    "for _ in range(T):\n",
    "    M, N, K = map(int, input().split()) ## 가로, 세로, 배추 개수\n",
    "    graph = [[0] * M for _ in range(N)]\n",
    "    cabbages = []   ## 배추 목록을 따로 관리해서, 해당 부분만 체크하자   \n",
    "    for _ in range(K):\n",
    "        X, Y = map(int, input().split())\n",
    "        graph[Y][X] = 1\n",
    "        cabbages.append((Y, X))\n",
    "    \n",
    "    worms = 0\n",
    "    while cabbages:\n",
    "        y, x = cabbages.pop()\n",
    "        dfs(graph, (y, x), cabbages)\n",
    "        worms += 1\n",
    "        \n",
    "    print(worms)\n",
    "    "
   ]
  }
 ],
 "metadata": {
  "kernelspec": {
   "display_name": "Python 3",
   "language": "python",
   "name": "python3"
  },
  "language_info": {
   "codemirror_mode": {
    "name": "ipython",
    "version": 3
   },
   "file_extension": ".py",
   "mimetype": "text/x-python",
   "name": "python",
   "nbconvert_exporter": "python",
   "pygments_lexer": "ipython3",
   "version": "3.10.11"
  }
 },
 "nbformat": 4,
 "nbformat_minor": 2
}
