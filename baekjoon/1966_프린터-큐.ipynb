{
 "cells": [
  {
   "cell_type": "markdown",
   "metadata": {},
   "source": [
    "heap을 쓰면 되나? \n",
    "\n",
    "아니네. 우선순위가 같은 경우에도 처리해야하네."
   ]
  },
  {
   "cell_type": "code",
   "execution_count": 17,
   "metadata": {},
   "outputs": [
    {
     "name": "stdout",
     "output_type": "stream",
     "text": [
      "[(-5, 0)]\n",
      "[(-5, 0)]\n",
      "0\n",
      "[(-1, 0), (-2, 1), (-3, 2), (-4, 3)]\n",
      "[(-4, 3), (-2, 1), (-3, 2), (-1, 0)]\n",
      "2\n",
      "[(-1, 0), (-1, 1), (-9, 2), (-1, 3), (-1, 4), (-1, 5)]\n",
      "[(-9, 2), (-1, 1), (-1, 0), (-1, 3), (-1, 4), (-1, 5)]\n",
      "2\n"
     ]
    }
   ],
   "source": [
    "from heapq import heapify\n",
    "\n",
    "T_testcases = int(input())\n",
    "\n",
    "for _ in range(T_testcases):\n",
    "    N_docs, M_quiz = map(int, input().split())\n",
    "    levels = list(map(int, input().split()))\n",
    "    level_of_quiz = levels[M_quiz]\n",
    "    \n",
    "    levels = [(-level, i) for i, level in enumerate(levels)]\n",
    "    print(levels)\n",
    "    \n",
    "    heapify(levels)\n",
    "    print(levels)\n",
    "    print(levels.index((-level_of_quiz, M_quiz)))"
   ]
  },
  {
   "cell_type": "markdown",
   "metadata": {},
   "source": [
    "시간 제한 2초에 N_docs가 100개니까 어느정도 구현으로도 풀 수 있겠다.\n",
    "\n",
    "근데 매 번 자기보다 중요도가 높은 문서가 있는지 없는지 어떻게 판단하지?\n",
    "\n",
    "일단 그냥 구현해보자"
   ]
  },
  {
   "cell_type": "code",
   "execution_count": null,
   "metadata": {},
   "outputs": [
    {
     "name": "stdout",
     "output_type": "stream",
     "text": [
      "2\n",
      "4\n",
      "10\n"
     ]
    }
   ],
   "source": [
    "from collections import deque\n",
    "\n",
    "T_testcases = int(input())\n",
    "for _ in range(T_testcases):\n",
    "    N_docs, M_quiz = map(int, input().split()) \n",
    "    levels = list(map(int, input().split()))\n",
    "    target = (M_quiz, levels[M_quiz])\n",
    "\n",
    "    docs = deque([(i, level) for i, level in enumerate(levels)])\n",
    "    levels = deque(sorted(levels, reverse=True))\n",
    "    \n",
    "    turn = 0\n",
    "    while docs:\n",
    "        i, level = docs.popleft()\n",
    "        if level < levels[0]:\n",
    "            docs.append((i, level))\n",
    "            continue\n",
    "        \n",
    "        else:\n",
    "            levels.popleft()\n",
    "            turn += 1            \n",
    "        \n",
    "        if target == (i, level):\n",
    "            print(turn)"
   ]
  }
 ],
 "metadata": {
  "kernelspec": {
   "display_name": "Python 3",
   "language": "python",
   "name": "python3"
  },
  "language_info": {
   "codemirror_mode": {
    "name": "ipython",
    "version": 3
   },
   "file_extension": ".py",
   "mimetype": "text/x-python",
   "name": "python",
   "nbconvert_exporter": "python",
   "pygments_lexer": "ipython3",
   "version": "3.10.11"
  }
 },
 "nbformat": 4,
 "nbformat_minor": 2
}
