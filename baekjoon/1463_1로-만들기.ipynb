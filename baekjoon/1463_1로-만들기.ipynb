{
 "cells": [
  {
   "cell_type": "markdown",
   "metadata": {},
   "source": [
    "전형적인 DP문제.\n",
    "\n",
    "이때 n/2, n/3 대신 n//2, n//3으로 해도 됨. 어차피 값은 같음"
   ]
  },
  {
   "cell_type": "code",
   "execution_count": 23,
   "metadata": {},
   "outputs": [
    {
     "name": "stdout",
     "output_type": "stream",
     "text": [
      "6\n",
      "4 2 2\n",
      "7\n",
      "3 inf inf\n",
      "8\n",
      "4 3 inf\n",
      "9\n",
      "4 inf 2\n",
      "10\n",
      "3 4 inf\n",
      "11\n",
      "4 inf inf\n",
      "12\n",
      "5 3 3\n",
      "3\n"
     ]
    }
   ],
   "source": [
    "N = int(input())\n",
    "memo = [0, 0, 1, 1, 2, 3] + [float('inf')] * N\n",
    "\n",
    "for n in range(6, N+1):\n",
    "    memo[n] = min(\n",
    "        memo[n-1] + 1,\n",
    "        memo[int(n/2)] + 1 if n % 2 == 0 else float('inf'),\n",
    "        memo[int(n/3)] + 1 if n % 3 == 0 else float('inf')\n",
    "    )\n",
    "    \n",
    "print(memo[N])"
   ]
  }
 ],
 "metadata": {
  "kernelspec": {
   "display_name": "Python 3",
   "language": "python",
   "name": "python3"
  },
  "language_info": {
   "codemirror_mode": {
    "name": "ipython",
    "version": 3
   },
   "file_extension": ".py",
   "mimetype": "text/x-python",
   "name": "python",
   "nbconvert_exporter": "python",
   "pygments_lexer": "ipython3",
   "version": "3.10.11"
  }
 },
 "nbformat": 4,
 "nbformat_minor": 2
}
