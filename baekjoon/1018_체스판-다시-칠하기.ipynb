{
 "cells": [
  {
   "cell_type": "code",
   "execution_count": 6,
   "metadata": {},
   "outputs": [
    {
     "name": "stdout",
     "output_type": "stream",
     "text": [
      "0 8 0 8\n",
      "32\n"
     ]
    }
   ],
   "source": [
    "N, M = map(int, input().split())\n",
    "board = [list(input()) for _ in range(N)]\n",
    "\n",
    "def count_bw(part, bw):\n",
    "    bw = bw\n",
    "    err = 0\n",
    "    for i in range(8):\n",
    "        for j in range(8):\n",
    "            if part[i][j] != bw:\n",
    "               err += 1\n",
    "            bw = 'B' if bw == 'W' else 'W'\n",
    "        bw = 'B' if bw == 'W' else 'W'\n",
    "    return err\n",
    "\n",
    "\n",
    "\n",
    "min_cnt = float('inf')\n",
    "for i in range(0, N-8+1):\n",
    "    for j in range(0, M-8+1):\n",
    "        # print(i, i+8, j, j+8)\n",
    "        part = [line[j:j+8] for line in board[i:i+8]]\n",
    "        min_cnt = min(min_cnt, count_bw(part, 'B'), count_bw(part, 'W'))\n",
    "\n",
    "print(min_cnt)"
   ]
  }
 ],
 "metadata": {
  "kernelspec": {
   "display_name": "Python 3",
   "language": "python",
   "name": "python3"
  },
  "language_info": {
   "codemirror_mode": {
    "name": "ipython",
    "version": 3
   },
   "file_extension": ".py",
   "mimetype": "text/x-python",
   "name": "python",
   "nbconvert_exporter": "python",
   "pygments_lexer": "ipython3",
   "version": "3.10.11"
  }
 },
 "nbformat": 4,
 "nbformat_minor": 2
}
