{
 "cells": [
  {
   "cell_type": "code",
   "execution_count": 12,
   "metadata": {},
   "outputs": [
    {
     "name": "stdout",
     "output_type": "stream",
     "text": [
      "23\n"
     ]
    }
   ],
   "source": [
    "# import sys; input = lambda: sys.stdin.readline().rstrip()\n",
    "n_areas, m_search_range, r_edges = map(int, input().split())\n",
    "\n",
    "items = [0] + list(map(int, input().split()))\n",
    "graph = [[float('inf') for _ in range(n_areas+1)] for _ in range(n_areas+1)]\n",
    "for i in range(1, n_areas+1):\n",
    "    graph[i][i] = 0\n",
    "    \n",
    "for _ in range(r_edges):\n",
    "    start, end, dist = map(int, input().split())\n",
    "    graph[start][end] = dist\n",
    "    graph[end][start] = dist\n",
    "\n",
    "for k in range(1, n_areas+1):\n",
    "    for i in range(1, n_areas+1):\n",
    "        for j in range(1, n_areas+1):\n",
    "            if graph[i][j] > graph[i][k] + graph[k][j]:\n",
    "                graph[i][j] = graph[i][k] + graph[k][j]\n",
    "    \n",
    "result = 0\n",
    "for row in graph[1:]:\n",
    "    temp = 0\n",
    "    for area_idx, min_dist in enumerate(row[1:], 1):\n",
    "        if min_dist <= m_search_range:\n",
    "            temp += items[area_idx]\n",
    "    \n",
    "    result = max(result, temp)        \n",
    "\n",
    "print(result)"
   ]
  },
  {
   "cell_type": "code",
   "execution_count": 7,
   "metadata": {},
   "outputs": [
    {
     "data": {
      "text/plain": [
       "[[inf, inf, inf, inf, inf, inf],\n",
       " [inf, 0, 3, inf, 5, inf],\n",
       " [inf, 3, 0, 3, inf, 4],\n",
       " [inf, inf, 3, 0, inf, inf],\n",
       " [inf, 5, inf, inf, 0, inf],\n",
       " [inf, inf, 4, inf, inf, inf]]"
      ]
     },
     "execution_count": 7,
     "metadata": {},
     "output_type": "execute_result"
    }
   ],
   "source": [
    "graph"
   ]
  }
 ],
 "metadata": {
  "kernelspec": {
   "display_name": "Python 3",
   "language": "python",
   "name": "python3"
  },
  "language_info": {
   "codemirror_mode": {
    "name": "ipython",
    "version": 3
   },
   "file_extension": ".py",
   "mimetype": "text/x-python",
   "name": "python",
   "nbconvert_exporter": "python",
   "pygments_lexer": "ipython3",
   "version": "3.10.11"
  }
 },
 "nbformat": 4,
 "nbformat_minor": 2
}
