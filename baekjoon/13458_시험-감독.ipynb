{
 "cells": [
  {
   "cell_type": "markdown",
   "metadata": {},
   "source": [
    "계속 room - main이 0이 되는 경우의 처리를 잘못해서 틀림"
   ]
  },
  {
   "cell_type": "code",
   "execution_count": 25,
   "metadata": {},
   "outputs": [
    {
     "name": "stdout",
     "output_type": "stream",
     "text": [
      "13\n"
     ]
    }
   ],
   "source": [
    "n_rooms = int(input())\n",
    "rooms = list(map(int, input().split()))\n",
    "main, sub = map(int, input().split())\n",
    "\n",
    "\n",
    "mans = 0\n",
    "for room in rooms:\n",
    "    if room - main <= 0:\n",
    "        mans += 1\n",
    "    elif (room - main) % sub == 0:\n",
    "        mans += 1 + ((room - main) // sub)\n",
    "    else:\n",
    "        mans += 1 + ((room - main) // sub) + 1\n",
    "        \n",
    "print(mans)"
   ]
  }
 ],
 "metadata": {
  "kernelspec": {
   "display_name": "Python 3",
   "language": "python",
   "name": "python3"
  },
  "language_info": {
   "codemirror_mode": {
    "name": "ipython",
    "version": 3
   },
   "file_extension": ".py",
   "mimetype": "text/x-python",
   "name": "python",
   "nbconvert_exporter": "python",
   "pygments_lexer": "ipython3",
   "version": "3.10.11"
  }
 },
 "nbformat": 4,
 "nbformat_minor": 2
}
