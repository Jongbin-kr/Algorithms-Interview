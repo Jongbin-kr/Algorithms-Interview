{
 "cells": [
  {
   "cell_type": "markdown",
   "metadata": {},
   "source": [
    "흔한 dfs 문제.\n",
    "\n",
    "인풋값에서 조금 애먹었다. \n",
    "- 참고: https://stackoverflow.com/questions/43684041/initialize-an-nested-list-with-values-e-g-0s\n"
   ]
  },
  {
   "cell_type": "code",
   "execution_count": 3,
   "metadata": {},
   "outputs": [
    {
     "name": "stdout",
     "output_type": "stream",
     "text": [
      "4\n"
     ]
    }
   ],
   "source": [
    "N, M, K = map(int, input().split())\n",
    "\n",
    "road = [[0] * M for _ in range(N)] \n",
    "for _ in range(K):\n",
    "    r, c = map(int, input().split())\n",
    "    road[r-1][c-1] = 1\n",
    "\n",
    "\n",
    "def dfs(road, n, m):\n",
    "    to_visit = []\n",
    "    to_visit.append((n, m))\n",
    "    \n",
    "    cnt = 0\n",
    "    while to_visit:\n",
    "        n, m = to_visit.pop()\n",
    "        if road[n][m] == 1:\n",
    "            road[n][m] = 0\n",
    "            cnt += 1    \n",
    "            for dn, dm in [(+1, 0), (-1, 0), (0, +1), (0, -1)]:\n",
    "                if 0 <= (n + dn) < N and 0 <= (m + dm) < M \\\n",
    "                   and road[n + dn][m + dm] == 1:\n",
    "                    to_visit.append((n + dn, m + dm))\n",
    "                    \n",
    "    return cnt\n",
    "\n",
    "cnt = 0\n",
    "for n in range(N):\n",
    "    for m in range(M):\n",
    "        if road[n][m] == 1:\n",
    "            tmp = dfs(road, n, m)\n",
    "            cnt = max(cnt, tmp)\n",
    "\n",
    "print(cnt)   "
   ]
  }
 ],
 "metadata": {
  "kernelspec": {
   "display_name": "Python 3",
   "language": "python",
   "name": "python3"
  },
  "language_info": {
   "codemirror_mode": {
    "name": "ipython",
    "version": 3
   },
   "file_extension": ".py",
   "mimetype": "text/x-python",
   "name": "python",
   "nbconvert_exporter": "python",
   "pygments_lexer": "ipython3",
   "version": "3.10.11"
  }
 },
 "nbformat": 4,
 "nbformat_minor": 2
}
