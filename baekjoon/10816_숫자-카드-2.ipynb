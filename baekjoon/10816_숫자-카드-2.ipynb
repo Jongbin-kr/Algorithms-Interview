{
 "cells": [
  {
   "cell_type": "markdown",
   "metadata": {},
   "source": [
    "시간 초과된 코드\n",
    "- 정렬하는 부분에서 $O(N \\log N)$, index 메소드가 $O(N)$\n",
    "    - 최종적으로 $O(N \\log N) + O(2MN)$\n",
    "    - M, N이 모두 최대 500,000이므로 M * N = 250,000,000,000 >>> 2천만번 연산이므로 타임아웃될 수 밖에 없다..."
   ]
  },
  {
   "cell_type": "code",
   "execution_count": 11,
   "metadata": {},
   "outputs": [
    {
     "name": "stdout",
     "output_type": "stream",
     "text": [
      "3 0 0 1 2 0 0 2\n"
     ]
    }
   ],
   "source": [
    "import sys\n",
    "input = sys.stdin.readline\n",
    "\n",
    "N = int(input())\n",
    "cards = sorted(map(int, input().split()))\n",
    "reversed_cards = cards[::-1]\n",
    "\n",
    "M = int(input())\n",
    "targets = map(int, input().split())\n",
    "\n",
    "result = []\n",
    "for target in targets:\n",
    "    if target not in cards:\n",
    "        result.append(0)\n",
    "        continue\n",
    "    min_idx = cards.index(target)\n",
    "    max_idx = len(cards) - reversed_cards.index(target) - 1\n",
    "    result.append(max_idx - min_idx + 1)\n",
    "    \n",
    "print(*result)"
   ]
  },
  {
   "cell_type": "markdown",
   "metadata": {},
   "source": [
    "counter를 써볼까? -> 이걸로도 풀리네!"
   ]
  },
  {
   "cell_type": "code",
   "execution_count": 3,
   "metadata": {},
   "outputs": [
    {
     "name": "stdout",
     "output_type": "stream",
     "text": [
      "Counter({10: 3, 3: 2, -10: 2, 6: 1, 2: 1, 7: 1})\n",
      "3 0 0 1 2 0 0 2\n"
     ]
    }
   ],
   "source": [
    "# import sys\n",
    "# input = sys.stdin.readline\n",
    "\n",
    "from collections import Counter\n",
    "\n",
    "N = int(input())\n",
    "counter = Counter(map(int, input().split()))\n",
    "\n",
    "M = int(input())\n",
    "targets = map(int, input().split())\n",
    "\n",
    "result = []\n",
    "for target in targets:\n",
    "    if target in counter:\n",
    "        result.append(counter[target])\n",
    "    else:\n",
    "        result.append(0)\n",
    "        \n",
    "print(*result)"
   ]
  }
 ],
 "metadata": {
  "kernelspec": {
   "display_name": "Python 3",
   "language": "python",
   "name": "python3"
  },
  "language_info": {
   "codemirror_mode": {
    "name": "ipython",
    "version": 3
   },
   "file_extension": ".py",
   "mimetype": "text/x-python",
   "name": "python",
   "nbconvert_exporter": "python",
   "pygments_lexer": "ipython3",
   "version": "3.10.11"
  }
 },
 "nbformat": 4,
 "nbformat_minor": 2
}
