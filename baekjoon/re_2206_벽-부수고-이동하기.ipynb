{
 "cells": [
  {
   "cell_type": "markdown",
   "metadata": {},
   "source": [
    "벽을 언제 부술지 어떻게 결정하지?"
   ]
  },
  {
   "cell_type": "code",
   "execution_count": null,
   "metadata": {},
   "outputs": [],
   "source": [
    "from heapq import heappop, heappush\n",
    "from typing import *\n",
    "\n",
    "## graph input\n",
    "# N, M = map(int, input().split())\n",
    "# world = []\n",
    "# for _ in range(N):\n",
    "#     row = list(map(int, list(input())))\n",
    "#     world.append(row)\n",
    "\n",
    "\n",
    "N = 6; M = 4\n",
    "world = [\n",
    " [0, 1, 0, 0],\n",
    " [1, 1, 1, 0],\n",
    " [1, 0, 0, 0],\n",
    " [0, 0, 0, 0],\n",
    " [0, 1, 1, 1],\n",
    " [0, 0, 0, 0]]\n",
    "\n",
    "min_dists = [[float('inf')] * M for _ in range(N)]\n",
    "\n",
    "\n",
    "## dijkstra\n",
    "def dijkstra(start_y, start_x):\n",
    "    \n",
    "    to_visit = []\n",
    "    visited = []\n",
    "    heappush(to_visit, (1, start_y, start_x))\n",
    "    min_dists[start_y][start_x] = 1\n",
    "    \n",
    "    while to_visit:\n",
    "        dist, y, x = heappop(to_visit)\n",
    "        \n",
    "        if min_dists[y][x] < dist:\n",
    "            continue\n",
    "        \n",
    "        for dy, dx in [(+1, 0), (-1, 0), (0, +1), (0, -1)]:\n",
    "            if (0 <= y+dy < N) and (0 <= x+dx < M) and (world[y+dy][x+dx] == 0):\n",
    "                if dist+1 < min_dists[y+dy][x+dx]:\n",
    "                    min_dists[y+dy][x+dx] = dist+1\n",
    "                    heappush(to_visit, (dist+1, y+dy, x+dx))\n",
    "\n",
    "\n",
    "\n",
    "\n"
   ]
  },
  {
   "cell_type": "markdown",
   "metadata": {},
   "source": [
    "최단경로라고 반드시 최단경로 알고리즘을 써야하는 건 아니구나. (다익스트라는 one -> all)"
   ]
  },
  {
   "cell_type": "code",
   "execution_count": null,
   "metadata": {},
   "outputs": [
    {
     "data": {
      "text/plain": [
       "15"
      ]
     },
     "execution_count": 28,
     "metadata": {},
     "output_type": "execute_result"
    }
   ],
   "source": [
    "from collections import deque\n",
    "\n",
    "## graph input\n",
    "N, M = map(int, input().split())\n",
    "graph = []\n",
    "for _ in range(N):\n",
    "    row = list(map(int, list(input())))\n",
    "    graph.append(row)\n",
    "\n",
    "\n",
    "visited = [[[0] * M for _ in range(N)] for _ in range(2)]\n",
    "\n",
    "def bfs(start_z, start_y, start_x):\n",
    "    to_visit = deque()\n",
    "    to_visit.append((start_z, start_y, start_x))\n",
    "    visited[start_z][start_y][start_x] = 1\n",
    "    \n",
    "    while to_visit:\n",
    "        z, y, x= to_visit.popleft()\n",
    "        \n",
    "        if (y == N-1) and (x == M-1):\n",
    "            return visited[z][y][x]\n",
    "        \n",
    "        for dy, dx in [(+1, 0), (-1, 0), (0, +1), (0, -1)]:\n",
    "            if 0 <= y+dy < N and 0 <= x+dx < M:\n",
    "                if graph[y+dy][x+dx] == 1 and z == 0:\n",
    "                    visited[z+1][y][x] = visited[z][y][x]\n",
    "                    visited[z+1][y+dy][x+dx] = visited[z][y][x] + 1\n",
    "                    to_visit.append((1, y+dy, x+dx))\n",
    "                \n",
    "                elif graph[y+dy][x+dx] == 0 and visited[z][y+dy][x+dx] == 0:\n",
    "                    visited[z][y+dy][x+dx] = visited[z][y][x] + 1\n",
    "                    to_visit.append((z, y+dy, x+dx))\n",
    "        \n",
    "    return -1\n",
    "                \n",
    "\n",
    "print(bfs(0, 0, 0))"
   ]
  },
  {
   "cell_type": "code",
   "execution_count": 25,
   "metadata": {},
   "outputs": [
    {
     "data": {
      "text/plain": [
       "[[[1, 0, 0, 0],\n",
       "  [0, 0, 0, 0],\n",
       "  [0, 0, 0, 0],\n",
       "  [0, 0, 0, 0],\n",
       "  [0, 0, 0, 0],\n",
       "  [0, 0, 0, 0]],\n",
       " [[1, 2, 3, 4],\n",
       "  [2, 0, 0, 5],\n",
       "  [0, 8, 7, 6],\n",
       "  [10, 9, 8, 7],\n",
       "  [11, 0, 0, 0],\n",
       "  [12, 13, 14, 15]]]"
      ]
     },
     "execution_count": 25,
     "metadata": {},
     "output_type": "execute_result"
    }
   ],
   "source": [
    "visited"
   ]
  }
 ],
 "metadata": {
  "kernelspec": {
   "display_name": "Python 3",
   "language": "python",
   "name": "python3"
  },
  "language_info": {
   "codemirror_mode": {
    "name": "ipython",
    "version": 3
   },
   "file_extension": ".py",
   "mimetype": "text/x-python",
   "name": "python",
   "nbconvert_exporter": "python",
   "pygments_lexer": "ipython3",
   "version": "3.10.11"
  }
 },
 "nbformat": 4,
 "nbformat_minor": 2
}
