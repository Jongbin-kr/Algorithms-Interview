{
 "cells": [
  {
   "cell_type": "markdown",
   "metadata": {},
   "source": [
    "딱봐도 dp 문제다\n",
    "\n",
    "- dp풀 때, 초기값들은 반복문 안에서 정의하는 게 오류날 일이 더 적은 것 같다!"
   ]
  },
  {
   "cell_type": "code",
   "execution_count": 5,
   "metadata": {},
   "outputs": [
    {
     "name": "stdout",
     "output_type": "stream",
     "text": [
      "2\n"
     ]
    }
   ],
   "source": [
    "# import sys; input = lambda: sys.stdin.readline().rstrip()\n",
    "n = int(input())\n",
    "\n",
    "memo = [float('inf')] * (n+1)\n",
    "\n",
    "\n",
    "for i in range(1, n+1):\n",
    "    if i == 1:\n",
    "        memo[i] = 1\n",
    "    elif i == 2:\n",
    "        memo[i] = 2\n",
    "    else:\n",
    "        memo[i] = (memo[i-1] + memo[i-2]) % 10_007\n",
    "\n",
    "print(memo[n])"
   ]
  },
  {
   "cell_type": "markdown",
   "metadata": {},
   "source": [
    "다른 풀이"
   ]
  },
  {
   "cell_type": "code",
   "execution_count": null,
   "metadata": {},
   "outputs": [],
   "source": [
    "n = int(input()); a = 1; b = 1; i = 2\n",
    "while i <= n:\n",
    "    a, b = b % 10007, (a + b) % 10007\n",
    "    i += 1\n",
    "print(b)"
   ]
  }
 ],
 "metadata": {
  "kernelspec": {
   "display_name": "Python 3",
   "language": "python",
   "name": "python3"
  },
  "language_info": {
   "codemirror_mode": {
    "name": "ipython",
    "version": 3
   },
   "file_extension": ".py",
   "mimetype": "text/x-python",
   "name": "python",
   "nbconvert_exporter": "python",
   "pygments_lexer": "ipython3",
   "version": "3.10.11"
  }
 },
 "nbformat": 4,
 "nbformat_minor": 2
}
