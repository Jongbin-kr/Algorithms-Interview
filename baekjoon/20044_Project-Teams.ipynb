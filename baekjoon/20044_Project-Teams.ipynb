{
 "cells": [
  {
   "cell_type": "markdown",
   "metadata": {},
   "source": [
    "- 참고: https://cs.stackexchange.com/questions/124596/n-numbers-n-2-pairs-minimizing-the-maximum-sum-of-a-pairing-proving-greedy-al"
   ]
  },
  {
   "cell_type": "code",
   "execution_count": 3,
   "metadata": {},
   "outputs": [
    {
     "name": "stdout",
     "output_type": "stream",
     "text": [
      "8\n"
     ]
    }
   ],
   "source": [
    "n = int(input())\n",
    "l = sorted(map(int, input().split()))\n",
    "\n",
    "min = float('inf')\n",
    "\n",
    "for i in range(n):\n",
    "    left = l[i]\n",
    "    right = l[len(l) - 1 - i]\n",
    "    sum = left + right\n",
    "    \n",
    "    if sum < min:\n",
    "        min = sum\n",
    "\n",
    "print(min)"
   ]
  }
 ],
 "metadata": {
  "kernelspec": {
   "display_name": "Python 3",
   "language": "python",
   "name": "python3"
  },
  "language_info": {
   "codemirror_mode": {
    "name": "ipython",
    "version": 3
   },
   "file_extension": ".py",
   "mimetype": "text/x-python",
   "name": "python",
   "nbconvert_exporter": "python",
   "pygments_lexer": "ipython3",
   "version": "3.10.11"
  }
 },
 "nbformat": 4,
 "nbformat_minor": 2
}
