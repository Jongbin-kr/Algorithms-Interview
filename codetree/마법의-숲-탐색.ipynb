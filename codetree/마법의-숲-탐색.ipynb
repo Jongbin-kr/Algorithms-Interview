{
 "cells": [
  {
   "cell_type": "code",
   "execution_count": null,
   "metadata": {},
   "outputs": [],
   "source": [
    "R, C, K = map(int, input().split())\n",
    "world = [[0] * C for _ in range(R+3)]\n",
    "\n",
    "def move_golem(y, x, d):\n",
    "    if y+2\n",
    "\n",
    "for _ in range(K):\n",
    "    x, d = map(int, input().split())\n",
    "    y = 1\n",
    "    \n",
    "    while True:\n",
    "        move_golem(y, x, d)\n",
    "    "
   ]
  }
 ],
 "metadata": {
  "kernelspec": {
   "display_name": "Python 3",
   "language": "python",
   "name": "python3"
  },
  "language_info": {
   "codemirror_mode": {
    "name": "ipython",
    "version": 3
   },
   "file_extension": ".py",
   "mimetype": "text/x-python",
   "name": "python",
   "nbconvert_exporter": "python",
   "pygments_lexer": "ipython3",
   "version": "3.10.11"
  }
 },
 "nbformat": 4,
 "nbformat_minor": 2
}
